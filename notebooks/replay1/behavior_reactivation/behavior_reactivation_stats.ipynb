{
 "cells": [
  {
   "cell_type": "code",
   "execution_count": 90,
   "metadata": {
    "init_cell": true
   },
   "outputs": [
    {
     "name": "stdout",
     "output_type": "stream",
     "text": [
      "The rpy2.ipython extension is already loaded. To reload it, use:\n",
      "  %reload_ext rpy2.ipython\n",
      "\n",
      "Jupyter connect hash:\n",
      "always\n",
      "\n",
      "To get matching file:\n",
      "    $> python -c \"import jzap.misc; print(jzap.misc.notebook_file('always', '/home/jeff/.local/share/jupyter/runtime'))\"\n",
      "To connect to existing notebook:\n",
      "    $> jupyter console --existing FILE\n",
      "    \n",
      "\n",
      "Last run: 2018-05-18-20h49m48s\n"
     ]
    }
   ],
   "source": [
    "# %matplotlib notebook\n",
    "%matplotlib inline\n",
    "\n",
    "%load_ext rpy2.ipython\n",
    "\n",
    "# %connect_info\n",
    "\n",
    "import jzap.misc\n",
    "text = \"\"\"\n",
    "Jupyter connect hash:\n",
    "{word}\n",
    "\n",
    "To get matching file:\n",
    "    $> python -c \"import jzap.misc; print(jzap.misc.notebook_file('{word}', '/home/jeff/.local/share/jupyter/runtime'))\"\n",
    "To connect to existing notebook:\n",
    "    $> jupyter console --existing FILE\n",
    "    \n",
    "\"\"\"\n",
    "print(text.format(word=jzap.misc.notebook_word()))\n",
    "print(\"Last run: {}\".format(jzap.misc.timestamp()))"
   ]
  },
  {
   "cell_type": "code",
   "execution_count": 91,
   "metadata": {
    "init_cell": true
   },
   "outputs": [
    {
     "name": "stdout",
     "output_type": "stream",
     "text": [
      "Index([u'mouse', u'date', u'day_sum_eqdist_0_1_plus',\n",
      "       u'day_frac_eqdist_0_1_plus', u'day_sum_eqdist_0_1_minus',\n",
      "       u'day_frac_eqdist_0_1_minus', u'dprime', u'hmm_dprime',\n",
      "       u'hmm_dprime_noneutral', u'hmm_dprime_run2', u'hmm_dprime_run3',\n",
      "       u'hmm_dprime_run4', u'hmm_engagement', u'training_licks',\n",
      "       u'lick_latency', u'running', u'replay_freq_0_1_plus',\n",
      "       u'replay_freq_0_1_neutral', u'replay_freq_0_1_minus', u'n_stimuli_plus',\n",
      "       u'n_stimuli_neutral', u'n_stimuli_minus', u'n_ensure', u'ncorrect_plus',\n",
      "       u'ncorrect_minus', u'ncorrect_neutral', u'nfalse_plus', u'nfalse_minus',\n",
      "       u'nfalse_neutral', u'hmm_ncorrect_plus', u'hmm_ncorrect_minus',\n",
      "       u'hmm_ncorrect_neutral', u'hmm_nfalse_plus', u'hmm_nfalse_minus',\n",
      "       u'hmm_nfalse_neutral', u'hmm_nfalse_all', u'hmm_ncorrect_all',\n",
      "       u'fraction_visually_driven_50_plus',\n",
      "       u'fraction_visually_driven_50_minus',\n",
      "       u'fraction_visually_driven_50_neutral',\n",
      "       u'fraction_visually_driven_30_plus',\n",
      "       u'fraction_visually_driven_30_minus',\n",
      "       u'fraction_visually_driven_30_neutral', u'LR', u'criterion', u'hmm_LR',\n",
      "       u'hmm_criterion', u'hmm_relative_criterion', u'graph_clustering',\n",
      "       u'hmm_behavior', u'hmm_behavior_plus', u'hmm_behavior_minus',\n",
      "       u'hmm_behavior_neutral', u'hmm_behavior_pm', u'behavior',\n",
      "       u'behavior_plus', u'behavior_minus', u'behavior_neutral', u'phase',\n",
      "       u'behavior_fa', u'behavior_miss', u'hmm_behavior_fa',\n",
      "       u'hmm_behavior_miss', u'd_hmm_dprime_same_day', u'day_in_phase',\n",
      "       u'd_behav_minus_next', u'd_behav_minus_prev', u'd_behav_neutral_next',\n",
      "       u'd_behav_neutral_prev', u'd_behav_plus_next', u'd_behav_plus_prev',\n",
      "       u'd_day_next', u'd_day_prev', u'd_fa_next', u'd_fa_prev',\n",
      "       u'd_hmm_behav_minus_next', u'd_hmm_behav_minus_prev',\n",
      "       u'd_hmm_behav_neutral_next', u'd_hmm_behav_neutral_prev',\n",
      "       u'd_hmm_behav_plus_next', u'd_hmm_behav_plus_prev',\n",
      "       u'd_hmm_criterion_next', u'd_hmm_criterion_prev', u'd_hmm_dprime_next',\n",
      "       u'd_hmm_dprime_next_day', u'd_hmm_dprime_prev', u'd_miss_next',\n",
      "       u'd_miss_prev', u'hmm_dprime_next', u'hmm_dprime_prev', u'phase_mouse',\n",
      "       u'phase_day', u'day', u'replay_freq_0_1_pm', u'replay_freq_0_1_all',\n",
      "       u'd_day_next_3', u'd_day_prev_3'],\n",
      "      dtype='object')\n",
      "  mouse       date  day_sum_eqdist_0_1_plus  day_frac_eqdist_0_1_plus  \\\n",
      "0  AS20 2016-08-16                      NaN                       NaN   \n",
      "1  AS20 2016-08-18                      NaN                       NaN   \n",
      "2  AS20 2016-08-19                      NaN                       NaN   \n",
      "3  AS20 2016-08-22                     0.33                       1.0   \n",
      "4  AS20 2016-08-23                     0.00                       0.5   \n",
      "\n",
      "   day_sum_eqdist_0_1_minus  day_frac_eqdist_0_1_minus  dprime  hmm_dprime  \\\n",
      "0                      0.17                       1.00   3.278       3.288   \n",
      "1                      0.08                       0.50   3.863       3.873   \n",
      "2                      0.21                       1.00   1.931       2.581   \n",
      "3                      0.17                       0.40   3.696       3.709   \n",
      "4                      0.06                       0.57   3.961       2.282   \n",
      "\n",
      "   hmm_dprime_noneutral  hmm_dprime_run2      ...       d_miss_prev  \\\n",
      "0                  3.44             2.75      ...               NaN   \n",
      "1                  3.74             3.27      ...              0.00   \n",
      "2                  2.64             2.34      ...              0.19   \n",
      "3                  3.71             3.67      ...             -0.18   \n",
      "4                  1.90             4.00      ...             -0.01   \n",
      "\n",
      "   hmm_dprime_next  hmm_dprime_prev  phase_mouse   phase_day  day  \\\n",
      "0            3.873              NaN   A_pre_AS20  (A_pre, 0)    0   \n",
      "1            2.581            3.288   A_pre_AS20  (A_pre, 1)    1   \n",
      "2            3.709            3.873   A_pre_AS20  (A_pre, 2)    2   \n",
      "3            2.282            2.581   A_pre_AS20  (A_pre, 3)    3   \n",
      "4            3.880            3.709   A_pre_AS20  (A_pre, 4)    4   \n",
      "\n",
      "   replay_freq_0_1_pm  replay_freq_0_1_all  d_day_next_3  d_day_prev_3  \n",
      "0            0.000788             0.000788           2.0           NaN  \n",
      "1            0.002872             0.002872           1.0           2.0  \n",
      "2            0.000814             0.000814           3.0           1.0  \n",
      "3            0.002687             0.005374           1.0           3.0  \n",
      "4            0.003810             0.004657           2.0           1.0  \n",
      "\n",
      "[5 rows x 97 columns]\n"
     ]
    }
   ],
   "source": [
    "import numpy as np\n",
    "import scipy.stats\n",
    "import statsmodels.api as sm\n",
    "from statsmodels.formula.api import ols, mixedlm\n",
    "from statsmodels.stats.anova import anova_lm\n",
    "import patsy\n",
    "import matplotlib.pyplot as plt\n",
    "import seaborn as sns\n",
    "\n",
    "import jzap\n",
    "import replay.lib.settings\n",
    "\n",
    "import warnings\n",
    "warnings.filterwarnings('ignore')\n",
    "\n",
    "# path = '/lab/data/behavior_replay_180316.txt'\n",
    "path = '/lab/data/behavior_replay_180518.txt'\n",
    "\n",
    "data = jzap.misc.load_table(path)\n",
    "print(data.columns)\n",
    "print(data.head())"
   ]
  },
  {
   "cell_type": "code",
   "execution_count": 92,
   "metadata": {
    "init_cell": true
   },
   "outputs": [],
   "source": [
    "colors = replay.lib.settings.colors()"
   ]
  },
  {
   "cell_type": "markdown",
   "metadata": {},
   "source": [
    "## Reactivation driven by task performance"
   ]
  },
  {
   "cell_type": "code",
   "execution_count": 4,
   "metadata": {},
   "outputs": [
    {
     "name": "stdout",
     "output_type": "stream",
     "text": [
      "                 Mixed Linear Model Regression Results\n",
      "=======================================================================\n",
      "Model:              MixedLM   Dependent Variable:   replay_freq_0_1_all\n",
      "No. Observations:   92        Method:               REML               \n",
      "No. Groups:         8         Scale:                0.0001             \n",
      "Min. group size:    7         Likelihood:           252.1824           \n",
      "Max. group size:    21        Converged:            Yes                \n",
      "Mean group size:    11.5                                               \n",
      "-----------------------------------------------------------------------\n",
      "                             Coef.  Std.Err.   z    P>|z| [0.025 0.975]\n",
      "-----------------------------------------------------------------------\n",
      "Intercept                     0.021    0.004  5.141 0.000  0.013  0.029\n",
      "hmm_dprime                   -0.004    0.001 -2.808 0.005 -0.007 -0.001\n",
      "d_hmm_dprime_prev             0.002    0.002  1.277 0.202 -0.001  0.006\n",
      "hmm_dprime:d_hmm_dprime_prev -0.000    0.001 -0.318 0.751 -0.002  0.001\n",
      "Group RE                      0.000    0.004                           \n",
      "=======================================================================\n",
      "\n"
     ]
    }
   ],
   "source": [
    "# formula = 'replay_freq_0_1_all ~ hmm_dprime * d_hmm_dprime_prev'\n",
    "# lm = ols(formula, data).fit()\n",
    "# print(lm.summary2())\n",
    "# print(anova_lm(lm))\n",
    "\n",
    "formula = 'replay_freq_0_1_all ~ hmm_dprime * d_hmm_dprime_prev'\n",
    "\n",
    "data_sub = data[['replay_freq_0_1_all', 'hmm_dprime', 'd_hmm_dprime_prev',\n",
    "                 'mouse']]\n",
    "data_sub.dropna(inplace=True)\n",
    "md = mixedlm(formula, data_sub, groups='mouse', re_formula='1').fit()\n",
    "print(md.summary())"
   ]
  },
  {
   "cell_type": "code",
   "execution_count": 5,
   "metadata": {},
   "outputs": [
    {
     "name": "stdout",
     "output_type": "stream",
     "text": [
      "               Mixed Linear Model Regression Results\n",
      "===================================================================\n",
      "Model:              MixedLM Dependent Variable: replay_freq_0_1_all\n",
      "No. Observations:   92      Method:             REML               \n",
      "No. Groups:         8       Scale:              0.0001             \n",
      "Min. group size:    7       Likelihood:         255.1125           \n",
      "Max. group size:    21      Converged:          Yes                \n",
      "Mean group size:    11.5                                           \n",
      "-------------------------------------------------------------------\n",
      "                         Coef.  Std.Err.   z    P>|z| [0.025 0.975]\n",
      "-------------------------------------------------------------------\n",
      "Intercept                 0.013    0.004  3.675 0.000  0.006  0.020\n",
      "d_hmm_behav_plus_prev     0.006    0.008  0.765 0.444 -0.010  0.022\n",
      "d_hmm_behav_neutral_prev -0.002    0.010 -0.181 0.857 -0.022  0.018\n",
      "d_hmm_behav_minus_prev   -0.008    0.009 -0.864 0.387 -0.027  0.010\n",
      "Group RE                  0.000    0.005                           \n",
      "===================================================================\n",
      "\n"
     ]
    }
   ],
   "source": [
    "formula = 'replay_freq_0_1_all ~ d_hmm_behav_plus_prev + d_hmm_behav_neutral_prev + d_hmm_behav_minus_prev'\n",
    "\n",
    "data_sub = data[['replay_freq_0_1_all', 'd_hmm_behav_plus_prev',\n",
    "                 'd_hmm_behav_minus_prev', 'd_hmm_behav_neutral_prev',\n",
    "                 'mouse']]\n",
    "data_sub.dropna(inplace=True)\n",
    "md = mixedlm(formula, data_sub, groups='mouse', re_formula='1').fit()\n",
    "print(md.summary())"
   ]
  },
  {
   "cell_type": "code",
   "execution_count": 6,
   "metadata": {},
   "outputs": [
    {
     "name": "stdout",
     "output_type": "stream",
     "text": [
      "               Mixed Linear Model Regression Results\n",
      "===================================================================\n",
      "Model:             MixedLM Dependent Variable: replay_freq_0_1_plus\n",
      "No. Observations:  101     Method:             REML                \n",
      "No. Groups:        8       Scale:              0.0000              \n",
      "Min. group size:   8       Likelihood:         349.8114            \n",
      "Max. group size:   22      Converged:          Yes                 \n",
      "Mean group size:   12.6                                            \n",
      "-------------------------------------------------------------------\n",
      "                         Coef.  Std.Err.   z    P>|z| [0.025 0.975]\n",
      "-------------------------------------------------------------------\n",
      "Intercept                 0.005    0.002  2.882 0.004  0.002  0.009\n",
      "d_hmm_behav_plus_prev     0.002    0.004  0.509 0.611 -0.006  0.010\n",
      "d_hmm_behav_neutral_prev  0.002    0.005  0.467 0.640 -0.007  0.012\n",
      "d_hmm_behav_minus_prev   -0.006    0.005 -1.386 0.166 -0.016  0.003\n",
      "Group RE                  0.000    0.002                           \n",
      "===================================================================\n",
      "\n"
     ]
    }
   ],
   "source": [
    "formula = 'replay_freq_0_1_plus ~ d_hmm_behav_plus_prev + d_hmm_behav_neutral_prev + d_hmm_behav_minus_prev'\n",
    "\n",
    "data_sub = data[['replay_freq_0_1_plus', 'd_hmm_behav_plus_prev',\n",
    "                 'd_hmm_behav_minus_prev', 'd_hmm_behav_neutral_prev',\n",
    "                 'mouse']]\n",
    "data_sub.dropna(inplace=True)\n",
    "md = mixedlm(formula, data_sub, groups='mouse', re_formula='1').fit()\n",
    "print(md.summary())"
   ]
  },
  {
   "cell_type": "code",
   "execution_count": 7,
   "metadata": {},
   "outputs": [
    {
     "name": "stdout",
     "output_type": "stream",
     "text": [
      "              Mixed Linear Model Regression Results\n",
      "=================================================================\n",
      "Model:            MixedLM Dependent Variable: replay_freq_0_1_all\n",
      "No. Observations: 102     Method:             REML               \n",
      "No. Groups:       8       Scale:              0.0001             \n",
      "Min. group size:  7       Likelihood:         293.6569           \n",
      "Max. group size:  23      Converged:          Yes                \n",
      "Mean group size:  12.8                                           \n",
      "-------------------------------------------------------------------\n",
      "                 Coef.   Std.Err.     z     P>|z|   [0.025   0.975]\n",
      "-------------------------------------------------------------------\n",
      "Intercept        0.006      0.004   1.609   0.108   -0.001    0.013\n",
      "behavior_fa      0.026      0.009   2.912   0.004    0.008    0.043\n",
      "behavior_miss    0.005      0.004   1.126   0.260   -0.004    0.013\n",
      "Group RE         0.000      0.003                                  \n",
      "=================================================================\n",
      "\n"
     ]
    }
   ],
   "source": [
    "formula = 'replay_freq_0_1_all ~ behavior_fa + behavior_miss'\n",
    "\n",
    "data_sub = data[['replay_freq_0_1_all', 'behavior_fa', 'behavior_miss',\n",
    "                 'mouse']]\n",
    "data_sub.dropna(inplace=True)\n",
    "md = mixedlm(formula, data_sub, groups='mouse', re_formula='1').fit()\n",
    "print(md.summary())"
   ]
  },
  {
   "cell_type": "code",
   "execution_count": 8,
   "metadata": {},
   "outputs": [
    {
     "name": "stdout",
     "output_type": "stream",
     "text": [
      "              Mixed Linear Model Regression Results\n",
      "=================================================================\n",
      "Model:            MixedLM Dependent Variable: replay_freq_0_1_all\n",
      "No. Observations: 103     Method:             REML               \n",
      "No. Groups:       8       Scale:              0.0001             \n",
      "Min. group size:  7       Likelihood:         297.9808           \n",
      "Max. group size:  23      Converged:          Yes                \n",
      "Mean group size:  12.9                                           \n",
      "------------------------------------------------------------------\n",
      "                     Coef.  Std.Err.    z    P>|z|  [0.025  0.975]\n",
      "------------------------------------------------------------------\n",
      "Intercept            0.006     0.004  1.827  0.068  -0.000   0.013\n",
      "hmm_behavior_fa      0.023     0.008  2.949  0.003   0.008   0.039\n",
      "hmm_behavior_miss    0.001     0.008  0.121  0.904  -0.014   0.016\n",
      "Group RE             0.000     0.003                              \n",
      "=================================================================\n",
      "\n"
     ]
    }
   ],
   "source": [
    "formula = 'replay_freq_0_1_all ~ hmm_behavior_fa + hmm_behavior_miss'\n",
    "\n",
    "data_sub = data[['replay_freq_0_1_all', 'hmm_behavior_fa', 'hmm_behavior_miss',\n",
    "                 'mouse']]\n",
    "data_sub.dropna(inplace=True)\n",
    "md = mixedlm(formula, data_sub, groups='mouse', re_formula='1').fit()\n",
    "print(md.summary())"
   ]
  },
  {
   "cell_type": "code",
   "execution_count": 9,
   "metadata": {},
   "outputs": [
    {
     "name": "stdout",
     "output_type": "stream",
     "text": [
      "              Mixed Linear Model Regression Results\n",
      "=================================================================\n",
      "Model:            MixedLM Dependent Variable: replay_freq_0_1_all\n",
      "No. Observations: 91      Method:             REML               \n",
      "No. Groups:       8       Scale:              0.0001             \n",
      "Min. group size:  7       Likelihood:         254.2423           \n",
      "Max. group size:  21      Converged:          Yes                \n",
      "Mean group size:  11.4                                           \n",
      "-------------------------------------------------------------------\n",
      "               Coef.    Std.Err.     z      P>|z|   [0.025   0.975]\n",
      "-------------------------------------------------------------------\n",
      "Intercept       0.013      0.004    3.627   0.000    0.006    0.020\n",
      "d_fa_prev       0.006      0.009    0.658   0.511   -0.012    0.024\n",
      "d_miss_prev    -0.000      0.004   -0.001   0.999   -0.009    0.009\n",
      "Group RE        0.000      0.005                                   \n",
      "=================================================================\n",
      "\n"
     ]
    }
   ],
   "source": [
    "formula = 'replay_freq_0_1_all ~ d_fa_prev + d_miss_prev'\n",
    "\n",
    "data_sub = data[['replay_freq_0_1_all', 'd_fa_prev', 'd_miss_prev',\n",
    "                 'mouse']]\n",
    "data_sub.dropna(inplace=True)\n",
    "md = mixedlm(formula, data_sub, groups='mouse', re_formula='1').fit()\n",
    "print(md.summary())"
   ]
  },
  {
   "cell_type": "code",
   "execution_count": 10,
   "metadata": {},
   "outputs": [
    {
     "name": "stdout",
     "output_type": "stream",
     "text": [
      "               Mixed Linear Model Regression Results\n",
      "===================================================================\n",
      "Model:              MixedLM Dependent Variable: replay_freq_0_1_all\n",
      "No. Observations:   92      Method:             REML               \n",
      "No. Groups:         8       Scale:              0.0001             \n",
      "Min. group size:    7       Likelihood:         254.3957           \n",
      "Max. group size:    21      Converged:          Yes                \n",
      "Mean group size:    11.5                                           \n",
      "-------------------------------------------------------------------\n",
      "                         Coef.  Std.Err.   z    P>|z| [0.025 0.975]\n",
      "-------------------------------------------------------------------\n",
      "Intercept                 0.005    0.004  1.201 0.230 -0.003  0.012\n",
      "d_hmm_behav_plus_prev     0.003    0.010  0.325 0.745 -0.016  0.023\n",
      "d_hmm_behav_neutral_prev  0.009    0.010  0.922 0.357 -0.010  0.029\n",
      "d_hmm_behav_minus_prev   -0.003    0.009 -0.285 0.775 -0.021  0.016\n",
      "hmm_behavior_fa           0.034    0.010  3.201 0.001  0.013  0.054\n",
      "hmm_behavior_miss         0.000    0.012  0.019 0.985 -0.024  0.024\n",
      "Group RE                  0.000    0.004                           \n",
      "===================================================================\n",
      "\n"
     ]
    }
   ],
   "source": [
    "formula = 'replay_freq_0_1_all ~ d_hmm_behav_plus_prev + d_hmm_behav_neutral_prev + d_hmm_behav_minus_prev + hmm_behavior_fa + hmm_behavior_miss'\n",
    "\n",
    "data_sub = data[['replay_freq_0_1_all', 'd_hmm_behav_plus_prev',\n",
    "                 'd_hmm_behav_minus_prev', 'd_hmm_behav_neutral_prev',\n",
    "                 'mouse', 'hmm_behavior_fa', 'hmm_behavior_miss']]\n",
    "data_sub.dropna(inplace=True)\n",
    "md = mixedlm(formula, data_sub, groups='mouse', re_formula='1').fit()\n",
    "print(md.summary())"
   ]
  },
  {
   "cell_type": "code",
   "execution_count": 11,
   "metadata": {
    "scrolled": false
   },
   "outputs": [
    {
     "name": "stdout",
     "output_type": "stream",
     "text": [
      "                    Results: Ordinary least squares\n",
      "=======================================================================\n",
      "Model:               OLS                 Adj. R-squared:     0.189     \n",
      "Dependent Variable:  replay_freq_0_1_all AIC:                -531.9022 \n",
      "Date:                2018-05-18 13:55    BIC:                -516.7714 \n",
      "No. Observations:    92                  Log-Likelihood:     271.95    \n",
      "Df Model:            5                   F-statistic:        5.228     \n",
      "Df Residuals:        86                  Prob (F-statistic): 0.000308  \n",
      "R-squared:           0.233               Scale:              0.00016954\n",
      "-----------------------------------------------------------------------\n",
      "                          Coef.  Std.Err.    t    P>|t|   [0.025 0.975]\n",
      "-----------------------------------------------------------------------\n",
      "Intercept                -0.0006   0.0028 -0.2217 0.8251 -0.0061 0.0049\n",
      "d_hmm_behav_plus_prev     0.0090   0.0108  0.8350 0.4060 -0.0124 0.0305\n",
      "d_hmm_behav_neutral_prev  0.0170   0.0114  1.4890 0.1402 -0.0057 0.0397\n",
      "d_hmm_behav_minus_prev   -0.0052   0.0106 -0.4858 0.6283 -0.0262 0.0159\n",
      "hmm_behavior_fa           0.0394   0.0108  3.6541 0.0004  0.0180 0.0609\n",
      "hmm_behavior_miss         0.0137   0.0115  1.1879 0.2382 -0.0092 0.0365\n",
      "-----------------------------------------------------------------------\n",
      "Omnibus:               56.905         Durbin-Watson:            1.667  \n",
      "Prob(Omnibus):         0.000          Jarque-Bera (JB):         229.285\n",
      "Skew:                  2.048          Prob(JB):                 0.000  \n",
      "Kurtosis:              9.560          Condition No.:            12     \n",
      "=======================================================================\n",
      "\n",
      "                            df    sum_sq   mean_sq          F    PR(>F)\n",
      "d_hmm_behav_plus_prev      1.0  0.000072  0.000072   0.424631  0.516373\n",
      "d_hmm_behav_neutral_prev   1.0  0.000063  0.000063   0.370766  0.544192\n",
      "d_hmm_behav_minus_prev     1.0  0.000213  0.000213   1.258453  0.265067\n",
      "hmm_behavior_fa            1.0  0.003844  0.003844  22.673565  0.000008\n",
      "hmm_behavior_miss          1.0  0.000239  0.000239   1.411051  0.238152\n",
      "Residual                  86.0  0.014581  0.000170        NaN       NaN\n"
     ]
    }
   ],
   "source": [
    "formula = 'replay_freq_0_1_all ~ d_hmm_behav_plus_prev + d_hmm_behav_neutral_prev + d_hmm_behav_minus_prev + hmm_behavior_fa + hmm_behavior_miss'\n",
    "lm = ols(formula, data).fit()\n",
    "print(lm.summary2())\n",
    "print(anova_lm(lm))"
   ]
  },
  {
   "cell_type": "code",
   "execution_count": 12,
   "metadata": {},
   "outputs": [
    {
     "name": "stdout",
     "output_type": "stream",
     "text": [
      "                 Mixed Linear Model Regression Results\n",
      "=======================================================================\n",
      "Model:              MixedLM   Dependent Variable:   replay_freq_0_1_all\n",
      "No. Observations:   92        Method:               REML               \n",
      "No. Groups:         8         Scale:                0.0001             \n",
      "Min. group size:    7         Likelihood:           252.1824           \n",
      "Max. group size:    21        Converged:            Yes                \n",
      "Mean group size:    11.5                                               \n",
      "-----------------------------------------------------------------------\n",
      "                             Coef.  Std.Err.   z    P>|z| [0.025 0.975]\n",
      "-----------------------------------------------------------------------\n",
      "Intercept                     0.021    0.004  5.141 0.000  0.013  0.029\n",
      "d_hmm_dprime_prev             0.002    0.002  1.277 0.202 -0.001  0.006\n",
      "hmm_dprime                   -0.004    0.001 -2.808 0.005 -0.007 -0.001\n",
      "d_hmm_dprime_prev:hmm_dprime -0.000    0.001 -0.318 0.751 -0.002  0.001\n",
      "Group RE                      0.000    0.004                           \n",
      "=======================================================================\n",
      "\n"
     ]
    }
   ],
   "source": [
    "formula = 'replay_freq_0_1_all ~ d_hmm_dprime_prev * hmm_dprime'\n",
    "\n",
    "data_sub = data[['replay_freq_0_1_all', 'd_hmm_dprime_prev', 'hmm_dprime',\n",
    "                 'mouse']]\n",
    "data_sub.dropna(inplace=True)\n",
    "md = mixedlm(formula, data_sub, groups='mouse', re_formula='1').fit()\n",
    "print(md.summary())"
   ]
  },
  {
   "cell_type": "code",
   "execution_count": 13,
   "metadata": {},
   "outputs": [
    {
     "name": "stdout",
     "output_type": "stream",
     "text": [
      "              Mixed Linear Model Regression Results\n",
      "=================================================================\n",
      "Model:            MixedLM Dependent Variable: replay_freq_0_1_all\n",
      "No. Observations: 103     Method:             REML               \n",
      "No. Groups:       8       Scale:              0.0001             \n",
      "Min. group size:  7       Likelihood:         297.8465           \n",
      "Max. group size:  23      Converged:          Yes                \n",
      "Mean group size:  12.9                                           \n",
      "-------------------------------------------------------------------\n",
      "               Coef.    Std.Err.     z      P>|z|   [0.025   0.975]\n",
      "-------------------------------------------------------------------\n",
      "Intercept       0.018      0.004    4.942   0.000    0.011    0.025\n",
      "hmm_dprime     -0.003      0.001   -2.588   0.010   -0.005   -0.001\n",
      "Group RE        0.000      0.004                                   \n",
      "=================================================================\n",
      "\n"
     ]
    }
   ],
   "source": [
    "formula = 'replay_freq_0_1_all ~ hmm_dprime'\n",
    "\n",
    "data_sub = data[['replay_freq_0_1_all', 'hmm_dprime',\n",
    "                 'mouse']]\n",
    "data_sub.dropna(inplace=True)\n",
    "md = mixedlm(formula, data_sub, groups='mouse', re_formula='1').fit()\n",
    "print(md.summary())"
   ]
  },
  {
   "cell_type": "code",
   "execution_count": 14,
   "metadata": {},
   "outputs": [
    {
     "name": "stdout",
     "output_type": "stream",
     "text": [
      "               Mixed Linear Model Regression Results\n",
      "==================================================================\n",
      "Model:            MixedLM Dependent Variable: replay_freq_0_1_plus\n",
      "No. Observations: 114     Method:             REML                \n",
      "No. Groups:       8       Scale:              0.0000              \n",
      "Min. group size:  9       Likelihood:         412.7358            \n",
      "Max. group size:  24      Converged:          Yes                 \n",
      "Mean group size:  14.2                                            \n",
      "-------------------------------------------------------------------\n",
      "                    Coef.   Std.Err.    z     P>|z|  [0.025  0.975]\n",
      "-------------------------------------------------------------------\n",
      "Intercept            0.002     0.002   1.117  0.264  -0.001   0.005\n",
      "hmm_behavior_fa      0.013     0.004   3.728  0.000   0.006   0.020\n",
      "hmm_behavior_miss   -0.004     0.004  -1.124  0.261  -0.011   0.003\n",
      "Group RE             0.000     0.002                               \n",
      "==================================================================\n",
      "\n"
     ]
    }
   ],
   "source": [
    "formula = 'replay_freq_0_1_plus ~ hmm_behavior_fa + hmm_behavior_miss'\n",
    "\n",
    "data_sub = data[['replay_freq_0_1_plus', 'mouse',\n",
    "                 'hmm_behavior_fa', 'hmm_behavior_miss']]\n",
    "data_sub.dropna(inplace=True)\n",
    "md = mixedlm(formula, data_sub, groups='mouse', re_formula='1').fit()\n",
    "print(md.summary())"
   ]
  },
  {
   "cell_type": "code",
   "execution_count": 15,
   "metadata": {},
   "outputs": [
    {
     "name": "stdout",
     "output_type": "stream",
     "text": [
      "               Mixed Linear Model Regression Results\n",
      "===================================================================\n",
      "Model:            MixedLM Dependent Variable: replay_freq_0_1_minus\n",
      "No. Observations: 111     Method:             REML                 \n",
      "No. Groups:       8       Scale:              0.0000               \n",
      "Min. group size:  9       Likelihood:         408.9892             \n",
      "Max. group size:  24      Converged:          Yes                  \n",
      "Mean group size:  13.9                                             \n",
      "--------------------------------------------------------------------\n",
      "                       Coef.  Std.Err.    z    P>|z|  [0.025  0.975]\n",
      "--------------------------------------------------------------------\n",
      "Intercept              0.002     0.001  2.158  0.031   0.000   0.005\n",
      "hmm_behavior_fa        0.003     0.003  0.865  0.387  -0.004   0.010\n",
      "hmm_behavior_miss      0.004     0.003  1.371  0.170  -0.002   0.011\n",
      "Group RE               0.000     0.000                              \n",
      "===================================================================\n",
      "\n"
     ]
    }
   ],
   "source": [
    "formula = 'replay_freq_0_1_minus ~ hmm_behavior_fa + hmm_behavior_miss'\n",
    "\n",
    "data_sub = data[['replay_freq_0_1_minus', 'mouse',\n",
    "                 'hmm_behavior_fa', 'hmm_behavior_miss']]\n",
    "data_sub.dropna(inplace=True)\n",
    "md = mixedlm(formula, data_sub, groups='mouse', re_formula='1').fit()\n",
    "print(md.summary())"
   ]
  },
  {
   "cell_type": "code",
   "execution_count": 16,
   "metadata": {},
   "outputs": [
    {
     "name": "stdout",
     "output_type": "stream",
     "text": [
      "                Mixed Linear Model Regression Results\n",
      "=====================================================================\n",
      "Model:            MixedLM Dependent Variable: replay_freq_0_1_neutral\n",
      "No. Observations: 108     Method:             REML                   \n",
      "No. Groups:       8       Scale:              0.0000                 \n",
      "Min. group size:  7       Likelihood:         417.7620               \n",
      "Max. group size:  23      Converged:          Yes                    \n",
      "Mean group size:  13.5                                               \n",
      "-----------------------------------------------------------------------\n",
      "                     Coef.   Std.Err.     z     P>|z|   [0.025   0.975]\n",
      "-----------------------------------------------------------------------\n",
      "Intercept            0.002      0.001   1.642   0.101   -0.000    0.005\n",
      "hmm_behavior_fa      0.006      0.003   2.016   0.044    0.000    0.011\n",
      "hmm_behavior_miss    0.000      0.003   0.161   0.872   -0.005    0.006\n",
      "Group RE             0.000      0.002                                  \n",
      "=====================================================================\n",
      "\n"
     ]
    }
   ],
   "source": [
    "formula = 'replay_freq_0_1_neutral ~ hmm_behavior_fa + hmm_behavior_miss'\n",
    "\n",
    "data_sub = data[['replay_freq_0_1_neutral', 'mouse',\n",
    "                 'hmm_behavior_fa', 'hmm_behavior_miss']]\n",
    "data_sub.dropna(inplace=True)\n",
    "md = mixedlm(formula, data_sub, groups='mouse', re_formula='1').fit()\n",
    "print(md.summary())"
   ]
  },
  {
   "cell_type": "code",
   "execution_count": 17,
   "metadata": {},
   "outputs": [
    {
     "name": "stdout",
     "output_type": "stream",
     "text": [
      "                  Mixed Linear Model Regression Results\n",
      "=========================================================================\n",
      "Model:                MixedLM   Dependent Variable:   replay_freq_0_1_all\n",
      "No. Observations:     103       Method:               REML               \n",
      "No. Groups:           8         Scale:                0.0001             \n",
      "Min. group size:      7         Likelihood:           281.2005           \n",
      "Max. group size:      23        Converged:            Yes                \n",
      "Mean group size:      12.9                                               \n",
      "-------------------------------------------------------------------------\n",
      "                               Coef.  Std.Err.   z    P>|z| [0.025 0.975]\n",
      "-------------------------------------------------------------------------\n",
      "Intercept                       0.002    0.005  0.330 0.741 -0.009  0.012\n",
      "hmm_behavior_fa                 0.035    0.013  2.777 0.005  0.010  0.060\n",
      "hmm_behavior_miss               0.005    0.010  0.478 0.633 -0.015  0.025\n",
      "day_in_phase                    0.001    0.001  1.261 0.207 -0.000  0.002\n",
      "hmm_behavior_fa:day_in_phase   -0.003    0.002 -1.144 0.253 -0.007  0.002\n",
      "hmm_behavior_miss:day_in_phase -0.001    0.002 -0.397 0.692 -0.004  0.002\n",
      "Group RE                        0.000    0.003                           \n",
      "=========================================================================\n",
      "\n"
     ]
    }
   ],
   "source": [
    "formula = 'replay_freq_0_1_all ~ (hmm_behavior_fa + hmm_behavior_miss) * day_in_phase '\n",
    "\n",
    "data_sub = data[['replay_freq_0_1_all', 'mouse',\n",
    "                 'hmm_behavior_fa', 'hmm_behavior_miss', 'hmm_dprime', 'day_in_phase']]\n",
    "data_sub.dropna(inplace=True)\n",
    "md = mixedlm(formula, data_sub, groups='mouse', re_formula='1').fit()\n",
    "print(md.summary())"
   ]
  },
  {
   "cell_type": "code",
   "execution_count": 18,
   "metadata": {},
   "outputs": [
    {
     "name": "stdout",
     "output_type": "stream",
     "text": [
      "              Mixed Linear Model Regression Results\n",
      "=================================================================\n",
      "Model:            MixedLM Dependent Variable: replay_freq_0_1_all\n",
      "No. Observations: 103     Method:             REML               \n",
      "No. Groups:       8       Scale:              0.0001             \n",
      "Min. group size:  7       Likelihood:         295.0991           \n",
      "Max. group size:  23      Converged:          Yes                \n",
      "Mean group size:  12.9                                           \n",
      "-----------------------------------------------------------------\n",
      "                       Coef.  Std.Err.   z    P>|z| [0.025 0.975]\n",
      "-----------------------------------------------------------------\n",
      "Intercept               0.035    0.008  4.410 0.000  0.019  0.050\n",
      "hmm_behavior_plus      -0.005    0.008 -0.563 0.573 -0.021  0.012\n",
      "hmm_behavior_minus     -0.025    0.011 -2.217 0.027 -0.046 -0.003\n",
      "hmm_behavior_neutral    0.001    0.011  0.095 0.924 -0.020  0.022\n",
      "Group RE                0.000    0.003                           \n",
      "=================================================================\n",
      "\n",
      "{'CB173': Group    0.013024\n",
      "dtype: float64, 'OA38': Group    0.005471\n",
      "dtype: float64, 'AS20': Group   -0.004354\n",
      "dtype: float64, 'OA32': Group   -0.007357\n",
      "dtype: float64, 'OA34': Group   -0.007332\n",
      "dtype: float64, 'OA37': Group    0.002361\n",
      "dtype: float64, 'OA36': Group    0.000975\n",
      "dtype: float64, 'AS41': Group   -0.002789\n",
      "dtype: float64}\n"
     ]
    }
   ],
   "source": [
    "formula = 'replay_freq_0_1_all ~ hmm_behavior_plus + hmm_behavior_minus + hmm_behavior_neutral'\n",
    "\n",
    "data_sub = data[['replay_freq_0_1_all', 'mouse',\n",
    "                 'hmm_behavior_fa', 'hmm_behavior_plus', 'hmm_behavior_minus', 'hmm_behavior_neutral']]\n",
    "data_sub.dropna(inplace=True)\n",
    "md = mixedlm(formula, data_sub, groups='mouse', re_formula='1').fit()\n",
    "print(md.summary())\n",
    "print(md.random_effects)"
   ]
  },
  {
   "cell_type": "code",
   "execution_count": 19,
   "metadata": {},
   "outputs": [
    {
     "name": "stdout",
     "output_type": "stream",
     "text": [
      "                    Results: Ordinary least squares\n",
      "======================================================================\n",
      "Model:              OLS                 Adj. R-squared:     0.142     \n",
      "Dependent Variable: replay_freq_0_1_all AIC:                -596.7610 \n",
      "Date:               2018-05-18 13:55    BIC:                -586.2221 \n",
      "No. Observations:   103                 Log-Likelihood:     302.38    \n",
      "Df Model:           3                   F-statistic:        6.626     \n",
      "Df Residuals:       99                  Prob (F-statistic): 0.000399  \n",
      "R-squared:          0.167               Scale:              0.00017170\n",
      "----------------------------------------------------------------------\n",
      "                        Coef.  Std.Err.    t    P>|t|   [0.025  0.975]\n",
      "----------------------------------------------------------------------\n",
      "Intercept               0.0431   0.0080  5.4030 0.0000  0.0273  0.0590\n",
      "hmm_behavior_plus      -0.0119   0.0084 -1.4145 0.1603 -0.0287  0.0048\n",
      "hmm_behavior_minus     -0.0274   0.0127 -2.1621 0.0330 -0.0525 -0.0023\n",
      "hmm_behavior_neutral   -0.0017   0.0123 -0.1348 0.8931 -0.0260  0.0227\n",
      "----------------------------------------------------------------------\n",
      "Omnibus:                67.383        Durbin-Watson:           1.614  \n",
      "Prob(Omnibus):          0.000         Jarque-Bera (JB):        332.281\n",
      "Skew:                   2.192         Prob(JB):                0.000  \n",
      "Kurtosis:               10.629        Condition No.:           23     \n",
      "======================================================================\n",
      "\n",
      "                        df    sum_sq   mean_sq          F    PR(>F)\n",
      "hmm_behavior_plus      1.0  0.001245  0.001245   7.249204  0.008330\n",
      "hmm_behavior_minus     1.0  0.002165  0.002165  12.610287  0.000589\n",
      "hmm_behavior_neutral   1.0  0.000003  0.000003   0.018166  0.893057\n",
      "Residual              99.0  0.016999  0.000172        NaN       NaN\n"
     ]
    }
   ],
   "source": [
    "formula = 'replay_freq_0_1_all ~ hmm_behavior_plus + hmm_behavior_minus + hmm_behavior_neutral'\n",
    "lm = ols(formula, data).fit()\n",
    "print(lm.summary2())\n",
    "print(anova_lm(lm))"
   ]
  },
  {
   "cell_type": "code",
   "execution_count": 20,
   "metadata": {},
   "outputs": [
    {
     "name": "stdout",
     "output_type": "stream",
     "text": [
      "                    Results: Ordinary least squares\n",
      "======================================================================\n",
      "Model:              OLS                 Adj. R-squared:     0.140     \n",
      "Dependent Variable: replay_freq_0_1_all AIC:                -597.5167 \n",
      "Date:               2018-05-18 13:55    BIC:                -589.6125 \n",
      "No. Observations:   103                 Log-Likelihood:     301.76    \n",
      "Df Model:           2                   F-statistic:        9.318     \n",
      "Df Residuals:       100                 Prob (F-statistic): 0.000195  \n",
      "R-squared:          0.157               Scale:              0.00017205\n",
      "-----------------------------------------------------------------------\n",
      "                      Coef.   Std.Err.    t     P>|t|    [0.025  0.975]\n",
      "-----------------------------------------------------------------------\n",
      "Intercept             0.0021    0.0024  0.8911  0.3750  -0.0026  0.0069\n",
      "hmm_behavior_fa       0.0286    0.0085  3.3767  0.0010   0.0118  0.0453\n",
      "hmm_behavior_miss     0.0085    0.0078  1.0848  0.2806  -0.0071  0.0241\n",
      "----------------------------------------------------------------------\n",
      "Omnibus:                67.849        Durbin-Watson:           1.598  \n",
      "Prob(Omnibus):          0.000         Jarque-Bera (JB):        336.003\n",
      "Skew:                   2.210         Prob(JB):                0.000  \n",
      "Kurtosis:               10.665        Condition No.:           8      \n",
      "======================================================================\n",
      "\n",
      "                      df    sum_sq   mean_sq          F    PR(>F)\n",
      "hmm_behavior_fa      1.0  0.003004  0.003004  17.459873  0.000063\n",
      "hmm_behavior_miss    1.0  0.000202  0.000202   1.176708  0.280635\n",
      "Residual           100.0  0.017205  0.000172        NaN       NaN\n"
     ]
    }
   ],
   "source": [
    "formula = 'replay_freq_0_1_all ~ hmm_behavior_fa + hmm_behavior_miss'\n",
    "lm = ols(formula, data).fit()\n",
    "print(lm.summary2())\n",
    "print(anova_lm(lm))"
   ]
  },
  {
   "cell_type": "code",
   "execution_count": 21,
   "metadata": {},
   "outputs": [
    {
     "name": "stdout",
     "output_type": "stream",
     "text": [
      "              Mixed Linear Model Regression Results\n",
      "=================================================================\n",
      "Model:            MixedLM Dependent Variable: replay_freq_0_1_all\n",
      "No. Observations: 101     Method:             REML               \n",
      "No. Groups:       8       Scale:              0.0001             \n",
      "Min. group size:  7       Likelihood:         279.4562           \n",
      "Max. group size:  23      Converged:          Yes                \n",
      "Mean group size:  12.6                                           \n",
      "------------------------------------------------------------------\n",
      "                   Coef.   Std.Err.    z     P>|z|  [0.025  0.975]\n",
      "------------------------------------------------------------------\n",
      "Intercept           0.018     0.004   4.900  0.000   0.011   0.025\n",
      "hmm_dprime_run2    -0.001     0.002  -0.713  0.476  -0.005   0.002\n",
      "hmm_dprime_run3    -0.000     0.002  -0.119  0.905  -0.004   0.003\n",
      "hmm_dprime_run4    -0.001     0.001  -0.903  0.366  -0.004   0.002\n",
      "Group RE            0.000     0.003                               \n",
      "=================================================================\n",
      "\n"
     ]
    }
   ],
   "source": [
    "formula = 'replay_freq_0_1_all ~ hmm_dprime_run2 + hmm_dprime_run3 + hmm_dprime_run4'\n",
    "\n",
    "data_sub = data[['replay_freq_0_1_all', 'mouse',\n",
    "                 'hmm_dprime_run2', 'hmm_dprime_run3', 'hmm_dprime_run4']]\n",
    "data_sub.dropna(inplace=True)\n",
    "md = mixedlm(formula, data_sub, groups='mouse', re_formula='1').fit()\n",
    "print(md.summary())"
   ]
  },
  {
   "cell_type": "code",
   "execution_count": 22,
   "metadata": {},
   "outputs": [
    {
     "name": "stdout",
     "output_type": "stream",
     "text": [
      "              Mixed Linear Model Regression Results\n",
      "=================================================================\n",
      "Model:            MixedLM Dependent Variable: replay_freq_0_1_all\n",
      "No. Observations: 92      Method:             REML               \n",
      "No. Groups:       8       Scale:              0.0001             \n",
      "Min. group size:  7       Likelihood:         246.9541           \n",
      "Max. group size:  21      Converged:          Yes                \n",
      "Mean group size:  11.5                                           \n",
      "-----------------------------------------------------------------\n",
      "                       Coef.  Std.Err.   z    P>|z| [0.025 0.975]\n",
      "-----------------------------------------------------------------\n",
      "Intercept               0.026    0.005  5.037 0.000  0.016  0.036\n",
      "hmm_dprime             -0.010    0.004 -2.326 0.020 -0.018 -0.002\n",
      "hmm_dprime_2            0.001    0.001  1.457 0.145 -0.000  0.003\n",
      "d_hmm_dprime_prev       0.002    0.001  1.326 0.185 -0.001  0.004\n",
      "d_hmm_dprime_prev_2    -0.001    0.001 -1.019 0.308 -0.002  0.001\n",
      "Group RE                0.000    0.003                           \n",
      "=================================================================\n",
      "\n"
     ]
    }
   ],
   "source": [
    "formula = 'replay_freq_0_1_all ~ hmm_dprime + hmm_dprime_2 + d_hmm_dprime_prev + d_hmm_dprime_prev_2'\n",
    "\n",
    "data_sub = data[['replay_freq_0_1_all', 'mouse',\n",
    "                 'hmm_dprime', 'd_hmm_dprime_prev']]\n",
    "data_sub = data_sub.assign(hmm_dprime_2=data_sub.hmm_dprime**2, d_hmm_dprime_prev_2=data_sub.d_hmm_dprime_prev**2)\n",
    "\n",
    "data_sub.dropna(inplace=True)\n",
    "md = mixedlm(formula, data_sub, groups='mouse', re_formula='1').fit()\n",
    "print(md.summary())"
   ]
  },
  {
   "cell_type": "code",
   "execution_count": 23,
   "metadata": {},
   "outputs": [
    {
     "name": "stdout",
     "output_type": "stream",
     "text": [
      "              Mixed Linear Model Regression Results\n",
      "=================================================================\n",
      "Model:            MixedLM Dependent Variable: replay_freq_0_1_all\n",
      "No. Observations: 78      Method:             REML               \n",
      "No. Groups:       8       Scale:              0.0002             \n",
      "Min. group size:  6       Likelihood:         201.5958           \n",
      "Max. group size:  19      Converged:          Yes                \n",
      "Mean group size:  9.8                                            \n",
      "-----------------------------------------------------------------\n",
      "                       Coef.  Std.Err.   z    P>|z| [0.025 0.975]\n",
      "-----------------------------------------------------------------\n",
      "Intercept               0.025    0.005  5.301 0.000  0.016  0.034\n",
      "hmm_dprime             -0.006    0.002 -3.111 0.002 -0.009 -0.002\n",
      "d_hmm_dprime_prev       0.000    0.002  0.151 0.880 -0.003  0.004\n",
      "d_hmm_dprime_next      -0.002    0.002 -1.377 0.168 -0.005  0.001\n",
      "d_hmm_dprime_same_day   0.000    0.001  0.149 0.882 -0.002  0.003\n",
      "Group RE                0.000    0.003                           \n",
      "=================================================================\n",
      "\n"
     ]
    }
   ],
   "source": [
    "formula = 'replay_freq_0_1_all ~ hmm_dprime + d_hmm_dprime_prev + d_hmm_dprime_next + d_hmm_dprime_same_day'\n",
    "\n",
    "data_sub = data[['replay_freq_0_1_all', 'mouse',\n",
    "                 'hmm_dprime', 'd_hmm_dprime_prev', 'd_hmm_dprime_next', 'd_hmm_dprime_same_day']]\n",
    "\n",
    "data_sub.dropna(inplace=True)\n",
    "md = mixedlm(formula, data_sub, groups='mouse', re_formula='1').fit()\n",
    "print(md.summary())"
   ]
  },
  {
   "cell_type": "code",
   "execution_count": 24,
   "metadata": {},
   "outputs": [
    {
     "name": "stdout",
     "output_type": "stream",
     "text": [
      "                    Mixed Linear Model Regression Results\n",
      "============================================================================\n",
      "Model:                 MixedLM    Dependent Variable:    replay_freq_0_1_all\n",
      "No. Observations:      103        Method:                REML               \n",
      "No. Groups:            8          Scale:                 0.0001             \n",
      "Min. group size:       7          Likelihood:            273.4788           \n",
      "Max. group size:       23         Converged:             Yes                \n",
      "Mean group size:       12.9                                                 \n",
      "----------------------------------------------------------------------------\n",
      "                                  Coef.  Std.Err.   z    P>|z| [0.025 0.975]\n",
      "----------------------------------------------------------------------------\n",
      "Intercept                          0.045    0.012  3.665 0.000  0.021  0.068\n",
      "hmm_behavior_plus                 -0.008    0.011 -0.715 0.474 -0.029  0.013\n",
      "hmm_behavior_minus                -0.030    0.019 -1.565 0.117 -0.067  0.007\n",
      "hmm_behavior_neutral              -0.005    0.017 -0.309 0.757 -0.038  0.028\n",
      "day_in_phase                      -0.002    0.003 -0.865 0.387 -0.007  0.003\n",
      "hmm_behavior_plus:day_in_phase     0.001    0.002  0.315 0.753 -0.003  0.004\n",
      "hmm_behavior_minus:day_in_phase    0.002    0.005  0.344 0.731 -0.007  0.011\n",
      "hmm_behavior_neutral:day_in_phase  0.001    0.003  0.257 0.797 -0.006  0.008\n",
      "Group RE                           0.000    0.003                           \n",
      "============================================================================\n",
      "\n"
     ]
    }
   ],
   "source": [
    "formula = 'replay_freq_0_1_all ~ (hmm_behavior_plus + hmm_behavior_minus + hmm_behavior_neutral) * day_in_phase'\n",
    "\n",
    "data_sub = data[['replay_freq_0_1_all', 'mouse',\n",
    "                 'hmm_behavior_plus', 'hmm_behavior_minus', 'hmm_behavior_neutral', 'day_in_phase']]\n",
    "\n",
    "data_sub.dropna(inplace=True)\n",
    "md = mixedlm(formula, data_sub, groups='mouse', re_formula='1').fit()\n",
    "print(md.summary())"
   ]
  },
  {
   "cell_type": "code",
   "execution_count": 25,
   "metadata": {},
   "outputs": [
    {
     "name": "stdout",
     "output_type": "stream",
     "text": [
      "                   Mixed Linear Model Regression Results\n",
      "==========================================================================\n",
      "Model:               MixedLM    Dependent Variable:    replay_freq_0_1_all\n",
      "No. Observations:    103        Method:                REML               \n",
      "No. Groups:          8          Scale:                 0.0001             \n",
      "Min. group size:     7          Likelihood:            284.2125           \n",
      "Max. group size:     23         Converged:             Yes                \n",
      "Mean group size:     12.9                                                 \n",
      "--------------------------------------------------------------------------\n",
      "                                Coef.  Std.Err.   z    P>|z| [0.025 0.975]\n",
      "--------------------------------------------------------------------------\n",
      "Intercept                        0.063    0.023  2.734 0.006  0.018  0.108\n",
      "hmm_behavior_plus               -0.009    0.024 -0.387 0.699 -0.057  0.038\n",
      "hmm_behavior_minus              -0.069    0.026 -2.712 0.007 -0.120 -0.019\n",
      "hmm_behavior_neutral             0.011    0.025  0.441 0.659 -0.038  0.060\n",
      "hmm_dprime                      -0.001    0.019 -0.062 0.951 -0.038  0.036\n",
      "hmm_behavior_plus:hmm_dprime    -0.016    0.013 -1.193 0.233 -0.043  0.010\n",
      "hmm_behavior_minus:hmm_dprime    0.025    0.012  2.137 0.033  0.002  0.048\n",
      "hmm_behavior_neutral:hmm_dprime -0.004    0.011 -0.339 0.734 -0.025  0.018\n",
      "Group RE                         0.000    0.003                           \n",
      "==========================================================================\n",
      "\n"
     ]
    }
   ],
   "source": [
    "formula = 'replay_freq_0_1_all ~ (hmm_behavior_plus + hmm_behavior_minus + hmm_behavior_neutral) * hmm_dprime'\n",
    "\n",
    "data_sub = data[['replay_freq_0_1_all', 'mouse',\n",
    "                 'hmm_behavior_plus', 'hmm_behavior_minus', 'hmm_behavior_neutral', 'hmm_dprime']]\n",
    "\n",
    "data_sub.dropna(inplace=True)\n",
    "md = mixedlm(formula, data_sub, groups='mouse', re_formula='1').fit()\n",
    "print(md.summary())"
   ]
  },
  {
   "cell_type": "code",
   "execution_count": 26,
   "metadata": {},
   "outputs": [
    {
     "name": "stdout",
     "output_type": "stream",
     "text": [
      "                        Results: Ordinary least squares\n",
      "===============================================================================\n",
      "Model:                 OLS                    Adj. R-squared:        0.223     \n",
      "Dependent Variable:    replay_freq_0_1_all    AIC:                   -603.2852 \n",
      "Date:                  2018-05-18 13:55       BIC:                   -582.2074 \n",
      "No. Observations:      103                    Log-Likelihood:        309.64    \n",
      "Df Model:              7                      F-statistic:           5.193     \n",
      "Df Residuals:          95                     Prob (F-statistic):    4.90e-05  \n",
      "R-squared:             0.277                  Scale:                 0.00015540\n",
      "-------------------------------------------------------------------------------\n",
      "                                 Coef.  Std.Err.    t    P>|t|   [0.025  0.975]\n",
      "-------------------------------------------------------------------------------\n",
      "Intercept                        0.0800   0.0254  3.1462 0.0022  0.0295  0.1304\n",
      "hmm_behavior_plus               -0.0187   0.0269 -0.6943 0.4892 -0.0721  0.0347\n",
      "hmm_behavior_minus              -0.0846   0.0287 -2.9429 0.0041 -0.1417 -0.0275\n",
      "hmm_behavior_neutral             0.0083   0.0280  0.2949 0.7687 -0.0473  0.0638\n",
      "hmm_dprime                      -0.0002   0.0213 -0.0086 0.9931 -0.0425  0.0421\n",
      "hmm_behavior_plus:hmm_dprime    -0.0216   0.0150 -1.4414 0.1528 -0.0512  0.0081\n",
      "hmm_behavior_minus:hmm_dprime    0.0311   0.0130  2.3971 0.0185  0.0053  0.0569\n",
      "hmm_behavior_neutral:hmm_dprime -0.0035   0.0125 -0.2830 0.7778 -0.0284  0.0213\n",
      "-------------------------------------------------------------------------------\n",
      "Omnibus:                   52.642           Durbin-Watson:              1.862  \n",
      "Prob(Omnibus):             0.000            Jarque-Bera (JB):           176.640\n",
      "Skew:                      1.789            Prob(JB):                   0.000  \n",
      "Kurtosis:                  8.326            Condition No.:              173    \n",
      "===============================================================================\n",
      "\n",
      "                                   df    sum_sq   mean_sq          F    PR(>F)\n",
      "hmm_behavior_plus                 1.0  0.001245  0.001245   8.009760  0.005678\n",
      "hmm_behavior_minus                1.0  0.002165  0.002165  13.933304  0.000323\n",
      "hmm_behavior_neutral              1.0  0.000003  0.000003   0.020072  0.887635\n",
      "hmm_dprime                        1.0  0.000035  0.000035   0.227605  0.634401\n",
      "hmm_behavior_plus:hmm_dprime      1.0  0.000377  0.000377   2.424232  0.122797\n",
      "hmm_behavior_minus:hmm_dprime     1.0  0.001811  0.001811  11.654750  0.000943\n",
      "hmm_behavior_neutral:hmm_dprime   1.0  0.000012  0.000012   0.080066  0.777823\n",
      "Residual                         95.0  0.014763  0.000155        NaN       NaN\n"
     ]
    }
   ],
   "source": [
    "formula = 'replay_freq_0_1_all ~ (hmm_behavior_plus + hmm_behavior_minus + hmm_behavior_neutral) * hmm_dprime'\n",
    "lm = ols(formula, data).fit()\n",
    "print(lm.summary2())\n",
    "print(anova_lm(lm))"
   ]
  },
  {
   "cell_type": "code",
   "execution_count": 27,
   "metadata": {},
   "outputs": [
    {
     "name": "stdout",
     "output_type": "stream",
     "text": [
      "                   Mixed Linear Model Regression Results\n",
      "===========================================================================\n",
      "Model:                MixedLM    Dependent Variable:    replay_freq_0_1_all\n",
      "No. Observations:     88         Method:                REML               \n",
      "No. Groups:           8          Scale:                 0.0001             \n",
      "Min. group size:      6          Likelihood:            237.5280           \n",
      "Max. group size:      21         Converged:             Yes                \n",
      "Mean group size:      11.0                                                 \n",
      "---------------------------------------------------------------------------\n",
      "                                 Coef.  Std.Err.   z    P>|z| [0.025 0.975]\n",
      "---------------------------------------------------------------------------\n",
      "Intercept                         0.020    0.004  5.063 0.000  0.012  0.027\n",
      "hmm_dprime                       -0.003    0.001 -2.729 0.006 -0.006 -0.001\n",
      "d_hmm_dprime_next_day            -0.001    0.003 -0.341 0.733 -0.008  0.005\n",
      "hmm_dprime:d_hmm_dprime_next_day  0.000    0.001  0.270 0.787 -0.002  0.003\n",
      "Group RE                          0.000    0.004                           \n",
      "===========================================================================\n",
      "\n"
     ]
    }
   ],
   "source": [
    "formula = 'replay_freq_0_1_all ~ hmm_dprime * d_hmm_dprime_next_day'\n",
    "\n",
    "data_sub = data[['replay_freq_0_1_all', 'hmm_dprime', 'd_hmm_dprime_next_day',\n",
    "                 'mouse']]\n",
    "data_sub.dropna(inplace=True)\n",
    "md = mixedlm(formula, data_sub, groups='mouse', re_formula='1').fit()\n",
    "print(md.summary())"
   ]
  },
  {
   "cell_type": "code",
   "execution_count": 28,
   "metadata": {},
   "outputs": [
    {
     "name": "stdout",
     "output_type": "stream",
     "text": [
      "              Mixed Linear Model Regression Results\n",
      "=================================================================\n",
      "Model:            MixedLM Dependent Variable: replay_freq_0_1_all\n",
      "No. Observations: 103     Method:             REML               \n",
      "No. Groups:       8       Scale:              0.0001             \n",
      "Min. group size:  7       Likelihood:         295.0991           \n",
      "Max. group size:  23      Converged:          Yes                \n",
      "Mean group size:  12.9                                           \n",
      "-----------------------------------------------------------------\n",
      "                       Coef.  Std.Err.   z    P>|z| [0.025 0.975]\n",
      "-----------------------------------------------------------------\n",
      "Intercept               0.035    0.008  4.410 0.000  0.019  0.050\n",
      "hmm_behavior_plus      -0.005    0.008 -0.563 0.573 -0.021  0.012\n",
      "hmm_behavior_minus     -0.025    0.011 -2.217 0.027 -0.046 -0.003\n",
      "hmm_behavior_neutral    0.001    0.011  0.095 0.924 -0.020  0.022\n",
      "Group RE                0.000    0.003                           \n",
      "=================================================================\n",
      "\n",
      "{'CB173': Group    0.013024\n",
      "dtype: float64, 'OA38': Group    0.005471\n",
      "dtype: float64, 'AS20': Group   -0.004354\n",
      "dtype: float64, 'OA32': Group   -0.007357\n",
      "dtype: float64, 'OA34': Group   -0.007332\n",
      "dtype: float64, 'OA37': Group    0.002361\n",
      "dtype: float64, 'OA36': Group    0.000975\n",
      "dtype: float64, 'AS41': Group   -0.002789\n",
      "dtype: float64}\n"
     ]
    }
   ],
   "source": [
    "formula = 'replay_freq_0_1_all ~ hmm_behavior_plus + hmm_behavior_minus + hmm_behavior_neutral'\n",
    "\n",
    "data_sub = data[['replay_freq_0_1_all', 'mouse',\n",
    "                 'hmm_behavior_fa', 'hmm_behavior_plus', 'hmm_behavior_minus', 'hmm_behavior_neutral']]\n",
    "data_sub.dropna(inplace=True)\n",
    "md = mixedlm(formula, data_sub, groups='mouse', re_formula='1').fit()\n",
    "print(md.summary())\n",
    "print(md.random_effects)"
   ]
  },
  {
   "cell_type": "code",
   "execution_count": 29,
   "metadata": {},
   "outputs": [
    {
     "name": "stdout",
     "output_type": "stream",
     "text": [
      "              Mixed Linear Model Regression Results\n",
      "=================================================================\n",
      "Model:            MixedLM Dependent Variable: replay_freq_0_1_all\n",
      "No. Observations: 67      Method:             REML               \n",
      "No. Groups:       8       Scale:              0.0001             \n",
      "Min. group size:  5       Likelihood:         184.7275           \n",
      "Max. group size:  15      Converged:          Yes                \n",
      "Mean group size:  8.4                                            \n",
      "-----------------------------------------------------------------\n",
      "                       Coef.  Std.Err.   z    P>|z| [0.025 0.975]\n",
      "-----------------------------------------------------------------\n",
      "Intercept               0.030    0.010  3.029 0.002  0.011  0.050\n",
      "hmm_behavior_plus      -0.005    0.010 -0.547 0.585 -0.025  0.014\n",
      "hmm_behavior_minus     -0.018    0.014 -1.319 0.187 -0.046  0.009\n",
      "hmm_behavior_neutral    0.003    0.015  0.191 0.849 -0.027  0.033\n",
      "Group RE                0.000    0.010                           \n",
      "=================================================================\n",
      "\n"
     ]
    }
   ],
   "source": [
    "formula = 'replay_freq_0_1_all ~ hmm_behavior_plus + hmm_behavior_minus + hmm_behavior_neutral'\n",
    "\n",
    "data_sub = data[['replay_freq_0_1_all', 'mouse',\n",
    "                 'hmm_behavior_fa', 'hmm_behavior_plus', 'hmm_behavior_minus', 'hmm_behavior_neutral', 'phase']]\n",
    "data_sub = data_sub[data_sub.phase.str.contains('A_pre')]\n",
    "data_sub.dropna(inplace=True)\n",
    "md = mixedlm(formula, data_sub, groups='mouse', re_formula='1').fit()\n",
    "print(md.summary())"
   ]
  },
  {
   "cell_type": "code",
   "execution_count": 30,
   "metadata": {},
   "outputs": [
    {
     "name": "stdout",
     "output_type": "stream",
     "text": [
      "              Mixed Linear Model Regression Results\n",
      "=================================================================\n",
      "Model:            MixedLM Dependent Variable: replay_freq_0_1_all\n",
      "No. Observations: 36      Method:             REML               \n",
      "No. Groups:       5       Scale:              0.0001             \n",
      "Min. group size:  2       Likelihood:         101.7660           \n",
      "Max. group size:  11      Converged:          No                 \n",
      "Mean group size:  7.2                                            \n",
      "-----------------------------------------------------------------\n",
      "                       Coef.  Std.Err.   z    P>|z| [0.025 0.975]\n",
      "-----------------------------------------------------------------\n",
      "Intercept               0.032    0.011  2.822 0.005  0.010  0.054\n",
      "hmm_behavior_plus      -0.016    0.014 -1.141 0.254 -0.044  0.012\n",
      "hmm_behavior_minus     -0.020    0.022 -0.876 0.381 -0.064  0.024\n",
      "hmm_behavior_neutral    0.010    0.016  0.608 0.543 -0.022  0.042\n",
      "Group RE                0.000    0.002                           \n",
      "=================================================================\n",
      "\n"
     ]
    }
   ],
   "source": [
    "formula = 'replay_freq_0_1_all ~ hmm_behavior_plus + hmm_behavior_minus + hmm_behavior_neutral'\n",
    "\n",
    "data_sub = data[['replay_freq_0_1_all', 'mouse',\n",
    "                 'hmm_behavior_fa', 'hmm_behavior_plus', 'hmm_behavior_minus', 'hmm_behavior_neutral', 'phase']]\n",
    "data_sub = data_sub[data_sub.phase.str.contains('B_post')]\n",
    "data_sub.dropna(inplace=True)\n",
    "md = mixedlm(formula, data_sub, groups='mouse', re_formula='1').fit()\n",
    "print(md.summary())"
   ]
  },
  {
   "cell_type": "code",
   "execution_count": 31,
   "metadata": {},
   "outputs": [
    {
     "name": "stdout",
     "output_type": "stream",
     "text": [
      "              Mixed Linear Model Regression Results\n",
      "=================================================================\n",
      "Model:            MixedLM Dependent Variable: replay_freq_0_1_all\n",
      "No. Observations: 103     Method:             REML               \n",
      "No. Groups:       8       Scale:              0.0001             \n",
      "Min. group size:  7       Likelihood:         298.6979           \n",
      "Max. group size:  23      Converged:          Yes                \n",
      "Mean group size:  12.9                                           \n",
      "-----------------------------------------------------------------\n",
      "                       Coef.  Std.Err.   z    P>|z| [0.025 0.975]\n",
      "-----------------------------------------------------------------\n",
      "Intercept               0.035    0.008  4.545 0.000  0.020  0.049\n",
      "hmm_behavior_plus      -0.004    0.007 -0.592 0.554 -0.019  0.010\n",
      "hmm_behavior_minus     -0.024    0.007 -3.223 0.001 -0.038 -0.009\n",
      "Group RE                0.000    0.003                           \n",
      "=================================================================\n",
      "\n"
     ]
    }
   ],
   "source": [
    "formula = 'replay_freq_0_1_all ~ hmm_behavior_plus + hmm_behavior_minus'\n",
    "\n",
    "data_sub = data[['replay_freq_0_1_all', 'mouse',\n",
    "                 'hmm_behavior_fa', 'hmm_behavior_plus', 'hmm_behavior_minus', 'hmm_behavior_neutral']]\n",
    "data_sub.dropna(inplace=True)\n",
    "md = mixedlm(formula, data_sub, groups='mouse', re_formula='1').fit()\n",
    "print(md.summary())"
   ]
  },
  {
   "cell_type": "code",
   "execution_count": 32,
   "metadata": {},
   "outputs": [
    {
     "name": "stdout",
     "output_type": "stream",
     "text": [
      "              Mixed Linear Model Regression Results\n",
      "=================================================================\n",
      "Model:            MixedLM Dependent Variable: replay_freq_0_1_all\n",
      "No. Observations: 36      Method:             REML               \n",
      "No. Groups:       5       Scale:              0.0001             \n",
      "Min. group size:  2       Likelihood:         97.4340            \n",
      "Max. group size:  11      Converged:          No                 \n",
      "Mean group size:  7.2                                            \n",
      "-----------------------------------------------------------------\n",
      "                       Coef.  Std.Err.   z    P>|z| [0.025 0.975]\n",
      "-----------------------------------------------------------------\n",
      "Intercept               0.024    0.024  0.998 0.318 -0.023  0.071\n",
      "hmm_behavior_plus      -0.009    0.024 -0.381 0.703 -0.056  0.038\n",
      "hmm_behavior_minus     -0.016    0.025 -0.622 0.534 -0.065  0.034\n",
      "hmm_behavior_neutral    0.014    0.019  0.704 0.481 -0.024  0.051\n",
      "hmm_dprime             -0.002    0.005 -0.379 0.705 -0.012  0.008\n",
      "Group RE                0.000    0.002                           \n",
      "=================================================================\n",
      "\n"
     ]
    }
   ],
   "source": [
    "formula = 'replay_freq_0_1_all ~ hmm_behavior_plus + hmm_behavior_minus + hmm_behavior_neutral + hmm_dprime'\n",
    "\n",
    "data_sub = data[['replay_freq_0_1_all', 'mouse',\n",
    "                 'hmm_behavior_fa', 'hmm_behavior_plus', 'hmm_behavior_minus', 'hmm_behavior_neutral', 'phase', 'hmm_dprime']]\n",
    "data_sub = data_sub[data_sub.phase.str.contains('B_post')]\n",
    "data_sub.dropna(inplace=True)\n",
    "md = mixedlm(formula, data_sub, groups='mouse', re_formula='1').fit()\n",
    "print(md.summary())"
   ]
  },
  {
   "cell_type": "code",
   "execution_count": 33,
   "metadata": {},
   "outputs": [
    {
     "name": "stdout",
     "output_type": "stream",
     "text": [
      "                    Results: Ordinary least squares\n",
      "======================================================================\n",
      "Model:              OLS                 Adj. R-squared:     0.157     \n",
      "Dependent Variable: replay_freq_0_1_all AIC:                -372.8210 \n",
      "Date:               2018-05-18 13:55    BIC:                -364.0023 \n",
      "No. Observations:   67                  Log-Likelihood:     190.41    \n",
      "Df Model:           3                   F-statistic:        5.104     \n",
      "Df Residuals:       63                  Prob (F-statistic): 0.00317   \n",
      "R-squared:          0.196               Scale:              0.00021173\n",
      "----------------------------------------------------------------------\n",
      "                         Coef.  Std.Err.    t    P>|t|   [0.025 0.975]\n",
      "----------------------------------------------------------------------\n",
      "Intercept                0.0453   0.0109  4.1491 0.0001  0.0235 0.0672\n",
      "hmm_behavior_plus       -0.0062   0.0119 -0.5218 0.6037 -0.0300 0.0176\n",
      "hmm_behavior_minus      -0.0218   0.0174 -1.2510 0.2156 -0.0566 0.0130\n",
      "hmm_behavior_neutral    -0.0162   0.0184 -0.8798 0.3823 -0.0531 0.0206\n",
      "----------------------------------------------------------------------\n",
      "Omnibus:                39.224        Durbin-Watson:           1.548  \n",
      "Prob(Omnibus):          0.000         Jarque-Bera (JB):        113.974\n",
      "Skew:                   1.806         Prob(JB):                0.000  \n",
      "Kurtosis:               8.271         Condition No.:           25     \n",
      "======================================================================\n",
      "\n",
      "                        df    sum_sq   mean_sq          F    PR(>F)\n",
      "hmm_behavior_plus      1.0  0.000754  0.000754   3.559326  0.063822\n",
      "hmm_behavior_minus     1.0  0.002324  0.002324  10.977587  0.001531\n",
      "hmm_behavior_neutral   1.0  0.000164  0.000164   0.774091  0.382298\n",
      "Residual              63.0  0.013339  0.000212        NaN       NaN\n"
     ]
    }
   ],
   "source": [
    "formula = 'replay_freq_0_1_all ~ hmm_behavior_plus + hmm_behavior_minus + hmm_behavior_neutral'\n",
    "data_sub = data[data.phase.str.contains('A_pre')]\n",
    "lm = ols(formula, data_sub).fit()\n",
    "print(lm.summary2())\n",
    "print(anova_lm(lm))"
   ]
  },
  {
   "cell_type": "markdown",
   "metadata": {},
   "source": [
    "# GLM"
   ]
  },
  {
   "cell_type": "markdown",
   "metadata": {},
   "source": [
    "### Task performance predict reactivation"
   ]
  },
  {
   "cell_type": "code",
   "execution_count": 34,
   "metadata": {},
   "outputs": [
    {
     "name": "stdout",
     "output_type": "stream",
     "text": [
      "                Results: Generalized linear model\n",
      "=================================================================\n",
      "Model:              GLM                 AIC:            -694.2441\n",
      "Link Function:      log                 BIC:            -319.0923\n",
      "Dependent Variable: replay_freq_0_1_all Log-Likelihood: 349.12   \n",
      "Date:               2018-05-18 13:55    LL-Null:        341.19   \n",
      "No. Observations:   98                  Deviance:       121.06   \n",
      "Df Model:           1                   Pearson chi2:   106.     \n",
      "Df Residuals:       96                  Scale:          1.0994   \n",
      "Method:             IRLS                                         \n",
      "------------------------------------------------------------------\n",
      "              Coef.   Std.Err.     z      P>|z|    [0.025   0.975]\n",
      "------------------------------------------------------------------\n",
      "Intercept    -3.9232    0.2011  -19.5087  0.0000  -4.3173  -3.5290\n",
      "hmm_dprime   -0.3184    0.0853   -3.7349  0.0002  -0.4856  -0.1513\n",
      "=================================================================\n",
      "\n"
     ]
    }
   ],
   "source": [
    "formula = 'replay_freq_0_1_all ~ hmm_dprime'\n",
    "\n",
    "data_sub = data[['replay_freq_0_1_all', 'mouse',\n",
    "                 'hmm_dprime']]\n",
    "# 0s in the dependent variable still converges, but LL is infinite\n",
    "data_sub.replace(0, np.nan, inplace=True)\n",
    "data_sub.dropna(inplace=True)\n",
    "\n",
    "y, X = patsy.dmatrices(formula, data_sub, return_type='dataframe')\n",
    "X = sm.add_constant(X)\n",
    "\n",
    "# family = sm.families.Gamma()\n",
    "family = sm.families.Gamma(link=sm.families.links.log)\n",
    "# family = sm.families.Gaussian()\n",
    "# family = sm.families.Gaussian(link=sm.families.links.log)\n",
    "\n",
    "glm = sm.GLM(y, X, family=family)\n",
    "glm_results = glm.fit()\n",
    "print(glm_results.summary2())"
   ]
  },
  {
   "cell_type": "code",
   "execution_count": 37,
   "metadata": {},
   "outputs": [
    {
     "name": "stdout",
     "output_type": "stream",
     "text": [
      "                  Results: Generalized linear model\n",
      "=====================================================================\n",
      "Model:                GLM                  AIC:             -695.6499\n",
      "Link Function:        log                  BIC:             -320.5120\n",
      "Dependent Variable:   replay_freq_0_1_all  Log-Likelihood:  349.82   \n",
      "Date:                 2018-05-18 13:55     LL-Null:         340.97   \n",
      "No. Observations:     98                   Deviance:        119.64   \n",
      "Df Model:             1                    Pearson chi2:    102.     \n",
      "Df Residuals:         96                   Scale:           1.0657   \n",
      "Method:               IRLS                                           \n",
      "---------------------------------------------------------------------\n",
      "                      Coef.  Std.Err.    z     P>|z|   [0.025  0.975]\n",
      "---------------------------------------------------------------------\n",
      "Intercept            -3.8499   0.2131 -18.0677 0.0000 -4.2676 -3.4323\n",
      "hmm_dprime_noneutral -0.3419   0.0884  -3.8690 0.0001 -0.5151 -0.1687\n",
      "=====================================================================\n",
      "\n"
     ]
    }
   ],
   "source": [
    "formula = 'replay_freq_0_1_all ~ hmm_dprime_noneutral'\n",
    "\n",
    "data_sub = data[['replay_freq_0_1_all', 'mouse',\n",
    "                 'hmm_dprime_noneutral']]\n",
    "# 0s in the dependent variable still converges, but LL is infinite\n",
    "data_sub.replace(0, np.nan, inplace=True)\n",
    "data_sub.dropna(inplace=True)\n",
    "\n",
    "y, X = patsy.dmatrices(formula, data_sub, return_type='dataframe')\n",
    "X = sm.add_constant(X)\n",
    "\n",
    "# family = sm.families.Gamma()\n",
    "family = sm.families.Gamma(link=sm.families.links.log)\n",
    "# family = sm.families.Gaussian()\n",
    "# family = sm.families.Gaussian(link=sm.families.links.log)\n",
    "\n",
    "glm = sm.GLM(y, X, family=family)\n",
    "glm_results = glm.fit()\n",
    "print(glm_results.summary2())"
   ]
  },
  {
   "cell_type": "code",
   "execution_count": 38,
   "metadata": {},
   "outputs": [
    {
     "name": "stdout",
     "output_type": "stream",
     "text": [
      "                 Results: Generalized linear model\n",
      "===================================================================\n",
      "Model:                GLM                  AIC:             -inf   \n",
      "Link Function:        log                  BIC:             17.6040\n",
      "Dependent Variable:   replay_freq_0_1_all  Log-Likelihood:  inf    \n",
      "Date:                 2018-05-18 13:55     LL-Null:         inf    \n",
      "No. Observations:     103                  Deviance:        467.17 \n",
      "Df Model:             5                    Pearson chi2:    106.   \n",
      "Df Residuals:         97                   Scale:           1.0917 \n",
      "Method:               IRLS                                         \n",
      "-------------------------------------------------------------------\n",
      "                      Coef.  Std.Err.    z    P>|z|   [0.025 0.975]\n",
      "-------------------------------------------------------------------\n",
      "Intercept            -1.8122   1.4278 -1.2692 0.2044 -4.6107 0.9863\n",
      "hmm_behavior_plus    -1.6683   1.3329 -1.2517 0.2107 -4.2808 0.9441\n",
      "hmm_behavior_minus   -0.1277   2.1488 -0.0594 0.9526 -4.3392 4.0838\n",
      "hmm_behavior_neutral -1.7011   2.0060 -0.8480 0.3964 -5.6327 2.2305\n",
      "hmm_dprime            1.5231   1.2647  1.2044 0.2284 -0.9555 4.0018\n",
      "hmm_dprime_noneutral -1.5050   1.2575 -1.1968 0.2314 -3.9696 0.9597\n",
      "===================================================================\n",
      "\n"
     ]
    }
   ],
   "source": [
    "formula = 'replay_freq_0_1_all ~ hmm_behavior_plus + hmm_behavior_minus + hmm_behavior_neutral + hmm_dprime + hmm_dprime_noneutral'\n",
    "\n",
    "data_sub = data[['replay_freq_0_1_all', 'mouse',\n",
    "                 'hmm_behavior_plus', 'hmm_behavior_minus',\n",
    "                 'hmm_behavior_neutral', 'hmm_dprime', 'hmm_dprime_noneutral']]\n",
    "# 0s in the dependent variable still converges, but LL is infinite\n",
    "# data_sub.replace(0, np.nan, inplace=True)\n",
    "# data_sub.dropna(inplace=True)\n",
    "\n",
    "y, X = patsy.dmatrices(formula, data_sub, return_type='dataframe')\n",
    "X = sm.add_constant(X)\n",
    "\n",
    "# family = sm.families.Gamma()\n",
    "family = sm.families.Gamma(link=sm.families.links.log)\n",
    "# family = sm.families.Gaussian()\n",
    "# family = sm.families.Gaussian(link=sm.families.links.log)\n",
    "\n",
    "glm = sm.GLM(y, X, family=family)\n",
    "glm_results = glm.fit()\n",
    "print(glm_results.summary2())"
   ]
  },
  {
   "cell_type": "code",
   "execution_count": 39,
   "metadata": {},
   "outputs": [
    {
     "name": "stdout",
     "output_type": "stream",
     "text": [
      "                  Results: Generalized linear model\n",
      "====================================================================\n",
      "Model:                GLM                   AIC:              -inf  \n",
      "Link Function:        log                   BIC:              8.3174\n",
      "Dependent Variable:   replay_freq_0_1_all   Log-Likelihood:   inf   \n",
      "Date:                 2018-05-18 13:55      LL-Null:          inf   \n",
      "No. Observations:     103                   Deviance:         467.16\n",
      "Df Model:             3                     Pearson chi2:     107.  \n",
      "Df Residuals:         99                    Scale:            1.0813\n",
      "Method:               IRLS                                          \n",
      "--------------------------------------------------------------------\n",
      "                      Coef.  Std.Err.    z    P>|z|   [0.025  0.975]\n",
      "--------------------------------------------------------------------\n",
      "Intercept            -1.8869   0.6333 -2.9793 0.0029 -3.1282 -0.6456\n",
      "hmm_behavior_plus    -1.5348   0.6692 -2.2937 0.0218 -2.8463 -0.2233\n",
      "hmm_behavior_minus   -2.6223   1.0043 -2.6109 0.0090 -4.5907 -0.6538\n",
      "hmm_behavior_neutral  0.7830   0.9729  0.8048 0.4209 -1.1238  2.6898\n",
      "====================================================================\n",
      "\n"
     ]
    }
   ],
   "source": [
    "formula = 'replay_freq_0_1_all ~ hmm_behavior_plus + hmm_behavior_minus + hmm_behavior_neutral'\n",
    "\n",
    "data_sub = data[['replay_freq_0_1_all', 'mouse',\n",
    "                 'hmm_behavior_plus', 'hmm_behavior_minus', 'hmm_behavior_neutral']]\n",
    "# 0s in the dependent variable still converges, but LL is infinite\n",
    "# data_sub.replace(0, np.nan, inplace=True)\n",
    "# data_sub.dropna(inplace=True)\n",
    "\n",
    "y, X = patsy.dmatrices(formula, data_sub, return_type='dataframe')\n",
    "X = sm.add_constant(X)\n",
    "\n",
    "# family = sm.families.Gamma()\n",
    "family = sm.families.Gamma(link=sm.families.links.log)\n",
    "# family = sm.families.Gaussian()\n",
    "# family = sm.families.Gaussian(link=sm.families.links.log)\n",
    "\n",
    "glm = sm.GLM(y, X, family=family)\n",
    "glm_results = glm.fit()\n",
    "print(glm_results.summary2())"
   ]
  },
  {
   "cell_type": "code",
   "execution_count": 109,
   "metadata": {},
   "outputs": [
    {
     "name": "stdout",
     "output_type": "stream",
     "text": [
      "                  Results: Generalized linear model\n",
      "====================================================================\n",
      "Model:               GLM                  AIC:             -439.0881\n",
      "Link Function:       log                  BIC:             -165.8656\n",
      "Dependent Variable:  replay_freq_0_1_all  Log-Likelihood:  223.54   \n",
      "Date:                2018-05-21 01:03     LL-Null:         215.54   \n",
      "No. Observations:    64                   Deviance:        83.667   \n",
      "Df Model:            3                    Pearson chi2:    56.1     \n",
      "Df Residuals:        60                   Scale:           0.93432  \n",
      "Method:              IRLS                                           \n",
      "--------------------------------------------------------------------\n",
      "                      Coef.  Std.Err.    z    P>|z|   [0.025  0.975]\n",
      "--------------------------------------------------------------------\n",
      "Intercept            -2.0986   0.7428 -2.8254 0.0047 -3.5544 -0.6428\n",
      "hmm_behavior_plus    -1.1073   0.7983 -1.3870 0.1654 -2.6720  0.4574\n",
      "hmm_behavior_minus   -2.0217   1.2162 -1.6623 0.0965 -4.4054  0.3620\n",
      "hmm_behavior_neutral  0.0638   1.2606  0.0506 0.9596 -2.4068  2.5345\n",
      "====================================================================\n",
      "\n"
     ]
    }
   ],
   "source": [
    "formula = 'replay_freq_0_1_all ~ hmm_behavior_plus + hmm_behavior_minus + hmm_behavior_neutral'\n",
    "\n",
    "data_sub = data[['replay_freq_0_1_all', 'mouse', 'phase',\n",
    "                 'hmm_behavior_plus', 'hmm_behavior_minus', 'hmm_behavior_neutral']]\n",
    "\n",
    "data_sub = data_sub[data_sub.phase.str.contains('A_pre')]\n",
    "\n",
    "# 0s in the dependent variable still converges, but LL is infinite\n",
    "data_sub.replace(0, np.nan, inplace=True)\n",
    "data_sub.dropna(inplace=True)\n",
    "\n",
    "# 0s in the dependent variable still converges, but LL is infinite\n",
    "data_sub.replace(0, np.nan, inplace=True)\n",
    "data_sub.dropna(inplace=True)\n",
    "\n",
    "y, X = patsy.dmatrices(formula, data_sub, return_type='dataframe')\n",
    "X = sm.add_constant(X)\n",
    "\n",
    "# family = sm.families.Gamma()\n",
    "family = sm.families.Gamma(link=sm.families.links.log)\n",
    "# family = sm.families.Gaussian()\n",
    "# family = sm.families.Gaussian(link=sm.families.links.log)\n",
    "\n",
    "glm = sm.GLM(y, X, family=family)\n",
    "glm_results = glm.fit()\n",
    "print(glm_results.summary2())"
   ]
  },
  {
   "cell_type": "code",
   "execution_count": 108,
   "metadata": {},
   "outputs": [
    {
     "name": "stdout",
     "output_type": "stream",
     "text": [
      "                 Results: Generalized linear model\n",
      "===================================================================\n",
      "Model:                GLM                 AIC:            -245.7464\n",
      "Link Function:        log                 BIC:            -74.0241 \n",
      "Dependent Variable:   replay_freq_0_1_all Log-Likelihood: 126.87   \n",
      "Date:                 2018-05-21 01:03    LL-Null:        124.23   \n",
      "No. Observations:     34                  Deviance:       31.767   \n",
      "Df Model:             3                   Pearson chi2:   36.1     \n",
      "Df Residuals:         30                  Scale:          1.2046   \n",
      "Method:               IRLS                                         \n",
      "-------------------------------------------------------------------\n",
      "                      Coef.  Std.Err.    z    P>|z|   [0.025 0.975]\n",
      "-------------------------------------------------------------------\n",
      "Intercept            -1.6420   1.2190 -1.3470 0.1780 -4.0311 0.7472\n",
      "hmm_behavior_plus    -2.1281   1.5831 -1.3443 0.1789 -5.2308 0.9747\n",
      "hmm_behavior_minus   -3.5764   2.7367 -1.3069 0.1913 -8.9401 1.7873\n",
      "hmm_behavior_neutral  2.2028   1.9003  1.1592 0.2464 -1.5217 5.9273\n",
      "===================================================================\n",
      "\n"
     ]
    }
   ],
   "source": [
    "formula = 'replay_freq_0_1_all ~ hmm_behavior_plus + hmm_behavior_minus + hmm_behavior_neutral'\n",
    "\n",
    "data_sub = data[['replay_freq_0_1_all', 'mouse', 'phase',\n",
    "                 'hmm_behavior_plus', 'hmm_behavior_minus', 'hmm_behavior_neutral']]\n",
    "\n",
    "data_sub = data_sub[data_sub.phase.str.contains('B_post')]\n",
    "\n",
    "# 0s in the dependent variable still converges, but LL is infinite\n",
    "data_sub.replace(0, np.nan, inplace=True)\n",
    "data_sub.dropna(inplace=True)\n",
    "\n",
    "y, X = patsy.dmatrices(formula, data_sub, return_type='dataframe')\n",
    "X = sm.add_constant(X)\n",
    "\n",
    "# family = sm.families.Gamma()\n",
    "family = sm.families.Gamma(link=sm.families.links.log)\n",
    "# family = sm.families.Gaussian()\n",
    "# family = sm.families.Gaussian(link=sm.families.links.log)\n",
    "\n",
    "glm = sm.GLM(y, X, family=family)\n",
    "glm_results = glm.fit()\n",
    "print(glm_results.summary2())"
   ]
  },
  {
   "cell_type": "markdown",
   "metadata": {},
   "source": [
    "### Change in performance predict reactivation"
   ]
  },
  {
   "cell_type": "code",
   "execution_count": 42,
   "metadata": {},
   "outputs": [
    {
     "name": "stdout",
     "output_type": "stream",
     "text": [
      "               Results: Generalized linear model\n",
      "==============================================================\n",
      "Model:              GLM              AIC:            -485.4332\n",
      "Link Function:      log              BIC:            -185.7051\n",
      "Dependent Variable: y                Log-Likelihood: 247.72   \n",
      "Date:               2018-05-18 13:55 LL-Null:        247.00   \n",
      "No. Observations:   72               Deviance:       100.83   \n",
      "Df Model:           4                Pearson chi2:   120.     \n",
      "Df Residuals:       67               Scale:          1.7844   \n",
      "Method:             IRLS                                      \n",
      "---------------------------------------------------------------\n",
      "           Coef.   Std.Err.     z      P>|z|    [0.025   0.975]\n",
      "---------------------------------------------------------------\n",
      "const     -4.4199    0.1691  -26.1374  0.0000  -4.7513  -4.0885\n",
      "x1         0.0267    0.1520    0.1758  0.8604  -0.2713   0.3247\n",
      "x2        -0.1203    0.1849   -0.6510  0.5151  -0.4827   0.2420\n",
      "x3        -0.0368    0.1367   -0.2695  0.7875  -0.3047   0.2310\n",
      "x4        -0.1317    0.1332   -0.9886  0.3229  -0.3928   0.1294\n",
      "==============================================================\n",
      "\n"
     ]
    }
   ],
   "source": [
    "data_sub = data[['replay_freq_0_1_all', 'mouse',\n",
    "                 'd_hmm_dprime_next', 'd_hmm_dprime_prev', 'd_hmm_dprime_same_day', 'd_hmm_dprime_next_day']]\n",
    "# 0s in the dependent variable still converges, but LL is infinite\n",
    "data_sub.replace(0, np.nan, inplace=True)\n",
    "data_sub.dropna(inplace=True)\n",
    "\n",
    "endog = np.array(data_sub['replay_freq_0_1_all'] )\n",
    "exog = np.array(data_sub[['d_hmm_dprime_next', 'd_hmm_dprime_prev', 'd_hmm_dprime_same_day', 'd_hmm_dprime_next_day']])\n",
    "exog = sm.add_constant(exog)\n",
    "\n",
    "# family = sm.families.Gamma()\n",
    "family = sm.families.Gamma(link=sm.families.links.log)\n",
    "# family = sm.families.Gaussian()\n",
    "# family = sm.families.Gaussian(link=sm.families.links.log)\n",
    "\n",
    "glm = sm.GLM(endog, exog, family=family)\n",
    "glm_results = glm.fit()\n",
    "print(glm_results.summary2())"
   ]
  },
  {
   "cell_type": "code",
   "execution_count": 43,
   "metadata": {},
   "outputs": [
    {
     "name": "stdout",
     "output_type": "stream",
     "text": [
      "               Results: Generalized linear model\n",
      "==============================================================\n",
      "Model:              GLM              AIC:            -511.1696\n",
      "Link Function:      log              BIC:            -207.2674\n",
      "Dependent Variable: y                Log-Likelihood: 258.58   \n",
      "Date:               2018-05-18 13:55 LL-Null:        258.33   \n",
      "No. Observations:   75               Deviance:       103.59   \n",
      "Df Model:           2                Pearson chi2:   125.     \n",
      "Df Residuals:       72               Scale:          1.7367   \n",
      "Method:             IRLS                                      \n",
      "---------------------------------------------------------------\n",
      "           Coef.   Std.Err.     z      P>|z|    [0.025   0.975]\n",
      "---------------------------------------------------------------\n",
      "const     -4.4603    0.1604  -27.8126  0.0000  -4.7746  -4.1460\n",
      "x1         0.0343    0.1427    0.2405  0.8099  -0.2454   0.3141\n",
      "x2        -0.1068    0.1772   -0.6027  0.5467  -0.4540   0.2404\n",
      "==============================================================\n",
      "\n"
     ]
    }
   ],
   "source": [
    "data_sub = data[['replay_freq_0_1_all', 'mouse',\n",
    "                 'd_hmm_dprime_next', 'd_hmm_dprime_prev']]\n",
    "# 0s in the dependent variable still converges, but LL is infinite\n",
    "data_sub.replace(0, np.nan, inplace=True)\n",
    "data_sub.dropna(inplace=True)\n",
    "\n",
    "endog = np.array(data_sub['replay_freq_0_1_all'] )\n",
    "exog = np.array(data_sub[['d_hmm_dprime_next', 'd_hmm_dprime_prev']])\n",
    "exog = sm.add_constant(exog)\n",
    "\n",
    "# family = sm.families.Gamma()\n",
    "family = sm.families.Gamma(link=sm.families.links.log)\n",
    "# family = sm.families.Gaussian()\n",
    "# family = sm.families.Gaussian(link=sm.families.links.log)\n",
    "\n",
    "glm = sm.GLM(endog, exog, family=family)\n",
    "glm_results = glm.fit()\n",
    "print(glm_results.summary2())"
   ]
  },
  {
   "cell_type": "code",
   "execution_count": 44,
   "metadata": {},
   "outputs": [
    {
     "name": "stdout",
     "output_type": "stream",
     "text": [
      "               Results: Generalized linear model\n",
      "==============================================================\n",
      "Model:              GLM              AIC:            -559.8084\n",
      "Link Function:      log              BIC:            -230.3614\n",
      "Dependent Variable: y                Log-Likelihood: 282.90   \n",
      "Date:               2018-05-18 13:55 LL-Null:        282.64   \n",
      "No. Observations:   82               Deviance:       117.77   \n",
      "Df Model:           2                Pearson chi2:   134.     \n",
      "Df Residuals:       79               Scale:          1.6961   \n",
      "Method:             IRLS                                      \n",
      "---------------------------------------------------------------\n",
      "           Coef.   Std.Err.     z      P>|z|    [0.025   0.975]\n",
      "---------------------------------------------------------------\n",
      "const     -4.4500    0.1476  -30.1441  0.0000  -4.7394  -4.1607\n",
      "x1        -0.0215    0.1258   -0.1706  0.8645  -0.2680   0.2251\n",
      "x2        -0.1005    0.1274   -0.7887  0.4303  -0.3502   0.1492\n",
      "==============================================================\n",
      "\n"
     ]
    }
   ],
   "source": [
    "data_sub = data[['replay_freq_0_1_all', 'mouse',\n",
    "                 'd_hmm_dprime_same_day', 'd_hmm_dprime_next_day']]\n",
    "# 0s in the dependent variable still converges, but LL is infinite\n",
    "data_sub.replace(0, np.nan, inplace=True)\n",
    "data_sub.dropna(inplace=True)\n",
    "\n",
    "endog = np.array(data_sub['replay_freq_0_1_all'] )\n",
    "exog = np.array(data_sub[['d_hmm_dprime_same_day', 'd_hmm_dprime_next_day']])\n",
    "exog = sm.add_constant(exog)\n",
    "\n",
    "# family = sm.families.Gamma()\n",
    "family = sm.families.Gamma(link=sm.families.links.log)\n",
    "# family = sm.families.Gaussian()\n",
    "# family = sm.families.Gaussian(link=sm.families.links.log)\n",
    "\n",
    "glm = sm.GLM(endog, exog, family=family)\n",
    "glm_results = glm.fit()\n",
    "print(glm_results.summary2())"
   ]
  },
  {
   "cell_type": "markdown",
   "metadata": {},
   "source": [
    "### Change in performance and overall performance influence reactivation rate"
   ]
  },
  {
   "cell_type": "code",
   "execution_count": 45,
   "metadata": {},
   "outputs": [
    {
     "name": "stdout",
     "output_type": "stream",
     "text": [
      "                  Results: Generalized linear model\n",
      "=====================================================================\n",
      "Model:                GLM                  AIC:             -506.1908\n",
      "Link Function:        log                  BIC:             -193.9813\n",
      "Dependent Variable:   replay_freq_0_1_all  Log-Likelihood:  261.10   \n",
      "Date:                 2018-05-18 13:55     LL-Null:         249.29   \n",
      "No. Observations:     72                   Deviance:        79.725   \n",
      "Df Model:             7                    Pearson chi2:    64.2     \n",
      "Df Residuals:         64                   Scale:           1.0027   \n",
      "Method:               IRLS                                           \n",
      "---------------------------------------------------------------------\n",
      "                       Coef.  Std.Err.    z    P>|z|   [0.025  0.975]\n",
      "---------------------------------------------------------------------\n",
      "Intercept             -0.2609   1.0641 -0.2452 0.8063 -2.3465  1.8246\n",
      "hmm_behavior_plus     -2.7717   1.0627 -2.6083 0.0091 -4.8545 -0.6889\n",
      "hmm_behavior_minus    -4.2015   1.5949 -2.6344 0.0084 -7.3274 -1.0756\n",
      "hmm_behavior_neutral   1.8828   1.4382  1.3092 0.1905 -0.9359  4.7015\n",
      "d_hmm_dprime_next     -0.0936   0.1262 -0.7417 0.4583 -0.3409  0.1537\n",
      "d_hmm_dprime_prev      0.0969   0.1473  0.6574 0.5109 -0.1919  0.3856\n",
      "d_hmm_dprime_same_day -0.0620   0.1047 -0.5922 0.5537 -0.2671  0.1431\n",
      "d_hmm_dprime_next_day -0.0449   0.1009 -0.4449 0.6564 -0.2426  0.1529\n",
      "=====================================================================\n",
      "\n"
     ]
    }
   ],
   "source": [
    "formula = 'replay_freq_0_1_all ~ hmm_behavior_plus + hmm_behavior_minus + hmm_behavior_neutral + d_hmm_dprime_next + d_hmm_dprime_prev + d_hmm_dprime_same_day + d_hmm_dprime_next_day'\n",
    "\n",
    "data_sub = data[['replay_freq_0_1_all', 'mouse',\n",
    "                 'hmm_behavior_plus', 'hmm_behavior_minus', 'hmm_behavior_neutral', 'd_hmm_dprime_next', 'd_hmm_dprime_prev', 'd_hmm_dprime_same_day', 'd_hmm_dprime_next_day', 'hmm_dprime']]\n",
    "# 0s in the dependent variable still converges, but LL is infinite\n",
    "data_sub.replace(0, np.nan, inplace=True)\n",
    "data_sub.dropna(inplace=True)\n",
    "\n",
    "y, X = patsy.dmatrices(formula, data_sub, return_type='dataframe')\n",
    "X = sm.add_constant(X)\n",
    "\n",
    "# family = sm.families.Gamma()\n",
    "family = sm.families.Gamma(link=sm.families.links.log)\n",
    "# family = sm.families.Gaussian()\n",
    "# family = sm.families.Gaussian(link=sm.families.links.log)\n",
    "\n",
    "glm = sm.GLM(y, X, family=family)\n",
    "glm_results = glm.fit()\n",
    "print(glm_results.summary2())"
   ]
  },
  {
   "cell_type": "code",
   "execution_count": 46,
   "metadata": {},
   "outputs": [
    {
     "name": "stdout",
     "output_type": "stream",
     "text": [
      "               Results: Generalized linear model\n",
      "==============================================================\n",
      "Model:              GLM              AIC:            -548.6504\n",
      "Link Function:      inverse_power    BIC:            -196.4728\n",
      "Dependent Variable: y                Log-Likelihood: 278.33   \n",
      "Date:               2018-05-18 13:55 LL-Null:        300.32   \n",
      "No. Observations:   86               Deviance:       168.78   \n",
      "Df Model:           3                Pearson chi2:   89.5     \n",
      "Df Residuals:       82               Scale:          1.0918   \n",
      "Method:             IRLS                                      \n",
      "---------------------------------------------------------------\n",
      "          Coef.    Std.Err.     z     P>|z|    [0.025    0.975]\n",
      "---------------------------------------------------------------\n",
      "const     11.9638    6.1586   1.9426  0.0521   -0.1069  24.0345\n",
      "x1       -25.2277   10.6168  -2.3762  0.0175  -46.0363  -4.4191\n",
      "x2         1.5515    8.6804   0.1787  0.8581  -15.4618  18.5647\n",
      "x3        50.0576    7.1339   7.0169  0.0000   36.0754  64.0398\n",
      "==============================================================\n",
      "\n"
     ]
    }
   ],
   "source": [
    "data_sub = data[['replay_freq_0_1_all', 'mouse',\n",
    "                 'hmm_dprime', 'd_hmm_dprime_prev', 'd_hmm_dprime_same_day']]\n",
    "# 0s in the dependent variable still converges, but LL is infinite\n",
    "data_sub.replace(0, np.nan, inplace=True)\n",
    "data_sub.dropna(inplace=True)\n",
    "\n",
    "endog = np.array(data_sub['replay_freq_0_1_all'] )\n",
    "exog = np.array(data_sub[['d_hmm_dprime_prev', 'd_hmm_dprime_same_day', 'hmm_dprime']])\n",
    "exog = sm.add_constant(exog)\n",
    "\n",
    "family = sm.families.Gamma()\n",
    "# family = sm.families.Gamma(link=sm.families.links.log)\n",
    "# family = sm.families.Gaussian()\n",
    "# family = sm.families.Gaussian(link=sm.families.links.log)\n",
    "\n",
    "glm = sm.GLM(endog, exog, family=family)\n",
    "glm_results = glm.fit()\n",
    "print(glm_results.summary2())"
   ]
  },
  {
   "cell_type": "code",
   "execution_count": 47,
   "metadata": {},
   "outputs": [
    {
     "name": "stdout",
     "output_type": "stream",
     "text": [
      "               Results: Generalized linear model\n",
      "==============================================================\n",
      "Model:              GLM              AIC:            -560.4816\n",
      "Link Function:      inverse_power    BIC:            -209.5347\n",
      "Dependent Variable: y                Log-Likelihood: 283.24   \n",
      "Date:               2018-05-18 13:55 LL-Null:        305.94   \n",
      "No. Observations:   88               Deviance:       171.04   \n",
      "Df Model:           2                Pearson chi2:   90.2     \n",
      "Df Residuals:       85               Scale:          1.0617   \n",
      "Method:             IRLS                                      \n",
      "---------------------------------------------------------------\n",
      "          Coef.    Std.Err.     z     P>|z|    [0.025    0.975]\n",
      "---------------------------------------------------------------\n",
      "const     11.1914    5.0662   2.2090  0.0272    1.2618  21.1209\n",
      "x1       -25.2898   10.1461  -2.4926  0.0127  -45.1758  -5.4038\n",
      "x2        49.3626    6.3510   7.7724  0.0000   36.9149  61.8103\n",
      "==============================================================\n",
      "\n"
     ]
    }
   ],
   "source": [
    "data_sub = data[['replay_freq_0_1_all', 'mouse',\n",
    "                 'hmm_dprime', 'd_hmm_dprime_prev']]\n",
    "# 0s in the dependent variable still converges, but LL is infinite\n",
    "data_sub.replace(0, np.nan, inplace=True)\n",
    "data_sub.dropna(inplace=True)\n",
    "\n",
    "endog = np.array(data_sub['replay_freq_0_1_all'] )\n",
    "exog = np.array(data_sub[['d_hmm_dprime_prev', 'hmm_dprime']])\n",
    "exog = sm.add_constant(exog)\n",
    "\n",
    "family = sm.families.Gamma()\n",
    "# family = sm.families.Gamma(link=sm.families.links.log)\n",
    "# family = sm.families.Gaussian()\n",
    "# family = sm.families.Gaussian(link=sm.families.links.log)\n",
    "\n",
    "glm = sm.GLM(endog, exog, family=family)\n",
    "glm_results = glm.fit()\n",
    "print(glm_results.summary2())"
   ]
  },
  {
   "cell_type": "code",
   "execution_count": 48,
   "metadata": {},
   "outputs": [
    {
     "name": "stdout",
     "output_type": "stream",
     "text": [
      "               Results: Generalized linear model\n",
      "==============================================================\n",
      "Model:              GLM              AIC:            -558.4334\n",
      "Link Function:      inverse_power    BIC:            -205.1601\n",
      "Dependent Variable: y                Log-Likelihood: 283.22   \n",
      "Date:               2018-05-18 13:55 LL-Null:        305.93   \n",
      "No. Observations:   88               Deviance:       170.94   \n",
      "Df Model:           3                Pearson chi2:   89.0     \n",
      "Df Residuals:       84               Scale:          1.0590   \n",
      "Method:             IRLS                                      \n",
      "---------------------------------------------------------------\n",
      "          Coef.    Std.Err.     z     P>|z|    [0.025    0.975]\n",
      "---------------------------------------------------------------\n",
      "const     10.7904    5.2518   2.0546  0.0399    0.4971  21.0837\n",
      "x1       -28.2439   14.5804  -1.9371  0.0527  -56.8210   0.3333\n",
      "x2        48.6064    6.7713   7.1783  0.0000   35.3349  61.8779\n",
      "x3         2.5089    8.4801   0.2959  0.7673  -14.1118  19.1295\n",
      "==============================================================\n",
      "\n"
     ]
    }
   ],
   "source": [
    "data_sub = data[['replay_freq_0_1_all', 'mouse',\n",
    "                 'hmm_dprime', 'd_hmm_dprime_prev']]\n",
    "# 0s in the dependent variable still converges, but LL is infinite\n",
    "data_sub.replace(0, np.nan, inplace=True)\n",
    "data_sub.dropna(inplace=True)\n",
    "\n",
    "data_sub['dprime_x_d_dprime'] = data_sub['hmm_dprime'] * data_sub['d_hmm_dprime_prev']\n",
    "\n",
    "endog = np.array(data_sub['replay_freq_0_1_all'] )\n",
    "exog = np.array(data_sub[['d_hmm_dprime_prev', 'hmm_dprime', 'dprime_x_d_dprime']])\n",
    "exog = sm.add_constant(exog)\n",
    "\n",
    "family = sm.families.Gamma()\n",
    "# family = sm.families.Gamma(link=sm.families.links.log)\n",
    "# family = sm.families.Gaussian()\n",
    "# family = sm.families.Gaussian(link=sm.families.links.log)\n",
    "\n",
    "glm = sm.GLM(endog, exog, family=family)\n",
    "glm_results = glm.fit()\n",
    "print(glm_results.summary2())"
   ]
  },
  {
   "cell_type": "code",
   "execution_count": 49,
   "metadata": {},
   "outputs": [
    {
     "name": "stdout",
     "output_type": "stream",
     "text": [
      "               Results: Generalized linear model\n",
      "==============================================================\n",
      "Model:              GLM              AIC:            -681.7197\n",
      "Link Function:      inverse_power    BIC:            -306.8889\n",
      "Dependent Variable: y                Log-Likelihood: 343.86   \n",
      "Date:               2018-05-18 13:55 LL-Null:        335.55   \n",
      "No. Observations:   96               Deviance:       117.60   \n",
      "Df Model:           2                Pearson chi2:   105.     \n",
      "Df Residuals:       93               Scale:          1.1343   \n",
      "Method:             IRLS                                      \n",
      "---------------------------------------------------------------\n",
      "            Coef.   Std.Err.    z     P>|z|    [0.025    0.975]\n",
      "---------------------------------------------------------------\n",
      "const      43.9240   10.7625  4.0812  0.0000   22.8299  65.0181\n",
      "x1          0.8433   11.0421  0.0764  0.9391  -20.7988  22.4853\n",
      "x2         30.8612    7.5949  4.0634  0.0000   15.9755  45.7469\n",
      "==============================================================\n",
      "\n"
     ]
    }
   ],
   "source": [
    "data_sub = data[['replay_freq_0_1_all', 'mouse',\n",
    "                 'hmm_dprime', 'd_hmm_dprime_same_day']]\n",
    "# 0s in the dependent variable still converges, but LL is infinite\n",
    "data_sub.replace(0, np.nan, inplace=True)\n",
    "data_sub.dropna(inplace=True)\n",
    "\n",
    "endog = np.array(data_sub['replay_freq_0_1_all'] )\n",
    "exog = np.array(data_sub[['d_hmm_dprime_same_day', 'hmm_dprime']])\n",
    "exog = sm.add_constant(exog)\n",
    "\n",
    "family = sm.families.Gamma()\n",
    "# family = sm.families.Gamma(link=sm.families.links.log)\n",
    "# family = sm.families.Gaussian()\n",
    "# family = sm.families.Gaussian(link=sm.families.links.log)\n",
    "\n",
    "glm = sm.GLM(endog, exog, family=family)\n",
    "glm_results = glm.fit()\n",
    "print(glm_results.summary2())"
   ]
  },
  {
   "cell_type": "code",
   "execution_count": 50,
   "metadata": {},
   "outputs": [
    {
     "name": "stdout",
     "output_type": "stream",
     "text": [
      "               Results: Generalized linear model\n",
      "==============================================================\n",
      "Model:              GLM              AIC:            -678.5465\n",
      "Link Function:      log              BIC:            -301.4091\n",
      "Dependent Variable: y                Log-Likelihood: 343.27   \n",
      "Date:               2018-05-18 13:55 LL-Null:        335.65   \n",
      "No. Observations:   96               Deviance:       118.51   \n",
      "Df Model:           3                Pearson chi2:   108.     \n",
      "Df Residuals:       92               Scale:          1.1759   \n",
      "Method:             IRLS                                      \n",
      "---------------------------------------------------------------\n",
      "           Coef.   Std.Err.     z      P>|z|    [0.025   0.975]\n",
      "---------------------------------------------------------------\n",
      "const     -3.9219    0.2089  -18.7714  0.0000  -4.3314  -3.5124\n",
      "x1        -0.1117    0.3039   -0.3675  0.7132  -0.7074   0.4840\n",
      "x2        -0.3235    0.0882   -3.6653  0.0002  -0.4964  -0.1505\n",
      "x3         0.0273    0.1064    0.2562  0.7978  -0.1813   0.2358\n",
      "==============================================================\n",
      "\n"
     ]
    }
   ],
   "source": [
    "data_sub = data[['replay_freq_0_1_all', 'mouse',\n",
    "                 'hmm_dprime', 'd_hmm_dprime_same_day']]\n",
    "# 0s in the dependent variable still converges, but LL is infinite\n",
    "data_sub.replace(0, np.nan, inplace=True)\n",
    "data_sub.dropna(inplace=True)\n",
    "\n",
    "data_sub['dprime_x_d_dprime'] = data_sub['hmm_dprime'] * data_sub['d_hmm_dprime_same_day']\n",
    "\n",
    "endog = np.array(data_sub['replay_freq_0_1_all'] )\n",
    "exog = np.array(data_sub[['d_hmm_dprime_same_day', 'hmm_dprime', 'dprime_x_d_dprime']])\n",
    "exog = sm.add_constant(exog)\n",
    "\n",
    "# family = sm.families.Gamma()\n",
    "family = sm.families.Gamma(link=sm.families.links.log)\n",
    "# family = sm.families.Gaussian()\n",
    "# family = sm.families.Gaussian(link=sm.families.links.log)\n",
    "\n",
    "glm = sm.GLM(endog, exog, family=family)\n",
    "glm_results = glm.fit()\n",
    "print(glm_results.summary2())"
   ]
  },
  {
   "cell_type": "markdown",
   "metadata": {},
   "source": [
    "### Reactivation predict performance"
   ]
  },
  {
   "cell_type": "code",
   "execution_count": 51,
   "metadata": {},
   "outputs": [
    {
     "name": "stdout",
     "output_type": "stream",
     "text": [
      "                    Results: Generalized linear model\n",
      "=========================================================================\n",
      "Model:                  GLM                  AIC:               204.7838 \n",
      "Link Function:          identity             BIC:               -183.5594\n",
      "Dependent Variable:     d_hmm_dprime_next    Log-Likelihood:    -98.392  \n",
      "Date:                   2018-05-18 13:55     LL-Null:           -98.493  \n",
      "No. Observations:       66                   Deviance:          76.199   \n",
      "Df Model:               3                    Pearson chi2:      76.2     \n",
      "Df Residuals:           62                   Scale:             1.2290   \n",
      "Method:                 IRLS                                             \n",
      "-------------------------------------------------------------------------\n",
      "                         Coef.  Std.Err.    z    P>|z|   [0.025   0.975] \n",
      "-------------------------------------------------------------------------\n",
      "Intercept                0.1340   0.1987  0.6744 0.5000  -0.2554   0.5234\n",
      "replay_freq_0_1_plus     3.8415  34.8680  0.1102 0.9123 -64.4986  72.1816\n",
      "replay_freq_0_1_minus   -3.1869  43.6455 -0.0730 0.9418 -88.7305  82.3568\n",
      "replay_freq_0_1_neutral  6.5271  49.8436  0.1310 0.8958 -91.1646 104.2189\n",
      "=========================================================================\n",
      "\n"
     ]
    }
   ],
   "source": [
    "formula = 'd_hmm_dprime_next ~ replay_freq_0_1_plus + replay_freq_0_1_minus + replay_freq_0_1_neutral'\n",
    "\n",
    "data_sub = data[['replay_freq_0_1_plus', 'replay_freq_0_1_minus', 'replay_freq_0_1_neutral', 'mouse',\n",
    "                 'd_hmm_dprime_next']]\n",
    "# 0s in the dependent variable still converges, but LL is infinite\n",
    "data_sub.replace(0, np.nan, inplace=True)\n",
    "data_sub.dropna(inplace=True)\n",
    "\n",
    "y, X = patsy.dmatrices(formula, data_sub, return_type='dataframe')\n",
    "X = sm.add_constant(X)\n",
    "\n",
    "# family = sm.families.Gamma()\n",
    "# family = sm.families.Gamma(link=sm.families.links.log)\n",
    "family = sm.families.Gaussian()\n",
    "# family = sm.families.Gaussian(link=sm.families.links.log)\n",
    "\n",
    "glm = sm.GLM(y, X, family=family)\n",
    "glm_results = glm.fit()\n",
    "print(glm_results.summary2())"
   ]
  },
  {
   "cell_type": "code",
   "execution_count": 52,
   "metadata": {},
   "outputs": [
    {
     "name": "stdout",
     "output_type": "stream",
     "text": [
      "                     Results: Generalized linear model\n",
      "===========================================================================\n",
      "Model:                  GLM                     AIC:              211.0894 \n",
      "Link Function:          identity                BIC:              -160.0294\n",
      "Dependent Variable:     d_hmm_dprime_next_day   Log-Likelihood:   -101.54  \n",
      "Date:                   2018-05-18 13:55        LL-Null:          -102.38  \n",
      "No. Observations:       64                      Deviance:         89.504   \n",
      "Df Model:               3                       Pearson chi2:     89.5     \n",
      "Df Residuals:           60                      Scale:            1.4917   \n",
      "Method:                 IRLS                                               \n",
      "---------------------------------------------------------------------------\n",
      "                         Coef.   Std.Err.    z    P>|z|    [0.025   0.975] \n",
      "---------------------------------------------------------------------------\n",
      "Intercept                 0.1155   0.2224  0.5195 0.6034   -0.3204   0.5514\n",
      "replay_freq_0_1_plus    -26.3428  38.9034 -0.6771 0.4983 -102.5920  49.9063\n",
      "replay_freq_0_1_minus    40.2720  48.1945  0.8356 0.4034  -54.1875 134.7315\n",
      "replay_freq_0_1_neutral   2.2447  55.3460  0.0406 0.9676 -106.2314 110.7208\n",
      "===========================================================================\n",
      "\n"
     ]
    }
   ],
   "source": [
    "formula = 'd_hmm_dprime_next_day ~ replay_freq_0_1_plus + replay_freq_0_1_minus + replay_freq_0_1_neutral'\n",
    "\n",
    "data_sub = data[['replay_freq_0_1_plus', 'replay_freq_0_1_minus', 'replay_freq_0_1_neutral', 'mouse',\n",
    "                 'd_hmm_dprime_next_day']]\n",
    "# 0s in the dependent variable still converges, but LL is infinite\n",
    "data_sub.replace(0, np.nan, inplace=True)\n",
    "data_sub.dropna(inplace=True)\n",
    "\n",
    "y, X = patsy.dmatrices(formula, data_sub, return_type='dataframe')\n",
    "X = sm.add_constant(X)\n",
    "\n",
    "# family = sm.families.Gamma()\n",
    "# family = sm.families.Gamma(link=sm.families.links.log)\n",
    "family = sm.families.Gaussian()\n",
    "# family = sm.families.Gaussian(link=sm.families.links.log)\n",
    "\n",
    "glm = sm.GLM(y, X, family=family)\n",
    "glm_results = glm.fit()\n",
    "print(glm_results.summary2())"
   ]
  },
  {
   "cell_type": "code",
   "execution_count": 53,
   "metadata": {},
   "outputs": [
    {
     "name": "stdout",
     "output_type": "stream",
     "text": [
      "                           Results: Generalized linear model\n",
      "======================================================================================\n",
      "Model:                     GLM                         AIC:                  283.2270 \n",
      "Link Function:             identity                    BIC:                  -250.8331\n",
      "Dependent Variable:        d_hmm_dprime_next_day       Log-Likelihood:       -133.61  \n",
      "Date:                      2018-05-18 13:55            LL-Null:              -136.00  \n",
      "No. Observations:          88                          Deviance:             107.35   \n",
      "Df Model:                  7                           Pearson chi2:         107.     \n",
      "Df Residuals:              80                          Scale:                1.3419   \n",
      "Method:                    IRLS                                                       \n",
      "--------------------------------------------------------------------------------------\n",
      "                                    Coef.   Std.Err.    z    P>|z|    [0.025   0.975] \n",
      "--------------------------------------------------------------------------------------\n",
      "Intercept                            0.2629   0.3731  0.7047 0.4810   -0.4683   0.9942\n",
      "replay_freq_0_1_plus                63.2531  67.7385  0.9338 0.3504  -69.5119 196.0180\n",
      "replay_freq_0_1_minus               -2.4990  48.0596 -0.0520 0.9585  -96.6941  91.6962\n",
      "replay_freq_0_1_neutral            -93.6815  84.0502 -1.1146 0.2650 -258.4169  71.0539\n",
      "hmm_dprime                          -0.0355   0.1642 -0.2160 0.8290   -0.3574   0.2864\n",
      "replay_freq_0_1_plus:hmm_dprime    -81.9878  47.7016 -1.7188 0.0857 -175.4813  11.5057\n",
      "replay_freq_0_1_minus:hmm_dprime    11.1995  25.7239  0.4354 0.6633  -39.2185  61.6175\n",
      "replay_freq_0_1_neutral:hmm_dprime 102.8264  65.8792  1.5608 0.1186  -26.2945 231.9473\n",
      "======================================================================================\n",
      "\n"
     ]
    }
   ],
   "source": [
    "formula = 'd_hmm_dprime_next_day ~ (replay_freq_0_1_plus + replay_freq_0_1_minus + replay_freq_0_1_neutral) * hmm_dprime'\n",
    "\n",
    "data_sub = data[['replay_freq_0_1_plus', 'replay_freq_0_1_minus', 'replay_freq_0_1_neutral', 'mouse',\n",
    "                 'd_hmm_dprime_next_day', 'hmm_dprime']]\n",
    "# 0s in the dependent variable still converges, but LL is infinite\n",
    "# data_sub.replace(0, np.nan, inplace=True)\n",
    "# data_sub.dropna(inplace=True)\n",
    "\n",
    "y, X = patsy.dmatrices(formula, data_sub, return_type='dataframe')\n",
    "X = sm.add_constant(X)\n",
    "\n",
    "# family = sm.families.Gamma()\n",
    "# family = sm.families.Gamma(link=sm.families.links.log)\n",
    "family = sm.families.Gaussian()\n",
    "# family = sm.families.Gaussian(link=sm.families.links.log)\n",
    "\n",
    "glm = sm.GLM(y, X, family=family)\n",
    "glm_results = glm.fit()\n",
    "print(glm_results.summary2())"
   ]
  },
  {
   "cell_type": "markdown",
   "metadata": {},
   "source": [
    "## Trial counts instead of rates"
   ]
  },
  {
   "cell_type": "code",
   "execution_count": 54,
   "metadata": {},
   "outputs": [
    {
     "name": "stdout",
     "output_type": "stream",
     "text": [
      "                       Results: Generalized linear model\n",
      "===============================================================================\n",
      "Model:                    GLM                     AIC:                -616.5178\n",
      "Link Function:            log                     BIC:                -249.2124\n",
      "Dependent Variable:       replay_freq_0_1_all     Log-Likelihood:     322.26   \n",
      "Date:                     2018-05-18 13:55        LL-Null:            307.33   \n",
      "No. Observations:         90                      Deviance:           92.773   \n",
      "Df Model:                 13                      Pearson chi2:       73.0     \n",
      "Df Residuals:             76                      Scale:              0.96077  \n",
      "Method:                   IRLS                                                 \n",
      "-------------------------------------------------------------------------------\n",
      "                                 Coef.  Std.Err.    z    P>|z|   [0.025  0.975]\n",
      "-------------------------------------------------------------------------------\n",
      "Intercept                       -4.6746   0.8595 -5.4390 0.0000 -6.3591 -2.9901\n",
      "hmm_ncorrect_plus               -0.0026   0.0111 -0.2307 0.8176 -0.0243  0.0192\n",
      "hmm_ncorrect_minus              -0.0058   0.0178 -0.3234 0.7464 -0.0407  0.0292\n",
      "hmm_ncorrect_neutral             0.0031   0.0144  0.2121 0.8320 -0.0251  0.0312\n",
      "hmm_nfalse_plus                  0.0206   0.0251  0.8203 0.4121 -0.0287  0.0699\n",
      "hmm_nfalse_minus                 0.0322   0.0183  1.7640 0.0777 -0.0036  0.0680\n",
      "hmm_nfalse_neutral              -0.0125   0.0158 -0.7936 0.4275 -0.0435  0.0184\n",
      "hmm_dprime                      -0.0590   0.5424 -0.1088 0.9134 -1.1222  1.0042\n",
      "hmm_ncorrect_plus:hmm_dprime    -0.0050   0.0066 -0.7488 0.4540 -0.0180  0.0080\n",
      "hmm_ncorrect_minus:hmm_dprime    0.0015   0.0108  0.1402 0.8885 -0.0196  0.0226\n",
      "hmm_ncorrect_neutral:hmm_dprime  0.0045   0.0091  0.4958 0.6201 -0.0133  0.0223\n",
      "hmm_nfalse_plus:hmm_dprime      -0.0014   0.0162 -0.0862 0.9313 -0.0331  0.0303\n",
      "hmm_nfalse_minus:hmm_dprime     -0.0101   0.0147 -0.6914 0.4893 -0.0389  0.0186\n",
      "hmm_nfalse_neutral:hmm_dprime    0.0079   0.0107  0.7362 0.4616 -0.0131  0.0290\n",
      "===============================================================================\n",
      "\n"
     ]
    }
   ],
   "source": [
    "formula = 'replay_freq_0_1_all ~ (hmm_ncorrect_plus + hmm_ncorrect_minus + hmm_ncorrect_neutral + hmm_nfalse_plus + hmm_nfalse_minus + hmm_nfalse_neutral) * hmm_dprime'\n",
    "\n",
    "data_sub = data[['replay_freq_0_1_all', 'mouse',\n",
    "                 'hmm_ncorrect_plus', 'hmm_ncorrect_minus', 'hmm_ncorrect_neutral',\n",
    "                 'hmm_nfalse_plus', 'hmm_nfalse_minus', 'hmm_nfalse_neutral', 'hmm_dprime']]\n",
    "# 0s in the dependent variable still converges, but LL is infinite\n",
    "data_sub.replace(0, np.nan, inplace=True)\n",
    "data_sub.dropna(inplace=True)\n",
    "\n",
    "y, X = patsy.dmatrices(formula, data_sub, return_type='dataframe')\n",
    "X = sm.add_constant(X)\n",
    "\n",
    "# family = sm.families.Gamma()\n",
    "family = sm.families.Gamma(link=sm.families.links.log)\n",
    "# family = sm.families.Gaussian()\n",
    "# family = sm.families.Gaussian(link=sm.families.links.log)\n",
    "\n",
    "glm = sm.GLM(y, X, family=family)\n",
    "glm_results = glm.fit()\n",
    "print(glm_results.summary2())"
   ]
  },
  {
   "cell_type": "code",
   "execution_count": 55,
   "metadata": {},
   "outputs": [
    {
     "name": "stdout",
     "output_type": "stream",
     "text": [
      "                      Results: Generalized linear model\n",
      "=============================================================================\n",
      "Model:                  GLM                     AIC:                -627.0221\n",
      "Link Function:          log                     BIC:                -280.3142\n",
      "Dependent Variable:     replay_freq_0_1_all     Log-Likelihood:     319.51   \n",
      "Date:                   2018-05-18 13:55        LL-Null:            305.84   \n",
      "No. Observations:       90                      Deviance:           97.670   \n",
      "Df Model:               5                       Pearson chi2:       73.1     \n",
      "Df Residuals:           84                      Scale:              0.87008  \n",
      "Method:                 IRLS                                                 \n",
      "-----------------------------------------------------------------------------\n",
      "                              Coef.  Std.Err.    z     P>|z|   [0.025  0.975]\n",
      "-----------------------------------------------------------------------------\n",
      "Intercept                    -4.9703   0.4404 -11.2849 0.0000 -5.8335 -4.1071\n",
      "hmm_ncorrect_plus            -0.0009   0.0040  -0.2237 0.8230 -0.0088  0.0070\n",
      "hmm_nfalse_minus              0.0270   0.0095   2.8584 0.0043  0.0085  0.0456\n",
      "hmm_dprime                    0.3822   0.3494   1.0939 0.2740 -0.3026  1.0671\n",
      "hmm_ncorrect_plus:hmm_dprime -0.0022   0.0021  -1.0710 0.2841 -0.0063  0.0019\n",
      "hmm_nfalse_minus:hmm_dprime  -0.0101   0.0054  -1.8775 0.0605 -0.0206  0.0004\n",
      "=============================================================================\n",
      "\n"
     ]
    }
   ],
   "source": [
    "formula = 'replay_freq_0_1_all ~ (hmm_ncorrect_plus + hmm_nfalse_minus) * hmm_dprime'\n",
    "\n",
    "data_sub = data[['replay_freq_0_1_all', 'mouse',\n",
    "                 'hmm_ncorrect_plus', 'hmm_ncorrect_minus', 'hmm_ncorrect_neutral',\n",
    "                 'hmm_nfalse_plus', 'hmm_nfalse_minus', 'hmm_nfalse_neutral', 'hmm_dprime']]\n",
    "# 0s in the dependent variable still converges, but LL is infinite\n",
    "data_sub.replace(0, np.nan, inplace=True)\n",
    "data_sub.dropna(inplace=True)\n",
    "\n",
    "y, X = patsy.dmatrices(formula, data_sub, return_type='dataframe')\n",
    "X = sm.add_constant(X)\n",
    "\n",
    "# family = sm.families.Gamma()\n",
    "family = sm.families.Gamma(link=sm.families.links.log)\n",
    "# family = sm.families.Gaussian()\n",
    "# family = sm.families.Gaussian(link=sm.families.links.log)\n",
    "\n",
    "glm = sm.GLM(y, X, family=family)\n",
    "glm_results = glm.fit()\n",
    "print(glm_results.summary2())"
   ]
  },
  {
   "cell_type": "code",
   "execution_count": 56,
   "metadata": {},
   "outputs": [
    {
     "name": "stdout",
     "output_type": "stream",
     "text": [
      "                 Mixed Linear Model Regression Results\n",
      "=======================================================================\n",
      "Model:              MixedLM   Dependent Variable:   replay_freq_0_1_all\n",
      "No. Observations:   103       Method:               REML               \n",
      "No. Groups:         8         Scale:                0.0001             \n",
      "Min. group size:    7         Likelihood:           267.5272           \n",
      "Max. group size:    23        Converged:            Yes                \n",
      "Mean group size:    12.9                                               \n",
      "-----------------------------------------------------------------------\n",
      "                             Coef.  Std.Err.   z    P>|z| [0.025 0.975]\n",
      "-----------------------------------------------------------------------\n",
      "Intercept                     0.005    0.006  0.820 0.412 -0.006  0.015\n",
      "hmm_ncorrect_plus             0.000    0.000  0.027 0.978 -0.000  0.000\n",
      "hmm_nfalse_minus              0.000    0.000  3.535 0.000  0.000  0.001\n",
      "hmm_dprime                    0.003    0.003  0.824 0.410 -0.004  0.009\n",
      "hmm_ncorrect_plus:hmm_dprime -0.000    0.000 -0.285 0.776 -0.000  0.000\n",
      "hmm_nfalse_minus:hmm_dprime  -0.000    0.000 -3.077 0.002 -0.000 -0.000\n",
      "Group RE                      0.000    0.003                           \n",
      "=======================================================================\n",
      "\n"
     ]
    }
   ],
   "source": [
    "formula = 'replay_freq_0_1_all ~ (hmm_ncorrect_plus + hmm_nfalse_minus) * hmm_dprime'\n",
    "\n",
    "data_sub = data[['replay_freq_0_1_all', 'mouse',\n",
    "                 'hmm_ncorrect_plus', 'hmm_ncorrect_minus', 'hmm_ncorrect_neutral',\n",
    "                 'hmm_nfalse_plus', 'hmm_nfalse_minus', 'hmm_nfalse_neutral', 'hmm_dprime']]\n",
    "data_sub.dropna(inplace=True)\n",
    "md = mixedlm(formula, data_sub, groups='mouse', re_formula='1').fit()\n",
    "print(md.summary())"
   ]
  },
  {
   "cell_type": "code",
   "execution_count": 57,
   "metadata": {},
   "outputs": [
    {
     "name": "stdout",
     "output_type": "stream",
     "text": [
      "              Mixed Linear Model Regression Results\n",
      "=================================================================\n",
      "Model:            MixedLM Dependent Variable: replay_freq_0_1_all\n",
      "No. Observations: 103     Method:             REML               \n",
      "No. Groups:       8       Scale:              0.0001             \n",
      "Min. group size:  7       Likelihood:         284.6597           \n",
      "Max. group size:  23      Converged:          Yes                \n",
      "Mean group size:  12.9                                           \n",
      "------------------------------------------------------------------\n",
      "                   Coef.   Std.Err.    z     P>|z|  [0.025  0.975]\n",
      "------------------------------------------------------------------\n",
      "Intercept           0.012     0.005   2.145  0.032   0.001   0.023\n",
      "hmm_ncorrect_all   -0.000     0.000  -1.042  0.297  -0.000   0.000\n",
      "hmm_nfalse_all      0.000     0.000   2.252  0.024   0.000   0.000\n",
      "Group RE            0.000     0.003                               \n",
      "=================================================================\n",
      "\n"
     ]
    }
   ],
   "source": [
    "formula = 'replay_freq_0_1_all ~ hmm_ncorrect_all + hmm_nfalse_all'\n",
    "\n",
    "data_sub = data[['replay_freq_0_1_all', 'mouse',\n",
    "                 'hmm_ncorrect_all',\n",
    "                 'hmm_nfalse_all']]\n",
    "data_sub.dropna(inplace=True)\n",
    "md = mixedlm(formula, data_sub, groups='mouse', re_formula='1').fit()\n",
    "print(md.summary())"
   ]
  },
  {
   "cell_type": "code",
   "execution_count": 58,
   "metadata": {},
   "outputs": [
    {
     "name": "stdout",
     "output_type": "stream",
     "text": [
      "                        Results: Generalized linear model\n",
      "================================================================================\n",
      "Model:                   GLM                      AIC:                 -695.5335\n",
      "Link Function:           log                      BIC:                 -315.3669\n",
      "Dependent Variable:      replay_freq_0_1_all      Log-Likelihood:      351.77   \n",
      "Date:                    2018-05-18 13:55         LL-Null:             340.37   \n",
      "No. Observations:        98                       Deviance:            115.62   \n",
      "Df Model:                3                        Pearson chi2:        94.4     \n",
      "Df Residuals:            94                       Scale:               1.0039   \n",
      "Method:                  IRLS                                                   \n",
      "--------------------------------------------------------------------------------\n",
      "                                 Coef.  Std.Err.    z     P>|z|   [0.025  0.975]\n",
      "--------------------------------------------------------------------------------\n",
      "Intercept                       -5.4445   0.5254 -10.3622 0.0000 -6.4743 -4.4147\n",
      "hmm_ncorrect_all                 0.0010   0.0015   0.7161 0.4739 -0.0018  0.0039\n",
      "hmm_nfalse_all                   0.0171   0.0063   2.7163 0.0066  0.0048  0.0295\n",
      "hmm_ncorrect_all:hmm_nfalse_all -0.0000   0.0000  -1.7693 0.0768 -0.0001  0.0000\n",
      "================================================================================\n",
      "\n"
     ]
    },
    {
     "data": {
      "image/png": "[encoded data removed]",
      "text/plain": [
       "<Figure size 432x288 with 2 Axes>"
      ]
     },
     "metadata": {},
     "output_type": "display_data"
    }
   ],
   "source": [
    "formula = 'replay_freq_0_1_all ~ hmm_ncorrect_all * hmm_nfalse_all'\n",
    "\n",
    "data_sub = data[['replay_freq_0_1_all', 'mouse',\n",
    "                 'hmm_ncorrect_all',\n",
    "                 'hmm_nfalse_all']]\n",
    "\n",
    "# 0s in the dependent variable still converges, but LL is infinite\n",
    "data_sub.replace(0, np.nan, inplace=True)\n",
    "data_sub.dropna(inplace=True)\n",
    "\n",
    "y, X = patsy.dmatrices(formula, data_sub, return_type='dataframe')\n",
    "X = sm.add_constant(X)\n",
    "\n",
    "# family = sm.families.Gamma()\n",
    "family = sm.families.Gamma(link=sm.families.links.log)\n",
    "# family = sm.families.Gaussian()\n",
    "# family = sm.families.Gaussian(link=sm.families.links.log)\n",
    "\n",
    "glm = sm.GLM(y, X, family=family)\n",
    "glm_results = glm.fit()\n",
    "print(glm_results.summary2())\n",
    "\n",
    "exog = glm.exog\n",
    "x1_range = (exog[:, 1:3].min(), exog[:, 1:3].max())\n",
    "x2_range = x1_range\n",
    "x1_val = np.linspace(x1_range[0], x1_range[1], exog.shape[0])\n",
    "x2_val = np.linspace(x1_range[0], x1_range[1], exog.shape[0])\n",
    "x1_val_mesh, x2_val_mesh = np.meshgrid(x1_val, x2_val)\n",
    "new_exog = np.ones((np.prod(x1_val_mesh.shape), 4))\n",
    "new_exog[:, 1] = x1_val_mesh.flat\n",
    "new_exog[:, 2] = x2_val_mesh.flat\n",
    "new_exog[:, 3] = np.multiply(x1_val_mesh.flat, x2_val_mesh.flat)\n",
    "predict = glm_results.get_prediction(new_exog)\n",
    "\n",
    "fig, ax = plt.subplots()\n",
    "predict_react = np.reshape(predict.predicted_mean, x1_val_mesh.shape)\n",
    "plt.imshow(np.flipud(predict_react),\n",
    "          cmap=sns.cm.rocket_r, vmin=0, vmax=predict_react.max() * 0.05)\n",
    "plt.colorbar()\n",
    "ax.set_xticks([ax.get_xlim()[0] + 0.5, ax.get_xlim()[1] - 0.5])\n",
    "ax.set_xticklabels(x1_range)\n",
    "ax.set_yticks([ax.get_ylim()[0] + 0.5, ax.get_ylim()[1] - 0.5])\n",
    "ax.set_yticklabels(x2_range)\n",
    "ax.set_xlabel('# correct')\n",
    "ax.set_ylabel('# false');"
   ]
  },
  {
   "cell_type": "code",
   "execution_count": 59,
   "metadata": {
    "scrolled": false
   },
   "outputs": [
    {
     "name": "stdout",
     "output_type": "stream",
     "text": [
      "                    Results: Generalized linear model\n",
      "========================================================================\n",
      "Model:                 GLM                   AIC:              -639.4979\n",
      "Link Function:         log                   BIC:              -288.0380\n",
      "Dependent Variable:    replay_freq_0_1_all   Log-Likelihood:   323.75   \n",
      "Date:                  2018-05-18 13:55      LL-Null:          311.00   \n",
      "No. Observations:      91                    Deviance:         104.41   \n",
      "Df Model:              3                     Pearson chi2:     76.8     \n",
      "Df Residuals:          87                    Scale:            0.88239  \n",
      "Method:                IRLS                                             \n",
      "------------------------------------------------------------------------\n",
      "                         Coef.  Std.Err.    z     P>|z|   [0.025  0.975]\n",
      "------------------------------------------------------------------------\n",
      "Intercept               -4.6959   0.1289 -36.4407 0.0000 -4.9485 -4.4433\n",
      "ncorrect_all            -0.5337   0.1764  -3.0263 0.0025 -0.8794 -0.1881\n",
      "nfalse_all              -0.0464   0.1742  -0.2666 0.7898 -0.3878  0.2949\n",
      "ncorrect_all:nfalse_all -0.1627   0.1013  -1.6055 0.1084 -0.3612  0.0359\n",
      "========================================================================\n",
      "\n"
     ]
    },
    {
     "data": {
      "text/plain": [
       "<seaborn.axisgrid.JointGrid at 0x7fb0fa0e9990>"
      ]
     },
     "execution_count": 59,
     "metadata": {},
     "output_type": "execute_result"
    },
    {
     "data": {
      "image/png": "[encoded data removed]",
      "text/plain": [
       "<Figure size 432x432 with 3 Axes>"
      ]
     },
     "metadata": {},
     "output_type": "display_data"
    },
    {
     "data": {
      "image/png": "[encoded data removed]",
      "text/plain": [
       "<Figure size 432x432 with 3 Axes>"
      ]
     },
     "metadata": {},
     "output_type": "display_data"
    }
   ],
   "source": [
    "formula = 'replay_freq_0_1_all ~ ncorrect_all * nfalse_all'\n",
    "\n",
    "data_sub = data[['replay_freq_0_1_all', 'mouse',\n",
    "                 'ncorrect_plus', 'ncorrect_minus', 'ncorrect_neutral',\n",
    "                 'nfalse_plus', 'nfalse_minus', 'nfalse_neutral']]\n",
    "# HACK\n",
    "data_sub['nfalse_all'] = data_sub.nfalse_plus + data_sub.nfalse_minus + \\\n",
    "    data_sub.nfalse_neutral\n",
    "data_sub['ncorrect_all'] = data_sub.ncorrect_plus + \\\n",
    "    data_sub.ncorrect_minus + data_sub.ncorrect_neutral\n",
    "\n",
    "# 0s in the dependent variable still converges, but LL is infinite\n",
    "data_sub.replace(0, np.nan, inplace=True)\n",
    "data_sub.dropna(inplace=True)\n",
    "\n",
    "from scipy.stats.mstats import zscore\n",
    "data_sub = data_sub.assign(ncorrect_all=zscore(data_sub.ncorrect_all),\n",
    "                 nfalse_all=zscore(data_sub.nfalse_all))\n",
    "\n",
    "y, X = patsy.dmatrices(formula, data_sub, return_type='dataframe')\n",
    "X = sm.add_constant(X)\n",
    "\n",
    "# family = sm.families.Gamma()\n",
    "family = sm.families.Gamma(link=sm.families.links.log)\n",
    "# family = sm.families.Gaussian()\n",
    "# family = sm.families.Gaussian(link=sm.families.links.log)\n",
    "\n",
    "glm = sm.GLM(y, X, family=family)\n",
    "glm_results = glm.fit()\n",
    "print(glm_results.summary2())\n",
    "sns.jointplot(x='ncorrect_all', y='replay_freq_0_1_all', data=data_sub, kind='reg')\n",
    "sns.jointplot(x='nfalse_all', y='replay_freq_0_1_all', data=data_sub, kind='reg')"
   ]
  },
  {
   "cell_type": "code",
   "execution_count": 60,
   "metadata": {},
   "outputs": [
    {
     "name": "stdout",
     "output_type": "stream",
     "text": [
      "                  Results: Generalized linear model\n",
      "=====================================================================\n",
      "Model:                GLM                  AIC:             -626.5003\n",
      "Link Function:        log                  BIC:             -276.9956\n",
      "Dependent Variable:   replay_freq_0_1_all  Log-Likelihood:  320.25   \n",
      "Date:                 2018-05-18 13:55     LL-Null:         306.13   \n",
      "No. Observations:     90                   Deviance:        96.489   \n",
      "Df Model:             6                    Pearson chi2:    73.4     \n",
      "Df Residuals:         83                   Scale:           0.88390  \n",
      "Method:               IRLS                                           \n",
      "---------------------------------------------------------------------\n",
      "                      Coef.  Std.Err.    z     P>|z|   [0.025  0.975]\n",
      "---------------------------------------------------------------------\n",
      "Intercept            -4.8465   0.4336 -11.1778 0.0000 -5.6963 -3.9967\n",
      "hmm_ncorrect_plus    -0.0053   0.0036  -1.4624 0.1436 -0.0125  0.0018\n",
      "hmm_ncorrect_minus   -0.0003   0.0097  -0.0266 0.9788 -0.0192  0.0187\n",
      "hmm_ncorrect_neutral  0.0028   0.0080   0.3463 0.7291 -0.0128  0.0184\n",
      "hmm_nfalse_plus       0.0208   0.0100   2.0866 0.0369  0.0013  0.0403\n",
      "hmm_nfalse_minus      0.0314   0.0110   2.8412 0.0045  0.0097  0.0530\n",
      "hmm_nfalse_neutral   -0.0151   0.0076  -1.9892 0.0467 -0.0301 -0.0002\n",
      "=====================================================================\n",
      "\n"
     ]
    }
   ],
   "source": [
    "formula = 'replay_freq_0_1_all ~ hmm_ncorrect_plus + hmm_ncorrect_minus + hmm_ncorrect_neutral + hmm_nfalse_plus + hmm_nfalse_minus + hmm_nfalse_neutral'\n",
    "\n",
    "data_sub = data[['replay_freq_0_1_all', 'mouse',\n",
    "                 'hmm_ncorrect_plus', 'hmm_ncorrect_minus', 'hmm_ncorrect_neutral',\n",
    "                 'hmm_nfalse_plus', 'hmm_nfalse_minus', 'hmm_nfalse_neutral', 'hmm_dprime']]\n",
    "\n",
    "# 0s in the dependent variable still converges, but LL is infinite\n",
    "data_sub.replace(0, np.nan, inplace=True)\n",
    "data_sub.dropna(inplace=True)\n",
    "\n",
    "y, X = patsy.dmatrices(formula, data_sub, return_type='dataframe')\n",
    "X = sm.add_constant(X)\n",
    "\n",
    "# family = sm.families.Gamma()\n",
    "family = sm.families.Gamma(link=sm.families.links.log)\n",
    "# family = sm.families.Gaussian()\n",
    "# family = sm.families.Gaussian(link=sm.families.links.log)\n",
    "\n",
    "glm = sm.GLM(y, X, family=family)\n",
    "glm_results = glm.fit()\n",
    "print(glm_results.summary2())"
   ]
  },
  {
   "cell_type": "markdown",
   "metadata": {},
   "source": [
    "## Predict each replay type"
   ]
  },
  {
   "cell_type": "code",
   "execution_count": 61,
   "metadata": {},
   "outputs": [
    {
     "name": "stdout",
     "output_type": "stream",
     "text": [
      "                 Results: Generalized linear model\n",
      "===================================================================\n",
      "Model:                GLM                 AIC:            -628.8646\n",
      "Link Function:        log                 BIC:            -287.2336\n",
      "Dependent Variable:   replay_freq_0_1_all Log-Likelihood: 318.43   \n",
      "Date:                 2018-05-18 13:55    LL-Null:        306.22   \n",
      "No. Observations:     90                  Deviance:       99.750   \n",
      "Df Model:             3                   Pearson chi2:   76.4     \n",
      "Df Residuals:         86                  Scale:          0.88867  \n",
      "Method:               IRLS                                         \n",
      "-------------------------------------------------------------------\n",
      "                    Coef.  Std.Err.    z     P>|z|   [0.025  0.975]\n",
      "-------------------------------------------------------------------\n",
      "Intercept          -5.2163   0.1802 -28.9484 0.0000 -5.5694 -4.8631\n",
      "hmm_nfalse_plus     0.0217   0.0095   2.2783 0.0227  0.0030  0.0403\n",
      "hmm_nfalse_minus    0.0193   0.0079   2.4538 0.0141  0.0039  0.0347\n",
      "hmm_nfalse_neutral -0.0069   0.0065  -1.0635 0.2876 -0.0197  0.0058\n",
      "===================================================================\n",
      "\n"
     ]
    }
   ],
   "source": [
    "formula = 'replay_freq_0_1_all ~ hmm_nfalse_plus + hmm_nfalse_minus + hmm_nfalse_neutral'\n",
    "\n",
    "data_sub = data[['replay_freq_0_1_all', 'mouse',\n",
    "                 'hmm_nfalse_plus', 'hmm_nfalse_minus', 'hmm_nfalse_neutral']]\n",
    "\n",
    "# 0s in the dependent variable still converges, but LL is infinite\n",
    "data_sub.replace(0, np.nan, inplace=True)\n",
    "data_sub.dropna(inplace=True)\n",
    "\n",
    "y, X = patsy.dmatrices(formula, data_sub, return_type='dataframe')\n",
    "X = sm.add_constant(X)\n",
    "\n",
    "# family = sm.families.Gamma()\n",
    "family = sm.families.Gamma(link=sm.families.links.log)\n",
    "# family = sm.families.Gaussian()\n",
    "# family = sm.families.Gaussian(link=sm.families.links.log)\n",
    "\n",
    "glm = sm.GLM(y, X, family=family)\n",
    "glm_results = glm.fit()\n",
    "print(glm_results.summary2())"
   ]
  },
  {
   "cell_type": "code",
   "execution_count": 62,
   "metadata": {},
   "outputs": [
    {
     "name": "stdout",
     "output_type": "stream",
     "text": [
      "                Results: Generalized linear model\n",
      "=================================================================\n",
      "Model:              GLM                 AIC:            -694.6257\n",
      "Link Function:      log                 BIC:            -317.1363\n",
      "Dependent Variable: replay_freq_0_1_all Log-Likelihood: 350.31   \n",
      "Date:               2018-05-18 13:55    LL-Null:        340.14   \n",
      "No. Observations:   98                  Deviance:       118.44   \n",
      "Df Model:           2                   Pearson chi2:   93.7     \n",
      "Df Residuals:       95                  Scale:          0.98660  \n",
      "Method:             IRLS                                         \n",
      "------------------------------------------------------------------\n",
      "                Coef.   Std.Err.     z     P>|z|    [0.025  0.975]\n",
      "------------------------------------------------------------------\n",
      "Intercept      -2.1540    1.1172  -1.9279  0.0539  -4.3437  0.0358\n",
      "hmm_behavior   -3.1125    1.9128  -1.6272  0.1037  -6.8615  0.6365\n",
      "hmm_dprime      0.0057    0.2125   0.0269  0.9785  -0.4107  0.4222\n",
      "=================================================================\n",
      "\n"
     ]
    }
   ],
   "source": [
    "formula = 'replay_freq_0_1_all ~ hmm_behavior + hmm_dprime'\n",
    "\n",
    "data_sub = data[['replay_freq_0_1_all', 'mouse',\n",
    "                 'hmm_nfalse_all', 'hmm_behavior', 'hmm_dprime']]\n",
    "\n",
    "# 0s in the dependent variable still converges, but LL is infinite\n",
    "data_sub.replace(0, np.nan, inplace=True)\n",
    "data_sub.dropna(inplace=True)\n",
    "\n",
    "y, X = patsy.dmatrices(formula, data_sub, return_type='dataframe')\n",
    "X = sm.add_constant(X)\n",
    "\n",
    "# family = sm.families.Gamma()\n",
    "family = sm.families.Gamma(link=sm.families.links.log)\n",
    "# family = sm.families.Gaussian()\n",
    "# family = sm.families.Gaussian(link=sm.families.links.log)\n",
    "\n",
    "glm = sm.GLM(y, X, family=family)\n",
    "glm_results = glm.fit()\n",
    "print(glm_results.summary2())"
   ]
  },
  {
   "cell_type": "code",
   "execution_count": 63,
   "metadata": {},
   "outputs": [
    {
     "name": "stdout",
     "output_type": "stream",
     "text": [
      "                 Results: Generalized linear model\n",
      "===================================================================\n",
      "Model:               GLM                  AIC:            -803.7090\n",
      "Link Function:       log                  BIC:            -284.9932\n",
      "Dependent Variable:  replay_freq_0_1_plus Log-Likelihood: 405.85   \n",
      "Date:                2018-05-18 13:55     LL-Null:        387.61   \n",
      "No. Observations:    90                   Deviance:       101.99   \n",
      "Df Model:            3                    Pearson chi2:   90.1     \n",
      "Df Residuals:        86                   Scale:          1.0479   \n",
      "Method:              IRLS                                          \n",
      "-------------------------------------------------------------------\n",
      "                    Coef.  Std.Err.    z     P>|z|   [0.025  0.975]\n",
      "-------------------------------------------------------------------\n",
      "Intercept          -6.2935   0.1912 -32.9211 0.0000 -6.6682 -5.9188\n",
      "hmm_nfalse_plus     0.0254   0.0102   2.4912 0.0127  0.0054  0.0454\n",
      "hmm_nfalse_minus    0.0326   0.0086   3.7945 0.0001  0.0158  0.0494\n",
      "hmm_nfalse_neutral -0.0147   0.0068  -2.1654 0.0304 -0.0280 -0.0014\n",
      "===================================================================\n",
      "\n"
     ]
    }
   ],
   "source": [
    "formula = 'replay_freq_0_1_plus ~ hmm_nfalse_plus + hmm_nfalse_minus + hmm_nfalse_neutral'\n",
    "\n",
    "data_sub = data[['replay_freq_0_1_plus', 'mouse',\n",
    "                 'hmm_nfalse_plus', 'hmm_nfalse_minus', 'hmm_nfalse_neutral']]\n",
    "\n",
    "# 0s in the dependent variable still converges, but LL is infinite\n",
    "data_sub.replace(0, np.nan, inplace=True)\n",
    "data_sub.dropna(inplace=True)\n",
    "\n",
    "y, X = patsy.dmatrices(formula, data_sub, return_type='dataframe')\n",
    "X = sm.add_constant(X)\n",
    "\n",
    "# family = sm.families.Gamma()\n",
    "family = sm.families.Gamma(link=sm.families.links.log)\n",
    "# family = sm.families.Gaussian()\n",
    "# family = sm.families.Gaussian(link=sm.families.links.log)\n",
    "\n",
    "glm = sm.GLM(y, X, family=family)\n",
    "glm_results = glm.fit()\n",
    "print(glm_results.summary2())"
   ]
  },
  {
   "cell_type": "code",
   "execution_count": 64,
   "metadata": {},
   "outputs": [
    {
     "name": "stdout",
     "output_type": "stream",
     "text": [
      "                 Results: Generalized linear model\n",
      "===================================================================\n",
      "Model:              GLM                   AIC:            -793.0642\n",
      "Link Function:      log                   BIC:            -288.0623\n",
      "Dependent Variable: replay_freq_0_1_minus Log-Likelihood: 400.53   \n",
      "Date:               2018-05-18 13:55      LL-Null:        398.31   \n",
      "No. Observations:   91                    Deviance:       104.38   \n",
      "Df Model:           3                     Pearson chi2:   159.     \n",
      "Df Residuals:       87                    Scale:          1.8273   \n",
      "Method:             IRLS                                           \n",
      "-------------------------------------------------------------------\n",
      "                    Coef.  Std.Err.    z     P>|z|   [0.025  0.975]\n",
      "-------------------------------------------------------------------\n",
      "Intercept          -5.9404   0.2490 -23.8560 0.0000 -6.4284 -5.4523\n",
      "hmm_nfalse_plus     0.0116   0.0136   0.8530 0.3937 -0.0151  0.0384\n",
      "hmm_nfalse_minus    0.0060   0.0113   0.5301 0.5960 -0.0162  0.0281\n",
      "hmm_nfalse_neutral  0.0014   0.0090   0.1572 0.8751 -0.0162  0.0190\n",
      "===================================================================\n",
      "\n"
     ]
    }
   ],
   "source": [
    "formula = 'replay_freq_0_1_minus ~ hmm_nfalse_plus + hmm_nfalse_minus + hmm_nfalse_neutral'\n",
    "\n",
    "data_sub = data[['replay_freq_0_1_minus', 'mouse',\n",
    "                 'hmm_nfalse_plus', 'hmm_nfalse_minus', 'hmm_nfalse_neutral']]\n",
    "\n",
    "# 0s in the dependent variable still converges, but LL is infinite\n",
    "data_sub.replace(0, np.nan, inplace=True)\n",
    "data_sub.dropna(inplace=True)\n",
    "\n",
    "y, X = patsy.dmatrices(formula, data_sub, return_type='dataframe')\n",
    "X = sm.add_constant(X)\n",
    "\n",
    "# family = sm.families.Gamma()\n",
    "family = sm.families.Gamma(link=sm.families.links.log)\n",
    "# family = sm.families.Gaussian()\n",
    "# family = sm.families.Gaussian(link=sm.families.links.log)\n",
    "\n",
    "glm = sm.GLM(y, X, family=family)\n",
    "glm_results = glm.fit()\n",
    "print(glm_results.summary2())"
   ]
  },
  {
   "cell_type": "code",
   "execution_count": 65,
   "metadata": {},
   "outputs": [
    {
     "name": "stdout",
     "output_type": "stream",
     "text": [
      "                  Results: Generalized linear model\n",
      "=====================================================================\n",
      "Model:              GLM                     AIC:            -inf     \n",
      "Link Function:      log                     BIC:            1015.1370\n",
      "Dependent Variable: replay_freq_0_1_neutral Log-Likelihood: inf      \n",
      "Date:               2018-05-18 13:55        LL-Null:        inf      \n",
      "No. Observations:   108                     Deviance:       1502.1   \n",
      "Df Model:           3                       Pearson chi2:   201.     \n",
      "Df Residuals:       104                     Scale:          1.9328   \n",
      "Method:             IRLS                                             \n",
      "---------------------------------------------------------------------\n",
      "                      Coef.  Std.Err.    z     P>|z|   [0.025  0.975]\n",
      "---------------------------------------------------------------------\n",
      "Intercept            -6.5497   0.2407 -27.2114 0.0000 -7.0214 -6.0779\n",
      "hmm_nfalse_plus       0.0245   0.0119   2.0594 0.0395  0.0012  0.0479\n",
      "hmm_nfalse_minus      0.0123   0.0079   1.5584 0.1191 -0.0032  0.0278\n",
      "hmm_nfalse_neutral   -0.0031   0.0073  -0.4211 0.6737 -0.0174  0.0113\n",
      "=====================================================================\n",
      "\n"
     ]
    }
   ],
   "source": [
    "formula = 'replay_freq_0_1_neutral ~ hmm_nfalse_plus + hmm_nfalse_minus + hmm_nfalse_neutral'\n",
    "\n",
    "data_sub = data[['replay_freq_0_1_neutral', 'mouse',\n",
    "                 'hmm_nfalse_plus', 'hmm_nfalse_minus', 'hmm_nfalse_neutral']]\n",
    "\n",
    "# 0s in the dependent variable still converges, but LL is infinite\n",
    "# data_sub.replace(0, np.nan, inplace=True)\n",
    "# data_sub.dropna(inplace=True)\n",
    "\n",
    "y, X = patsy.dmatrices(formula, data_sub, return_type='dataframe')\n",
    "X = sm.add_constant(X)\n",
    "\n",
    "family = sm.families.Gamma(link=sm.families.links.log)\n",
    "\n",
    "glm = sm.GLM(y, X, family=family)\n",
    "glm_results = glm.fit()\n",
    "print(glm_results.summary2())"
   ]
  },
  {
   "cell_type": "code",
   "execution_count": 66,
   "metadata": {},
   "outputs": [
    {
     "name": "stdout",
     "output_type": "stream",
     "text": [
      "                  Results: Generalized linear model\n",
      "====================================================================\n",
      "Model:                GLM                   AIC:              -inf  \n",
      "Link Function:        log                   BIC:              8.3174\n",
      "Dependent Variable:   replay_freq_0_1_all   Log-Likelihood:   inf   \n",
      "Date:                 2018-05-18 13:55      LL-Null:          inf   \n",
      "No. Observations:     103                   Deviance:         467.16\n",
      "Df Model:             3                     Pearson chi2:     107.  \n",
      "Df Residuals:         99                    Scale:            1.0813\n",
      "Method:               IRLS                                          \n",
      "--------------------------------------------------------------------\n",
      "                      Coef.  Std.Err.    z    P>|z|   [0.025  0.975]\n",
      "--------------------------------------------------------------------\n",
      "Intercept            -1.8869   0.6333 -2.9793 0.0029 -3.1282 -0.6456\n",
      "hmm_behavior_plus    -1.5348   0.6692 -2.2937 0.0218 -2.8463 -0.2233\n",
      "hmm_behavior_minus   -2.6223   1.0043 -2.6109 0.0090 -4.5907 -0.6538\n",
      "hmm_behavior_neutral  0.7830   0.9729  0.8048 0.4209 -1.1238  2.6898\n",
      "====================================================================\n",
      "\n"
     ]
    }
   ],
   "source": [
    "formula = 'replay_freq_0_1_all ~ hmm_behavior_plus + hmm_behavior_minus + hmm_behavior_neutral'\n",
    "\n",
    "data_sub = data[['replay_freq_0_1_all', 'mouse',\n",
    "                 'hmm_behavior_plus', 'hmm_behavior_minus', 'hmm_behavior_neutral']]\n",
    "\n",
    "# 0s in the dependent variable still converges, but LL is infinite\n",
    "# data_sub.replace(0, np.nan, inplace=True)\n",
    "# data_sub.dropna(inplace=True)\n",
    "\n",
    "y, X = patsy.dmatrices(formula, data_sub, return_type='dataframe')\n",
    "X = sm.add_constant(X)\n",
    "\n",
    "family = sm.families.Gamma(link=sm.families.links.log)\n",
    "\n",
    "glm = sm.GLM(y, X, family=family)\n",
    "glm_results = glm.fit()\n",
    "print(glm_results.summary2())"
   ]
  },
  {
   "cell_type": "markdown",
   "metadata": {},
   "source": [
    "## Visualize replay driving criterion shift"
   ]
  },
  {
   "cell_type": "code",
   "execution_count": 67,
   "metadata": {},
   "outputs": [
    {
     "name": "stdout",
     "output_type": "stream",
     "text": [
      "                    Results: Generalized linear model\n",
      "=========================================================================\n",
      "Model:                 GLM                    AIC:              61.2334  \n",
      "Link Function:         identity               BIC:              -242.0927\n",
      "Dependent Variable:    d_hmm_criterion_next   Log-Likelihood:   -25.617  \n",
      "Date:                  2018-05-18 13:55       LL-Null:          -28.625  \n",
      "No. Observations:      65                     Deviance:         8.3705   \n",
      "Df Model:              4                      Pearson chi2:     8.37     \n",
      "Df Residuals:          60                     Scale:            0.13951  \n",
      "Method:                IRLS                                              \n",
      "-------------------------------------------------------------------------\n",
      "                         Coef.   Std.Err.    z    P>|z|   [0.025   0.975]\n",
      "-------------------------------------------------------------------------\n",
      "Intercept                -0.0304   0.0760 -0.4005 0.6888  -0.1793  0.1185\n",
      "replay_freq_0_1_plus     10.9893  11.8212  0.9296 0.3526 -12.1798 34.1584\n",
      "replay_freq_0_1_minus   -23.6711  14.8128 -1.5980 0.1100 -52.7036  5.3614\n",
      "replay_freq_0_1_neutral  -2.0718  16.9167 -0.1225 0.9025 -35.2278 31.0843\n",
      "d_day_next                0.0142   0.0107  1.3259 0.1849  -0.0068  0.0351\n",
      "=========================================================================\n",
      "\n"
     ]
    },
    {
     "data": {
      "image/png": "[encoded data removed]",
      "text/plain": [
       "<Figure size 432x288 with 2 Axes>"
      ]
     },
     "metadata": {},
     "output_type": "display_data"
    }
   ],
   "source": [
    "formula = 'd_hmm_criterion_next ~ replay_freq_0_1_plus + replay_freq_0_1_minus + replay_freq_0_1_neutral + d_day_next'\n",
    "\n",
    "data_sub = data[['d_hmm_criterion_next', 'd_day_next',\n",
    "                 'replay_freq_0_1_plus', 'replay_freq_0_1_minus', 'replay_freq_0_1_neutral']]\n",
    "\n",
    "# 0s in the dependent variable still converges, but LL is infinite\n",
    "data_sub.replace(0, np.nan, inplace=True)\n",
    "data_sub.dropna(inplace=True)\n",
    "\n",
    "y, X = patsy.dmatrices(formula, data_sub, return_type='dataframe')\n",
    "X = sm.add_constant(X)\n",
    "\n",
    "# family = sm.families.Gamma()\n",
    "# family = sm.families.Gamma(link=sm.families.links.log)\n",
    "family = sm.families.Gaussian()\n",
    "# family = sm.families.Gaussian(link=sm.families.links.log)\n",
    "\n",
    "glm = sm.GLM(y, X, family=family)\n",
    "glm_results = glm.fit()\n",
    "print(glm_results.summary2())\n",
    "\n",
    "exog = glm.exog\n",
    "\n",
    "fig, ax1 = plt.subplots()\n",
    "lines = []\n",
    "c = {'plus': colors['plus'],\n",
    "     'minus': colors['minus'],\n",
    "     'neutral': colors['neutral'],\n",
    "     'd days': 'orange',\n",
    "     'intercept': 'black'}\n",
    "\n",
    "x_range = (exog[:, 1:4].min(), exog[:, 1:4].max())\n",
    "x = np.linspace(x_range[0], x_range[1], exog.shape[0])\n",
    "for idx, var in enumerate(('plus', 'minus', 'neutral')):\n",
    "    idx += 1\n",
    "    new_exog = np.zeros_like(exog)\n",
    "#     new_exog[:, 0] = exog[:, 0]\n",
    "    new_exog[:, idx] = x\n",
    "    predict = glm_results.get_prediction(new_exog)\n",
    "    conf = predict.conf_int()\n",
    "    \n",
    "    l, = ax1.plot(x, predict.predicted_mean, color=c[var], label=var)\n",
    "    ax1.plot(x, conf[:, 0], color=c[var], ls=':')\n",
    "    ax1.plot(x, conf[:, 1], color=c[var], ls=':')\n",
    "    ax1.fill_between(x, conf[:, 0], conf[:, 1], alpha=0.1, color=c[var])\n",
    "    \n",
    "    lines.append(l)\n",
    "\n",
    "x = np.ones(exog.shape[0])\n",
    "new_exog = np.zeros_like(exog)\n",
    "# new_exog[:, 0] = exog[:, 0]\n",
    "new_exog[:, 0] = x\n",
    "predict = glm_results.get_prediction(new_exog)\n",
    "conf = predict.conf_int()\n",
    "\n",
    "ax1.axhline(predict.predicted_mean.mean(), color=c['intercept'], label='intercept', ls='--')\n",
    "\n",
    "x_range= (exog[:, 4].min(), exog[:, 4].max())\n",
    "x = np.linspace(x_range[0], x_range[1], exog.shape[0])\n",
    "new_exog = np.zeros_like(exog)\n",
    "# new_exog[:, 0] = exog[:, 0]\n",
    "new_exog[:, 4] = x\n",
    "predict = glm_results.get_prediction(new_exog)\n",
    "conf = predict.conf_int()\n",
    "\n",
    "ax2 = ax1.twiny()\n",
    "l, = ax2.plot(x, predict.predicted_mean, label='d day', color='orange')\n",
    "ax2.plot(x, conf[:, 0], color='orange', ls=':')\n",
    "ax2.plot(x, conf[:, 1], color='orange', ls=':')\n",
    "ax2.fill_between(x, conf[:, 0], conf[:, 1], alpha=0.1, color='orange')\n",
    "lines.append(l)\n",
    "\n",
    "ax1.legend(handles=lines, loc=2)\n",
    "\n",
    "# ax1.axhline(0, ls='--', color='k')\n",
    "\n",
    "ax1.set_xlabel('replay rate (Hz)')\n",
    "ax2.set_xlabel('days elapsed')\n",
    "ax1.set_ylabel('d criterion');"
   ]
  },
  {
   "cell_type": "markdown",
   "metadata": {},
   "source": [
    "## Reconsolidation reevaluates memories in the current context, so if we model behavior as 'dprime_next ~ replay*dprime', we should see a strong interaction term."
   ]
  },
  {
   "cell_type": "code",
   "execution_count": 68,
   "metadata": {},
   "outputs": [
    {
     "name": "stdout",
     "output_type": "stream",
     "text": [
      "                   Mixed Linear Model Regression Results\n",
      "===========================================================================\n",
      "Model:                  MixedLM     Dependent Variable:     hmm_dprime_next\n",
      "No. Observations:       90          Method:                 REML           \n",
      "No. Groups:             8           Scale:                  0.9238         \n",
      "Min. group size:        6           Likelihood:             -119.0454      \n",
      "Max. group size:        21          Converged:              No             \n",
      "Mean group size:        11.2                                               \n",
      "---------------------------------------------------------------------------\n",
      "                                Coef.  Std.Err.   z    P>|z|  [0.025 0.975]\n",
      "---------------------------------------------------------------------------\n",
      "Intercept                        1.349    0.285  4.730 0.000   0.790  1.908\n",
      "hmm_dprime                       0.426    0.125  3.418 0.001   0.182  0.670\n",
      "replay_freq_0_1_all            -20.901   11.999 -1.742 0.082 -44.419  2.616\n",
      "hmm_dprime:replay_freq_0_1_all  10.309    9.110  1.132 0.258  -7.547 28.165\n",
      "Group RE                         0.003                                     \n",
      "===========================================================================\n",
      "\n"
     ]
    }
   ],
   "source": [
    "# formula = 'replay_freq_0_1_all ~ hmm_dprime * d_hmm_dprime_prev'\n",
    "# lm = ols(formula, data).fit()\n",
    "# print(lm.summary2())\n",
    "# print(anova_lm(lm))\n",
    "\n",
    "formula = 'hmm_dprime_next ~ hmm_dprime * replay_freq_0_1_all'\n",
    "data_sub = data[['replay_freq_0_1_all', 'hmm_dprime', 'hmm_dprime_next',\n",
    "                 'mouse']]\n",
    "data_sub.dropna(inplace=True)\n",
    "md = mixedlm(formula, data_sub, groups='mouse', re_formula='1').fit()\n",
    "print(md.summary())"
   ]
  },
  {
   "cell_type": "code",
   "execution_count": null,
   "metadata": {},
   "outputs": [],
   "source": []
  }
 ],
 "metadata": {
  "kernelspec": {
   "display_name": "Python 2",
   "language": "python",
   "name": "python2"
  },
  "language_info": {
   "codemirror_mode": {
    "name": "ipython",
    "version": 2
   },
   "file_extension": ".py",
   "mimetype": "text/x-python",
   "name": "python",
   "nbconvert_exporter": "python",
   "pygments_lexer": "ipython2",
   "version": "2.7.13"
  }
 },
 "nbformat": 4,
 "nbformat_minor": 2
}
