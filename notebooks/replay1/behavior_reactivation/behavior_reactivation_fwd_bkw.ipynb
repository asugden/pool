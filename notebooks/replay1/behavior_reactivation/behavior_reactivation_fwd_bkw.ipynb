{
 "cells": [
  {
   "cell_type": "code",
   "execution_count": 1,
   "metadata": {
    "init_cell": true
   },
   "outputs": [
    {
     "name": "stderr",
     "output_type": "stream",
     "text": [
      "/usr/local/lib/python2.7/dist-packages/pandas/_libs/__init__.py:4: RuntimeWarning: numpy.dtype size changed, may indicate binary incompatibility. Expected 96, got 88\n",
      "  from .tslib import iNaT, NaT, Timestamp, Timedelta, OutOfBoundsDatetime\n",
      "/usr/local/lib/python2.7/dist-packages/pandas/__init__.py:26: RuntimeWarning: numpy.dtype size changed, may indicate binary incompatibility. Expected 96, got 88\n",
      "  from pandas._libs import (hashtable as _hashtable,\n",
      "/usr/local/lib/python2.7/dist-packages/pandas/core/dtypes/common.py:6: RuntimeWarning: numpy.dtype size changed, may indicate binary incompatibility. Expected 96, got 88\n",
      "  from pandas._libs import algos, lib\n",
      "/usr/local/lib/python2.7/dist-packages/pandas/core/util/hashing.py:7: RuntimeWarning: numpy.dtype size changed, may indicate binary incompatibility. Expected 96, got 88\n",
      "  from pandas._libs import hashing, tslib\n",
      "/usr/local/lib/python2.7/dist-packages/pandas/core/indexes/base.py:7: RuntimeWarning: numpy.dtype size changed, may indicate binary incompatibility. Expected 96, got 88\n",
      "  from pandas._libs import (lib, index as libindex, tslib as libts,\n",
      "/usr/local/lib/python2.7/dist-packages/pandas/tseries/offsets.py:21: RuntimeWarning: numpy.dtype size changed, may indicate binary incompatibility. Expected 96, got 88\n",
      "  import pandas._libs.tslibs.offsets as liboffsets\n",
      "/usr/local/lib/python2.7/dist-packages/pandas/core/ops.py:16: RuntimeWarning: numpy.dtype size changed, may indicate binary incompatibility. Expected 96, got 88\n",
      "  from pandas._libs import algos as libalgos, ops as libops\n",
      "/usr/local/lib/python2.7/dist-packages/pandas/core/indexes/interval.py:32: RuntimeWarning: numpy.dtype size changed, may indicate binary incompatibility. Expected 96, got 88\n",
      "  from pandas._libs.interval import (\n",
      "/usr/local/lib/python2.7/dist-packages/pandas/core/internals.py:14: RuntimeWarning: numpy.dtype size changed, may indicate binary incompatibility. Expected 96, got 88\n",
      "  from pandas._libs import internals as libinternals\n",
      "/usr/local/lib/python2.7/dist-packages/pandas/core/sparse/array.py:33: RuntimeWarning: numpy.dtype size changed, may indicate binary incompatibility. Expected 96, got 88\n",
      "  import pandas._libs.sparse as splib\n",
      "/usr/local/lib/python2.7/dist-packages/pandas/core/window.py:36: RuntimeWarning: numpy.dtype size changed, may indicate binary incompatibility. Expected 96, got 88\n",
      "  import pandas._libs.window as _window\n",
      "/usr/local/lib/python2.7/dist-packages/pandas/core/groupby/groupby.py:68: RuntimeWarning: numpy.dtype size changed, may indicate binary incompatibility. Expected 96, got 88\n",
      "  from pandas._libs import (lib, reduction,\n",
      "/usr/local/lib/python2.7/dist-packages/pandas/core/reshape/reshape.py:30: RuntimeWarning: numpy.dtype size changed, may indicate binary incompatibility. Expected 96, got 88\n",
      "  from pandas._libs import algos as _algos, reshape as _reshape\n",
      "/usr/local/lib/python2.7/dist-packages/pandas/io/parsers.py:45: RuntimeWarning: numpy.dtype size changed, may indicate binary incompatibility. Expected 96, got 88\n",
      "  import pandas._libs.parsers as parsers\n",
      "/usr/local/lib/python2.7/dist-packages/pandas/io/pytables.py:50: RuntimeWarning: numpy.dtype size changed, may indicate binary incompatibility. Expected 96, got 88\n",
      "  from pandas._libs import algos, lib, writers as libwriters\n",
      "/usr/local/lib/python2.7/dist-packages/scipy/linalg/basic.py:17: RuntimeWarning: numpy.dtype size changed, may indicate binary incompatibility. Expected 96, got 88\n",
      "  from ._solve_toeplitz import levinson\n",
      "/usr/local/lib/python2.7/dist-packages/scipy/linalg/__init__.py:207: RuntimeWarning: numpy.dtype size changed, may indicate binary incompatibility. Expected 96, got 88\n",
      "  from ._decomp_update import *\n",
      "/usr/local/lib/python2.7/dist-packages/scipy/special/__init__.py:640: RuntimeWarning: numpy.dtype size changed, may indicate binary incompatibility. Expected 96, got 88\n",
      "  from ._ufuncs import *\n",
      "/usr/local/lib/python2.7/dist-packages/scipy/special/_ellip_harm.py:7: RuntimeWarning: numpy.dtype size changed, may indicate binary incompatibility. Expected 96, got 88\n",
      "  from ._ellip_harm_2 import _ellipsoid, _ellipsoid_norm\n",
      "/usr/local/lib/python2.7/dist-packages/scipy/interpolate/_bsplines.py:10: RuntimeWarning: numpy.dtype size changed, may indicate binary incompatibility. Expected 96, got 88\n",
      "  from . import _bspl\n",
      "/usr/local/lib/python2.7/dist-packages/scipy/sparse/lil.py:19: RuntimeWarning: numpy.dtype size changed, may indicate binary incompatibility. Expected 96, got 88\n",
      "  from . import _csparsetools\n",
      "/usr/local/lib/python2.7/dist-packages/scipy/sparse/csgraph/__init__.py:165: RuntimeWarning: numpy.dtype size changed, may indicate binary incompatibility. Expected 96, got 88\n",
      "  from ._shortest_path import shortest_path, floyd_warshall, dijkstra,\\\n",
      "/usr/local/lib/python2.7/dist-packages/scipy/sparse/csgraph/_validation.py:5: RuntimeWarning: numpy.dtype size changed, may indicate binary incompatibility. Expected 96, got 88\n",
      "  from ._tools import csgraph_to_dense, csgraph_from_dense,\\\n",
      "/usr/local/lib/python2.7/dist-packages/scipy/sparse/csgraph/__init__.py:167: RuntimeWarning: numpy.dtype size changed, may indicate binary incompatibility. Expected 96, got 88\n",
      "  from ._traversal import breadth_first_order, depth_first_order, \\\n",
      "/usr/local/lib/python2.7/dist-packages/scipy/sparse/csgraph/__init__.py:169: RuntimeWarning: numpy.dtype size changed, may indicate binary incompatibility. Expected 96, got 88\n",
      "  from ._min_spanning_tree import minimum_spanning_tree\n",
      "/usr/local/lib/python2.7/dist-packages/scipy/sparse/csgraph/__init__.py:170: RuntimeWarning: numpy.dtype size changed, may indicate binary incompatibility. Expected 96, got 88\n",
      "  from ._reordering import reverse_cuthill_mckee, maximum_bipartite_matching, \\\n",
      "/usr/local/lib/python2.7/dist-packages/scipy/spatial/__init__.py:95: RuntimeWarning: numpy.dtype size changed, may indicate binary incompatibility. Expected 96, got 88\n",
      "  from .ckdtree import *\n",
      "/usr/local/lib/python2.7/dist-packages/scipy/spatial/__init__.py:96: RuntimeWarning: numpy.dtype size changed, may indicate binary incompatibility. Expected 96, got 88\n",
      "  from .qhull import *\n",
      "/usr/local/lib/python2.7/dist-packages/scipy/spatial/_spherical_voronoi.py:18: RuntimeWarning: numpy.dtype size changed, may indicate binary incompatibility. Expected 96, got 88\n",
      "  from . import _voronoi\n",
      "/usr/local/lib/python2.7/dist-packages/scipy/spatial/distance.py:122: RuntimeWarning: numpy.dtype size changed, may indicate binary incompatibility. Expected 96, got 88\n",
      "  from . import _hausdorff\n",
      "/usr/local/lib/python2.7/dist-packages/scipy/io/matlab/mio4.py:18: RuntimeWarning: numpy.dtype size changed, may indicate binary incompatibility. Expected 96, got 88\n",
      "  from .mio_utils import squeeze_element, chars_to_strings\n",
      "/usr/local/lib/python2.7/dist-packages/scipy/io/matlab/mio5.py:98: RuntimeWarning: numpy.dtype size changed, may indicate binary incompatibility. Expected 96, got 88\n",
      "  from .mio5_utils import VarReader5\n",
      "/usr/local/lib/python2.7/dist-packages/requests/__init__.py:91: RequestsDependencyWarning: urllib3 (1.23) or chardet (2.3.0) doesn't match a supported version!\n",
      "  RequestsDependencyWarning)\n",
      "/usr/local/lib/python2.7/dist-packages/scipy/optimize/_trlib/__init__.py:1: RuntimeWarning: numpy.dtype size changed, may indicate binary incompatibility. Expected 96, got 88\n",
      "  from ._trlib import TRLIBQuadraticSubproblem\n",
      "/usr/local/lib/python2.7/dist-packages/scipy/optimize/_numdiff.py:10: RuntimeWarning: numpy.dtype size changed, may indicate binary incompatibility. Expected 96, got 88\n",
      "  from ._group_columns import group_dense, group_sparse\n",
      "/usr/local/lib/python2.7/dist-packages/scipy/stats/_continuous_distns.py:18: RuntimeWarning: numpy.dtype size changed, may indicate binary incompatibility. Expected 96, got 88\n",
      "  from . import _stats\n",
      "/usr/local/lib/python2.7/dist-packages/scipy/signal/_max_len_seq.py:8: RuntimeWarning: numpy.dtype size changed, may indicate binary incompatibility. Expected 96, got 88\n",
      "  from ._max_len_seq_inner import _max_len_seq_inner\n",
      "/usr/local/lib/python2.7/dist-packages/scipy/signal/_upfirdn.py:36: RuntimeWarning: numpy.dtype size changed, may indicate binary incompatibility. Expected 96, got 88\n",
      "  from ._upfirdn_apply import _output_len, _apply\n",
      "/usr/local/lib/python2.7/dist-packages/scipy/ndimage/measurements.py:36: RuntimeWarning: numpy.dtype size changed, may indicate binary incompatibility. Expected 96, got 88\n",
      "  from . import _ni_label\n",
      "/usr/local/lib/python2.7/dist-packages/scipy/signal/spectral.py:10: RuntimeWarning: numpy.dtype size changed, may indicate binary incompatibility. Expected 96, got 88\n",
      "  from ._spectral import _lombscargle\n",
      "/usr/local/lib/python2.7/dist-packages/scipy/signal/_peak_finding.py:13: RuntimeWarning: numpy.dtype size changed, may indicate binary incompatibility. Expected 96, got 88\n",
      "  from ._peak_finding_utils import (_argmaxima1d, _select_by_peak_distance,\n"
     ]
    },
    {
     "name": "stdout",
     "output_type": "stream",
     "text": [
      "\n",
      "Jupyter connect hash:\n",
      "forge\n",
      "\n",
      "To get matching file:\n",
      "    $> python -c \"import jzap.misc; print(jzap.misc.notebook_file('forge', '/home/jeff/.local/share/jupyter/runtime'))\"\n",
      "To connect to existing notebook:\n",
      "    $> jupyter console --existing FILE\n",
      "    \n",
      "\n",
      "Last run: 2018-09-06-13h46m57s\n"
     ]
    }
   ],
   "source": [
    "# %matplotlib notebook\n",
    "%matplotlib inline\n",
    "\n",
    "%load_ext rpy2.ipython\n",
    "\n",
    "# %connect_info\n",
    "\n",
    "import jzap.misc\n",
    "text = \"\"\"\n",
    "Jupyter connect hash:\n",
    "{word}\n",
    "\n",
    "To get matching file:\n",
    "    $> python -c \"import jzap.misc; print(jzap.misc.notebook_file('{word}', '/home/jeff/.local/share/jupyter/runtime'))\"\n",
    "To connect to existing notebook:\n",
    "    $> jupyter console --existing FILE\n",
    "    \n",
    "\"\"\"\n",
    "print(text.format(word=jzap.misc.notebook_word()))\n",
    "print(\"Last run: {}\".format(jzap.misc.timestamp()))"
   ]
  },
  {
   "cell_type": "code",
   "execution_count": 2,
   "metadata": {
    "init_cell": true
   },
   "outputs": [
    {
     "name": "stderr",
     "output_type": "stream",
     "text": [
      "/usr/local/lib/python2.7/dist-packages/statsmodels/tsa/statespace/tools.py:12: RuntimeWarning: numpy.dtype size changed, may indicate binary incompatibility. Expected 96, got 88\n",
      "  from . import _statespace\n",
      "/usr/local/lib/python2.7/dist-packages/statsmodels/tsa/statespace/tools.py:12: RuntimeWarning: numpy.ufunc size changed, may indicate binary incompatibility. Expected 192, got 176\n",
      "  from . import _statespace\n",
      "/usr/local/lib/python2.7/dist-packages/statsmodels/compat/pandas.py:56: FutureWarning: The pandas.core.datetools module is deprecated and will be removed in a future version. Please use the pandas.tseries module instead.\n",
      "  from pandas.core import datetools\n",
      "/usr/local/lib/python2.7/dist-packages/statsmodels/tsa/kalmanf/kalmanfilter.py:33: RuntimeWarning: numpy.dtype size changed, may indicate binary incompatibility. Expected 96, got 88\n",
      "  from . import kalman_loglike\n",
      "/usr/local/lib/python2.7/dist-packages/statsmodels/tsa/kalmanf/kalmanfilter.py:33: RuntimeWarning: numpy.ufunc size changed, may indicate binary incompatibility. Expected 192, got 176\n",
      "  from . import kalman_loglike\n",
      "/usr/local/lib/python2.7/dist-packages/statsmodels/tsa/regime_switching/markov_switching.py:30: RuntimeWarning: numpy.dtype size changed, may indicate binary incompatibility. Expected 96, got 88\n",
      "  from statsmodels.tsa.regime_switching._hamilton_filter import (\n",
      "/usr/local/lib/python2.7/dist-packages/statsmodels/tsa/regime_switching/markov_switching.py:30: RuntimeWarning: numpy.ufunc size changed, may indicate binary incompatibility. Expected 192, got 176\n",
      "  from statsmodels.tsa.regime_switching._hamilton_filter import (\n",
      "/usr/local/lib/python2.7/dist-packages/statsmodels/nonparametric/kde.py:26: RuntimeWarning: numpy.dtype size changed, may indicate binary incompatibility. Expected 96, got 88\n",
      "  from .linbin import fast_linbin\n",
      "/usr/local/lib/python2.7/dist-packages/statsmodels/nonparametric/kde.py:26: RuntimeWarning: numpy.ufunc size changed, may indicate binary incompatibility. Expected 192, got 176\n",
      "  from .linbin import fast_linbin\n",
      "/usr/local/lib/python2.7/dist-packages/statsmodels/nonparametric/smoothers_lowess.py:11: RuntimeWarning: numpy.dtype size changed, may indicate binary incompatibility. Expected 96, got 88\n",
      "  from ._smoothers_lowess import lowess as _lowess\n",
      "/usr/local/lib/python2.7/dist-packages/statsmodels/nonparametric/smoothers_lowess.py:11: RuntimeWarning: numpy.ufunc size changed, may indicate binary incompatibility. Expected 192, got 176\n",
      "  from ._smoothers_lowess import lowess as _lowess\n",
      "/usr/local/lib/python2.7/dist-packages/scipy/cluster/vq.py:78: RuntimeWarning: numpy.dtype size changed, may indicate binary incompatibility. Expected 96, got 88\n",
      "  from . import _vq\n",
      "/usr/local/lib/python2.7/dist-packages/scipy/cluster/hierarchy.py:178: RuntimeWarning: numpy.dtype size changed, may indicate binary incompatibility. Expected 96, got 88\n",
      "  from . import _hierarchy, _optimal_leaf_ordering\n"
     ]
    },
    {
     "name": "stdout",
     "output_type": "stream",
     "text": [
      "Index([u'mouse', u'date', u'temporal_prior_events_0_5', u'dprime',\n",
      "       u'hmm_dprime', u'hmm_dprime_noneutral', u'hmm_dprime_run2',\n",
      "       u'hmm_dprime_run3', u'hmm_dprime_run4', u'hmm_engagement',\n",
      "       ...\n",
      "       u'replay_freq_0_1_all', u'replay_freq_0_1_all_prev',\n",
      "       u'combrep_freq_0_1_all', u'combrep_freq_0_1_all_prev',\n",
      "       u'replay_freq_hungry_0_1_all', u'replay_freq_hungry_0_1_all_prev',\n",
      "       u'replay_freq_iti_0_1_all', u'replay_freq_iti_0_1_all_prev',\n",
      "       u'd_day_next_3', u'd_day_prev_3'],\n",
      "      dtype='object', length=133)\n",
      "  mouse       date  temporal_prior_events_0_5  dprime  hmm_dprime  \\\n",
      "0  AS20 2016-08-16                     0.0189   3.278       3.288   \n",
      "1  AS20 2016-08-18                     0.0302   3.863       3.873   \n",
      "2  AS20 2016-08-19                     0.0285   1.931       2.581   \n",
      "3  AS20 2016-08-22                     0.0219   3.696       3.709   \n",
      "4  AS20 2016-08-23                     0.0241   3.961       2.282   \n",
      "\n",
      "   hmm_dprime_noneutral  hmm_dprime_run2  hmm_dprime_run3  hmm_dprime_run4  \\\n",
      "0                  3.44             2.75             3.09             2.90   \n",
      "1                  3.74             3.27             3.50             3.75   \n",
      "2                  2.64             2.34             3.03             2.49   \n",
      "3                  3.71             3.67             4.12             3.28   \n",
      "4                  1.90             4.00            -1.80              NaN   \n",
      "\n",
      "   hmm_engagement      ...       replay_freq_0_1_all  \\\n",
      "0            1.00      ...                  0.000788   \n",
      "1            1.00      ...                  0.002872   \n",
      "2            0.87      ...                  0.000814   \n",
      "3            1.00      ...                  0.005374   \n",
      "4            1.00      ...                  0.004657   \n",
      "\n",
      "   replay_freq_0_1_all_prev  combrep_freq_0_1_all  combrep_freq_0_1_all_prev  \\\n",
      "0                       NaN              0.010124                        NaN   \n",
      "1                  0.000788              0.012570                   0.010124   \n",
      "2                  0.002872              0.001305                   0.012570   \n",
      "3                  0.000814              0.007160                   0.001305   \n",
      "4                  0.005374              0.004657                   0.007160   \n",
      "\n",
      "   replay_freq_hungry_0_1_all  replay_freq_hungry_0_1_all_prev  \\\n",
      "0                         NaN                              NaN   \n",
      "1                         NaN                              NaN   \n",
      "2                         NaN                              NaN   \n",
      "3                         NaN                              NaN   \n",
      "4                         NaN                              NaN   \n",
      "\n",
      "   replay_freq_iti_0_1_all  replay_freq_iti_0_1_all_prev  d_day_next_3  \\\n",
      "0                      NaN                           NaN           2.0   \n",
      "1                      NaN                           NaN           1.0   \n",
      "2                      NaN                           NaN           3.0   \n",
      "3                 0.008357                           NaN           1.0   \n",
      "4                      NaN                      0.008357           2.0   \n",
      "\n",
      "   d_day_prev_3  \n",
      "0           NaN  \n",
      "1           2.0  \n",
      "2           1.0  \n",
      "3           3.0  \n",
      "4           1.0  \n",
      "\n",
      "[5 rows x 133 columns]\n"
     ]
    }
   ],
   "source": [
    "import numpy as np\n",
    "import scipy.stats\n",
    "import statsmodels.api as sm\n",
    "from statsmodels.formula.api import ols, mixedlm\n",
    "from statsmodels.stats.anova import anova_lm\n",
    "import patsy\n",
    "import matplotlib.pyplot as plt\n",
    "import seaborn as sns\n",
    "\n",
    "import jzap\n",
    "import replay.lib.settings\n",
    "\n",
    "import warnings\n",
    "warnings.filterwarnings('ignore')\n",
    "\n",
    "path = '/lab/data/behavior_replay_180905.txt'\n",
    "\n",
    "data = jzap.misc.load_table(path)\n",
    "print(data.columns)\n",
    "print(data.head())"
   ]
  },
  {
   "cell_type": "code",
   "execution_count": 3,
   "metadata": {},
   "outputs": [
    {
     "name": "stdout",
     "output_type": "stream",
     "text": [
      "                    Results: Generalized linear model\n",
      "========================================================================\n",
      "Model:                 GLM                  AIC:               206.3347 \n",
      "Link Function:         identity             BIC:               -179.8866\n",
      "Dependent Variable:    d_hmm_dprime_next    Log-Likelihood:    -98.167  \n",
      "Date:                  2018-09-06 13:46     LL-Null:           -98.493  \n",
      "No. Observations:      66                   Deviance:          75.682   \n",
      "Df Model:              4                    Pearson chi2:      75.7     \n",
      "Df Residuals:          61                   Scale:             1.2407   \n",
      "Method:                IRLS                                             \n",
      "------------------------------------------------------------------------\n",
      "                         Coef.  Std.Err.    z    P>|z|   [0.025   0.975]\n",
      "------------------------------------------------------------------------\n",
      "Intercept                0.2005   0.2255  0.8888 0.3741  -0.2416  0.6425\n",
      "replay_freq_0_1_plus     5.3496  34.0072  0.1573 0.8750 -61.3034 72.0025\n",
      "replay_freq_0_1_minus   -2.9966  43.8760 -0.0683 0.9455 -88.9920 82.9989\n",
      "replay_freq_0_1_neutral  4.1077  48.8772  0.0840 0.9330 -91.6899 99.9054\n",
      "d_day_next              -0.0201   0.0314 -0.6400 0.5222  -0.0817  0.0415\n",
      "========================================================================\n",
      "\n"
     ]
    }
   ],
   "source": [
    "formula = 'd_hmm_dprime_next ~ replay_freq_0_1_plus + replay_freq_0_1_minus + replay_freq_0_1_neutral + d_day_next'\n",
    "data_sub = data[[\n",
    "    'd_hmm_dprime_next', 'replay_freq_0_1_plus', 'replay_freq_0_1_minus',\n",
    "    'replay_freq_0_1_neutral', 'd_day_next']]\n",
    "\n",
    "# 0s in the dependent variable still converges, but LL is infinite\n",
    "data_sub.replace(0, np.nan, inplace=True)\n",
    "data_sub.dropna(inplace=True)\n",
    "\n",
    "y, X = patsy.dmatrices(formula, data_sub, return_type='dataframe')\n",
    "X = sm.add_constant(X)\n",
    "\n",
    "# family = sm.families.Gamma()\n",
    "# family = sm.families.Gamma(link=sm.families.links.log)\n",
    "family = sm.families.Gaussian()\n",
    "# family = sm.families.Gaussian(link=sm.families.links.log)\n",
    "\n",
    "glm = sm.GLM(y, X, family=family)\n",
    "glm_results = glm.fit()\n",
    "print(glm_results.summary2())"
   ]
  },
  {
   "cell_type": "code",
   "execution_count": 4,
   "metadata": {},
   "outputs": [
    {
     "name": "stdout",
     "output_type": "stream",
     "text": [
      "               Results: Generalized linear model\n",
      "===============================================================\n",
      "Model:              GLM               AIC:            198.9853 \n",
      "Link Function:      identity          BIC:            -195.8954\n",
      "Dependent Variable: d_hmm_dprime_next Log-Likelihood: -98.493  \n",
      "Date:               2018-09-06 13:46  LL-Null:        -98.493  \n",
      "No. Observations:   66                Deviance:       76.432   \n",
      "Df Model:           0                 Pearson chi2:   76.4     \n",
      "Df Residuals:       65                Scale:          1.1759   \n",
      "Method:             IRLS                                       \n",
      "----------------------------------------------------------------\n",
      "               Coef.   Std.Err.    z     P>|z|    [0.025  0.975]\n",
      "----------------------------------------------------------------\n",
      "Intercept      0.1692    0.1335  1.2675  0.2050  -0.0924  0.4308\n",
      "===============================================================\n",
      "\n"
     ]
    }
   ],
   "source": [
    "formula = 'd_hmm_dprime_next ~ 1'\n",
    "data_sub = data[[\n",
    "    'd_hmm_dprime_next', 'replay_freq_0_1_plus', 'replay_freq_0_1_minus',\n",
    "    'replay_freq_0_1_neutral', 'd_day_next']]\n",
    "\n",
    "# 0s in the dependent variable still converges, but LL is infinite\n",
    "data_sub.replace(0, np.nan, inplace=True)\n",
    "data_sub.dropna(inplace=True)\n",
    "\n",
    "y, X = patsy.dmatrices(formula, data_sub, return_type='dataframe')\n",
    "X = sm.add_constant(X)\n",
    "\n",
    "# family = sm.families.Gamma()\n",
    "# family = sm.families.Gamma(link=sm.families.links.log)\n",
    "family = sm.families.Gaussian()\n",
    "# family = sm.families.Gaussian(link=sm.families.links.log)\n",
    "\n",
    "glm = sm.GLM(y, X, family=family)\n",
    "glm_results = glm.fit()\n",
    "print(glm_results.summary2())"
   ]
  },
  {
   "cell_type": "code",
   "execution_count": 5,
   "metadata": {},
   "outputs": [
    {
     "name": "stdout",
     "output_type": "stream",
     "text": [
      "                      Results: Generalized linear model\n",
      "============================================================================\n",
      "Model:                   GLM                   AIC:                225.5006 \n",
      "Link Function:           identity              BIC:                -187.1021\n",
      "Dependent Variable:      d_hmm_dprime_prev     Log-Likelihood:     -107.75  \n",
      "Date:                    2018-09-06 13:46      LL-Null:            -110.45  \n",
      "No. Observations:        70                    Deviance:           89.050   \n",
      "Df Model:                4                     Pearson chi2:       89.1     \n",
      "Df Residuals:            65                    Scale:              1.3700   \n",
      "Method:                  IRLS                                               \n",
      "----------------------------------------------------------------------------\n",
      "                          Coef.   Std.Err.    z    P>|z|    [0.025   0.975] \n",
      "----------------------------------------------------------------------------\n",
      "Intercept                  0.4742   0.2245  2.1126 0.0346    0.0343   0.9142\n",
      "replay_freq_0_1_plus     -11.0485  27.6544 -0.3995 0.6895  -65.2502  43.1532\n",
      "replay_freq_0_1_minus   -108.6307  50.6403 -2.1451 0.0319 -207.8839  -9.3775\n",
      "replay_freq_0_1_neutral   39.0367  39.2565  0.9944 0.3200  -37.9046 115.9779\n",
      "d_day_prev                -0.0129   0.0339 -0.3814 0.7029   -0.0793   0.0535\n",
      "============================================================================\n",
      "\n"
     ]
    }
   ],
   "source": [
    "formula = 'd_hmm_dprime_prev ~ replay_freq_0_1_plus + replay_freq_0_1_minus + replay_freq_0_1_neutral + d_day_prev'\n",
    "data_sub = data[[\n",
    "    'd_hmm_dprime_prev', 'replay_freq_0_1_plus', 'replay_freq_0_1_minus',\n",
    "    'replay_freq_0_1_neutral', 'd_day_prev']]\n",
    "\n",
    "# 0s in the dependent variable still converges, but LL is infinite\n",
    "data_sub.replace(0, np.nan, inplace=True)\n",
    "data_sub.dropna(inplace=True)\n",
    "\n",
    "y, X = patsy.dmatrices(formula, data_sub, return_type='dataframe')\n",
    "X = sm.add_constant(X)\n",
    "\n",
    "# family = sm.families.Gamma()\n",
    "# family = sm.families.Gamma(link=sm.families.links.log)\n",
    "family = sm.families.Gaussian()\n",
    "# family = sm.families.Gaussian(link=sm.families.links.log)\n",
    "\n",
    "glm = sm.GLM(y, X, family=family)\n",
    "glm_results = glm.fit()\n",
    "print(glm_results.summary2())"
   ]
  },
  {
   "cell_type": "code",
   "execution_count": 6,
   "metadata": {},
   "outputs": [
    {
     "name": "stdout",
     "output_type": "stream",
     "text": [
      "6.705147164541301e-05\n"
     ]
    }
   ],
   "source": [
    "AIC_min = 206.3448\n",
    "AIC_other = 225.5649\n",
    "\n",
    "print(np.exp((AIC_min-AIC_other)/2.))"
   ]
  },
  {
   "cell_type": "code",
   "execution_count": 7,
   "metadata": {},
   "outputs": [
    {
     "name": "stdout",
     "output_type": "stream",
     "text": [
      "                     Results: Generalized linear model\n",
      "==========================================================================\n",
      "Model:                  GLM                  AIC:                187.1107 \n",
      "Link Function:          identity             BIC:                -199.0105\n",
      "Dependent Variable:     hmm_dprime_next      Log-Likelihood:     -88.555  \n",
      "Date:                   2018-09-06 13:46     LL-Null:            -102.60  \n",
      "No. Observations:       66                   Deviance:           56.558   \n",
      "Df Model:               4                    Pearson chi2:       56.6     \n",
      "Df Residuals:           61                   Scale:              0.92719  \n",
      "Method:                 IRLS                                              \n",
      "--------------------------------------------------------------------------\n",
      "                         Coef.   Std.Err.    z    P>|z|    [0.025   0.975]\n",
      "--------------------------------------------------------------------------\n",
      "Intercept                 1.3909   0.3231  4.3041 0.0000    0.7575  2.0242\n",
      "replay_freq_0_1_plus    -12.5046  29.6214 -0.4221 0.6729  -70.5614 45.5522\n",
      "replay_freq_0_1_minus   -41.7629  38.8538 -1.0749 0.2824 -117.9150 34.3891\n",
      "replay_freq_0_1_neutral   1.4960  42.2162  0.0354 0.9717  -81.2463 84.2384\n",
      "hmm_dprime                0.4840   0.1121  4.3156 0.0000    0.2642  0.7038\n",
      "==========================================================================\n",
      "\n"
     ]
    }
   ],
   "source": [
    "formula = 'hmm_dprime_next ~ replay_freq_0_1_plus + replay_freq_0_1_minus + replay_freq_0_1_neutral + hmm_dprime'\n",
    "data_sub = data[[\n",
    "    'hmm_dprime_next', 'hmm_dprime', 'replay_freq_0_1_plus', 'replay_freq_0_1_minus',\n",
    "    'replay_freq_0_1_neutral', 'd_day_next']]\n",
    "\n",
    "# 0s in the dependent variable still converges, but LL is infinite\n",
    "data_sub.replace(0, np.nan, inplace=True)\n",
    "data_sub.dropna(inplace=True)\n",
    "\n",
    "y, X = patsy.dmatrices(formula, data_sub, return_type='dataframe')\n",
    "X = sm.add_constant(X)\n",
    "\n",
    "# family = sm.families.Gamma()\n",
    "# family = sm.families.Gamma(link=sm.families.links.log)\n",
    "family = sm.families.Gaussian()\n",
    "# family = sm.families.Gaussian(link=sm.families.links.log)\n",
    "\n",
    "glm = sm.GLM(y, X, family=family)\n",
    "glm_results = glm.fit()\n",
    "print(glm_results.summary2())"
   ]
  },
  {
   "cell_type": "code",
   "execution_count": 8,
   "metadata": {},
   "outputs": [
    {
     "name": "stdout",
     "output_type": "stream",
     "text": [
      "               Results: Generalized linear model\n",
      "==============================================================\n",
      "Model:              GLM              AIC:            183.7837 \n",
      "Link Function:      identity         BIC:            -209.2419\n",
      "Dependent Variable: hmm_dprime_next  Log-Likelihood: -89.892  \n",
      "Date:               2018-09-06 13:46 LL-Null:        -102.60  \n",
      "No. Observations:   66               Deviance:       58.896   \n",
      "Df Model:           1                Pearson chi2:   58.9     \n",
      "Df Residuals:       64               Scale:          0.92025  \n",
      "Method:             IRLS                                      \n",
      "---------------------------------------------------------------\n",
      "               Coef.   Std.Err.    z     P>|z|   [0.025  0.975]\n",
      "---------------------------------------------------------------\n",
      "Intercept      1.0333    0.2305  4.4829  0.0000  0.5815  1.4850\n",
      "hmm_dprime     0.5568    0.1015  5.4841  0.0000  0.3578  0.7558\n",
      "==============================================================\n",
      "\n"
     ]
    }
   ],
   "source": [
    "formula = 'hmm_dprime_next ~ hmm_dprime'\n",
    "data_sub = data[[\n",
    "    'hmm_dprime_next', 'hmm_dprime', 'replay_freq_0_1_plus', 'replay_freq_0_1_minus',\n",
    "    'replay_freq_0_1_neutral', 'd_day_next']]\n",
    "\n",
    "# 0s in the dependent variable still converges, but LL is infinite\n",
    "data_sub.replace(0, np.nan, inplace=True)\n",
    "data_sub.dropna(inplace=True)\n",
    "\n",
    "y, X = patsy.dmatrices(formula, data_sub, return_type='dataframe')\n",
    "X = sm.add_constant(X)\n",
    "\n",
    "# family = sm.families.Gamma()\n",
    "# family = sm.families.Gamma(link=sm.families.links.log)\n",
    "family = sm.families.Gaussian()\n",
    "# family = sm.families.Gaussian(link=sm.families.links.log)\n",
    "\n",
    "glm = sm.GLM(y, X, family=family)\n",
    "glm_results = glm.fit()\n",
    "print(glm_results.summary2())"
   ]
  },
  {
   "cell_type": "code",
   "execution_count": 9,
   "metadata": {},
   "outputs": [
    {
     "name": "stdout",
     "output_type": "stream",
     "text": [
      "                     Results: Generalized linear model\n",
      "==========================================================================\n",
      "Model:                  GLM                  AIC:                206.0910 \n",
      "Link Function:          identity             BIC:                -208.6663\n",
      "Dependent Variable:     hmm_dprime           Log-Likelihood:     -98.045  \n",
      "Date:                   2018-09-06 13:46     LL-Null:            -113.35  \n",
      "No. Observations:       70                   Deviance:           67.486   \n",
      "Df Model:               4                    Pearson chi2:       67.5     \n",
      "Df Residuals:           65                   Scale:              1.0382   \n",
      "Method:                 IRLS                                              \n",
      "--------------------------------------------------------------------------\n",
      "                         Coef.   Std.Err.    z    P>|z|    [0.025   0.975]\n",
      "--------------------------------------------------------------------------\n",
      "Intercept                 1.5603   0.3041  5.1312 0.0000    0.9643  2.1563\n",
      "replay_freq_0_1_plus    -33.6746  24.5438 -1.3720 0.1701  -81.7795 14.4302\n",
      "replay_freq_0_1_minus   -86.1192  43.9936 -1.9575 0.0503 -172.3450  0.1066\n",
      "replay_freq_0_1_neutral  22.4510  34.2423  0.6557 0.5120  -44.6627 89.5648\n",
      "hmm_dprime_prev           0.4807   0.1134  4.2376 0.0000    0.2584  0.7030\n",
      "==========================================================================\n",
      "\n"
     ]
    }
   ],
   "source": [
    "formula = 'hmm_dprime ~ replay_freq_0_1_plus + replay_freq_0_1_minus + replay_freq_0_1_neutral + hmm_dprime_prev'\n",
    "data_sub = data[[\n",
    "    'hmm_dprime_prev', 'hmm_dprime', 'replay_freq_0_1_plus', 'replay_freq_0_1_minus',\n",
    "    'replay_freq_0_1_neutral', 'd_day_prev']]\n",
    "\n",
    "# 0s in the dependent variable still converges, but LL is infinite\n",
    "data_sub.replace(0, np.nan, inplace=True)\n",
    "data_sub.dropna(inplace=True)\n",
    "\n",
    "y, X = patsy.dmatrices(formula, data_sub, return_type='dataframe')\n",
    "X = sm.add_constant(X)\n",
    "\n",
    "# family = sm.families.Gamma()\n",
    "# family = sm.families.Gamma(link=sm.families.links.log)\n",
    "family = sm.families.Gaussian()\n",
    "# family = sm.families.Gaussian(link=sm.families.links.log)\n",
    "\n",
    "glm = sm.GLM(y, X, family=family)\n",
    "glm_results = glm.fit()\n",
    "print(glm_results.summary2())"
   ]
  },
  {
   "cell_type": "code",
   "execution_count": 10,
   "metadata": {},
   "outputs": [
    {
     "name": "stdout",
     "output_type": "stream",
     "text": [
      "               Results: Generalized linear model\n",
      "==============================================================\n",
      "Model:              GLM              AIC:            208.5416 \n",
      "Link Function:      identity         BIC:            -212.7525\n",
      "Dependent Variable: hmm_dprime       Log-Likelihood: -102.27  \n",
      "Date:               2018-09-06 13:46 LL-Null:        -113.35  \n",
      "No. Observations:   70               Deviance:       76.145   \n",
      "Df Model:           1                Pearson chi2:   76.1     \n",
      "Df Residuals:       68               Scale:          1.1198   \n",
      "Method:             IRLS                                      \n",
      "--------------------------------------------------------------\n",
      "                   Coef.  Std.Err.   z    P>|z|  [0.025 0.975]\n",
      "--------------------------------------------------------------\n",
      "Intercept          1.0563   0.2451 4.3092 0.0000 0.5758 1.5367\n",
      "hmm_dprime_prev    0.5432   0.1080 5.0312 0.0000 0.3316 0.7548\n",
      "==============================================================\n",
      "\n"
     ]
    }
   ],
   "source": [
    "formula = 'hmm_dprime ~ hmm_dprime_prev'\n",
    "data_sub = data[[\n",
    "    'hmm_dprime_prev', 'hmm_dprime', 'replay_freq_0_1_plus', 'replay_freq_0_1_minus',\n",
    "    'replay_freq_0_1_neutral', 'd_day_prev']]\n",
    "\n",
    "# 0s in the dependent variable still converges, but LL is infinite\n",
    "data_sub.replace(0, np.nan, inplace=True)\n",
    "data_sub.dropna(inplace=True)\n",
    "\n",
    "y, X = patsy.dmatrices(formula, data_sub, return_type='dataframe')\n",
    "X = sm.add_constant(X)\n",
    "\n",
    "# family = sm.families.Gamma()\n",
    "# family = sm.families.Gamma(link=sm.families.links.log)\n",
    "family = sm.families.Gaussian()\n",
    "# family = sm.families.Gaussian(link=sm.families.links.log)\n",
    "\n",
    "glm = sm.GLM(y, X, family=family)\n",
    "glm_results = glm.fit()\n",
    "print(glm_results.summary2())"
   ]
  },
  {
   "cell_type": "markdown",
   "metadata": {},
   "source": [
    "## Model Behavior"
   ]
  },
  {
   "cell_type": "code",
   "execution_count": 11,
   "metadata": {},
   "outputs": [
    {
     "name": "stdout",
     "output_type": "stream",
     "text": [
      "(118, 9)\n",
      "(82, 9)\n"
     ]
    }
   ],
   "source": [
    "# data_sub = data[[\n",
    "#     'hmm_dprime_prev', 'hmm_dprime', 'hmm_dprime_next', 'replay_freq_0_1_plus', 'replay_freq_0_1_minus',\n",
    "#     'replay_freq_0_1_neutral', 'd_day_prev', 'd_day_next', 'replay_plus_prev', 'replay_minus_prev',\n",
    "#     'replay_neutral_prev', 'replay_plus_next', 'replay_minus_next', 'replay_neutral_next']]\n",
    "data_sub = data[[\n",
    "    'hmm_dprime_prev', 'hmm_dprime', 'replay_freq_0_1_plus', 'replay_freq_0_1_minus',\n",
    "    'replay_freq_0_1_neutral', 'd_day_prev', 'replay_plus_prev', 'replay_minus_prev',\n",
    "    'replay_neutral_prev']]\n",
    "# data_sub = data[[\n",
    "#     'd_hmm_dprime_prev', 'replay_freq_0_1_plus', 'replay_freq_0_1_minus',\n",
    "#     'replay_freq_0_1_neutral', 'd_day_prev', 'replay_plus_prev', 'replay_minus_prev',\n",
    "#     'replay_neutral_prev']]\n",
    "# data_sub.replace(0, np.nan, inplace=True)\n",
    "print(data_sub.shape)\n",
    "data_sub.dropna(inplace=True)\n",
    "print(data_sub.shape)"
   ]
  },
  {
   "cell_type": "code",
   "execution_count": 12,
   "metadata": {},
   "outputs": [
    {
     "name": "stdout",
     "output_type": "stream",
     "text": [
      "                     Results: Generalized linear model\n",
      "==========================================================================\n",
      "Model:                  GLM                  AIC:                241.5002 \n",
      "Link Function:          identity             BIC:                -248.3983\n",
      "Dependent Variable:     hmm_dprime           Log-Likelihood:     -111.75  \n",
      "Date:                   2018-09-06 13:46     LL-Null:            -127.57  \n",
      "No. Observations:       82                   Deviance:           73.292   \n",
      "Df Model:               8                    Pearson chi2:       73.3     \n",
      "Df Residuals:           73                   Scale:              1.0040   \n",
      "Method:                 IRLS                                              \n",
      "--------------------------------------------------------------------------\n",
      "                         Coef.   Std.Err.    z    P>|z|    [0.025   0.975]\n",
      "--------------------------------------------------------------------------\n",
      "Intercept                 1.4456   0.3272  4.4183 0.0000    0.8044  2.0869\n",
      "hmm_dprime_prev           0.4782   0.1146  4.1741 0.0000    0.2537  0.7028\n",
      "d_day_prev               -0.0104   0.0288 -0.3606 0.7184   -0.0669  0.0461\n",
      "replay_freq_0_1_plus    -39.8203  27.1002 -1.4694 0.1417  -92.9358 13.2952\n",
      "replay_freq_0_1_minus   -30.1817  35.1475 -0.8587 0.3905  -99.0696 38.7062\n",
      "replay_freq_0_1_neutral  30.1935  35.4626  0.8514 0.3945  -39.3120 99.6989\n",
      "replay_plus_prev          7.5000  31.0571  0.2415 0.8092  -53.3708 68.3708\n",
      "replay_minus_prev         1.6024  34.1296  0.0470 0.9626  -65.2904 68.4952\n",
      "replay_neutral_prev     -17.8275  44.1498 -0.4038 0.6864 -104.3595 68.7045\n",
      "==========================================================================\n",
      "\n"
     ]
    }
   ],
   "source": [
    "# Full\n",
    "formula = 'hmm_dprime ~ hmm_dprime_prev + d_day_prev ' \\\n",
    "    + '+ replay_freq_0_1_plus + replay_freq_0_1_minus + replay_freq_0_1_neutral ' \\\n",
    "    + '+ replay_plus_prev + replay_minus_prev + replay_neutral_prev'\n",
    "\n",
    "y, X = patsy.dmatrices(formula, data_sub, return_type='dataframe')\n",
    "X = sm.add_constant(X)\n",
    "family = sm.families.Gaussian()\n",
    "\n",
    "glm = sm.GLM(y, X, family=family)\n",
    "glm_results = glm.fit()\n",
    "print(glm_results.summary2())\n",
    "aic_full = glm_results.aic"
   ]
  },
  {
   "cell_type": "code",
   "execution_count": 13,
   "metadata": {
    "scrolled": true
   },
   "outputs": [
    {
     "name": "stdout",
     "output_type": "stream",
     "text": [
      "               Results: Generalized linear model\n",
      "==============================================================\n",
      "Model:              GLM              AIC:            257.1359 \n",
      "Link Function:      identity         BIC:            -249.1466\n",
      "Dependent Variable: hmm_dprime       Log-Likelihood: -127.57  \n",
      "Date:               2018-09-06 13:46 LL-Null:        -127.57  \n",
      "No. Observations:   82               Deviance:       107.80   \n",
      "Df Model:           0                Pearson chi2:   108.     \n",
      "Df Residuals:       81               Scale:          1.3308   \n",
      "Method:             IRLS                                      \n",
      "---------------------------------------------------------------\n",
      "              Coef.   Std.Err.     z     P>|z|   [0.025  0.975]\n",
      "---------------------------------------------------------------\n",
      "Intercept     2.2238    0.1274  17.4561  0.0000  1.9741  2.4735\n",
      "==============================================================\n",
      "\n"
     ]
    }
   ],
   "source": [
    "# Null\n",
    "formula = 'hmm_dprime ~ 1'\n",
    "y, X = patsy.dmatrices(formula, data_sub, return_type='dataframe')\n",
    "X = sm.add_constant(X)\n",
    "family = sm.families.Gaussian()\n",
    "\n",
    "glm = sm.GLM(y, X, family=family)\n",
    "glm_results = glm.fit()\n",
    "print(glm_results.summary2())\n",
    "aic_null = glm_results.aic"
   ]
  },
  {
   "cell_type": "code",
   "execution_count": 14,
   "metadata": {},
   "outputs": [
    {
     "name": "stdout",
     "output_type": "stream",
     "text": [
      "               Results: Generalized linear model\n",
      "==============================================================\n",
      "Model:              GLM              AIC:            234.8354 \n",
      "Link Function:      identity         BIC:            -269.9115\n",
      "Dependent Variable: hmm_dprime       Log-Likelihood: -114.42  \n",
      "Date:               2018-09-06 13:46 LL-Null:        -127.57  \n",
      "No. Observations:   82               Deviance:       78.219   \n",
      "Df Model:           2                Pearson chi2:   78.2     \n",
      "Df Residuals:       79               Scale:          0.99012  \n",
      "Method:             IRLS                                      \n",
      "--------------------------------------------------------------\n",
      "                 Coef.  Std.Err.    z    P>|z|   [0.025 0.975]\n",
      "--------------------------------------------------------------\n",
      "Intercept        1.1362   0.2462  4.6148 0.0000  0.6536 1.6187\n",
      "hmm_dprime_prev  0.5477   0.1005  5.4509 0.0000  0.3508 0.7446\n",
      "d_day_prev      -0.0155   0.0283 -0.5493 0.5828 -0.0710 0.0399\n",
      "==============================================================\n",
      "\n"
     ]
    }
   ],
   "source": [
    "# Autoregress\n",
    "formula = 'hmm_dprime ~ hmm_dprime_prev + d_day_prev'\n",
    "y, X = patsy.dmatrices(formula, data_sub, return_type='dataframe')\n",
    "X = sm.add_constant(X)\n",
    "family = sm.families.Gaussian()\n",
    "\n",
    "glm = sm.GLM(y, X, family=family)\n",
    "glm_results = glm.fit()\n",
    "print(glm_results.summary2())\n",
    "aic_ar = glm_results.aic"
   ]
  },
  {
   "cell_type": "code",
   "execution_count": 15,
   "metadata": {},
   "outputs": [
    {
     "name": "stdout",
     "output_type": "stream",
     "text": [
      "                   Results: Generalized linear model\n",
      "======================================================================\n",
      "Model:                  GLM                AIC:              239.5813 \n",
      "Link Function:          identity           BIC:              -257.8784\n",
      "Dependent Variable:     hmm_dprime         Log-Likelihood:   -113.79  \n",
      "Date:                   2018-09-06 13:46   LL-Null:          -127.57  \n",
      "No. Observations:       82                 Deviance:         77.032   \n",
      "Df Model:               5                  Pearson chi2:     77.0     \n",
      "Df Residuals:           76                 Scale:            1.0136   \n",
      "Method:                 IRLS                                          \n",
      "----------------------------------------------------------------------\n",
      "                     Coef.   Std.Err.    z    P>|z|    [0.025   0.975]\n",
      "----------------------------------------------------------------------\n",
      "Intercept             1.3236   0.3085  4.2904 0.0000    0.7190  1.9283\n",
      "hmm_dprime_prev       0.5011   0.1109  4.5189 0.0000    0.2838  0.7184\n",
      "d_day_prev           -0.0159   0.0287 -0.5559 0.5783   -0.0722  0.0403\n",
      "replay_plus_prev     -0.7870  30.7530 -0.0256 0.9796  -61.0619 59.4878\n",
      "replay_minus_prev    -9.4635  33.3380 -0.2839 0.7765  -74.8047 55.8777\n",
      "replay_neutral_prev -18.9880  43.1165 -0.4404 0.6597 -103.4948 65.5188\n",
      "======================================================================\n",
      "\n"
     ]
    }
   ],
   "source": [
    "# Arthur 1\n",
    "formula = 'hmm_dprime ~ hmm_dprime_prev + d_day_prev + replay_plus_prev + replay_minus_prev + replay_neutral_prev'\n",
    "# formula = 'd_hmm_dprime_prev ~ d_day_prev + replay_plus_prev + replay_minus_prev + replay_neutral_prev'\n",
    "y, X = patsy.dmatrices(formula, data_sub, return_type='dataframe')\n",
    "X = sm.add_constant(X)\n",
    "family = sm.families.Gaussian()\n",
    "\n",
    "glm = sm.GLM(y, X, family=family)\n",
    "glm_results = glm.fit()\n",
    "print(glm_results.summary2())\n",
    "aic_a1 = glm_results.aic"
   ]
  },
  {
   "cell_type": "code",
   "execution_count": 16,
   "metadata": {},
   "outputs": [
    {
     "name": "stdout",
     "output_type": "stream",
     "text": [
      "                    Results: Generalized linear model\n",
      "=========================================================================\n",
      "Model:                   GLM                 AIC:               235.7266 \n",
      "Link Function:           identity            BIC:               -261.4158\n",
      "Dependent Variable:      hmm_dprime          Log-Likelihood:    -111.86  \n",
      "Date:                    2018-09-06 13:46    LL-Null:           -127.57  \n",
      "No. Observations:        82                  Deviance:          73.495   \n",
      "Df Model:                5                   Pearson chi2:      73.5     \n",
      "Df Residuals:            76                  Scale:             0.96704  \n",
      "Method:                  IRLS                                            \n",
      "-------------------------------------------------------------------------\n",
      "                         Coef.   Std.Err.    z    P>|z|   [0.025   0.975]\n",
      "-------------------------------------------------------------------------\n",
      "Intercept                 1.4119   0.2876  4.9090 0.0000   0.8482  1.9756\n",
      "hmm_dprime_prev           0.4868   0.1079  4.5124 0.0000   0.2754  0.6983\n",
      "d_day_prev               -0.0107   0.0282 -0.3802 0.7038  -0.0659  0.0445\n",
      "replay_freq_0_1_plus    -42.4344  24.6616 -1.7207 0.0853 -90.7702  5.9013\n",
      "replay_freq_0_1_minus   -27.7395  33.3307 -0.8323 0.4053 -93.0664 37.5874\n",
      "replay_freq_0_1_neutral  30.2421  34.1368  0.8859 0.3757 -36.6649 97.1490\n",
      "=========================================================================\n",
      "\n"
     ]
    }
   ],
   "source": [
    "# Arthur 2\n",
    "formula = 'hmm_dprime ~ hmm_dprime_prev + d_day_prev + replay_freq_0_1_plus + replay_freq_0_1_minus + replay_freq_0_1_neutral'\n",
    "# formula = 'd_hmm_dprime_prev ~ d_day_prev + replay_freq_0_1_plus + replay_freq_0_1_minus + replay_freq_0_1_neutral'\n",
    "y, X = patsy.dmatrices(formula, data_sub, return_type='dataframe')\n",
    "X = sm.add_constant(X)\n",
    "family = sm.families.Gaussian()\n",
    "\n",
    "glm = sm.GLM(y, X, family=family)\n",
    "glm_results = glm.fit()\n",
    "print(glm_results.summary2())\n",
    "aic_a2 = glm_results.aic"
   ]
  },
  {
   "cell_type": "code",
   "execution_count": 17,
   "metadata": {},
   "outputs": [
    {
     "name": "stdout",
     "output_type": "stream",
     "text": [
      "                   Results: Generalized linear model\n",
      "======================================================================\n",
      "Model:                  GLM                AIC:              257.0964 \n",
      "Link Function:          identity           BIC:              -241.5869\n",
      "Dependent Variable:     hmm_dprime         Log-Likelihood:   -123.55  \n",
      "Date:                   2018-09-06 13:46   LL-Null:          -127.57  \n",
      "No. Observations:       82                 Deviance:         97.730   \n",
      "Df Model:               4                  Pearson chi2:     97.7     \n",
      "Df Residuals:           77                 Scale:            1.2692   \n",
      "Method:                 IRLS                                          \n",
      "----------------------------------------------------------------------\n",
      "                     Coef.   Std.Err.    z    P>|z|    [0.025   0.975]\n",
      "----------------------------------------------------------------------\n",
      "Intercept             2.4950   0.1872 13.3279 0.0000    2.1281  2.8619\n",
      "d_day_prev           -0.0132   0.0321 -0.4102 0.6817   -0.0760  0.0497\n",
      "replay_plus_prev    -12.9662  34.2810 -0.3782 0.7053  -80.1558 54.2234\n",
      "replay_minus_prev   -18.6891  37.2360 -0.5019 0.6157  -91.6703 54.2922\n",
      "replay_neutral_prev -41.1031  47.9367 -0.8574 0.3912 -135.0573 52.8511\n",
      "======================================================================\n",
      "\n"
     ]
    }
   ],
   "source": [
    "# Arthur 1 - no prev behavior\n",
    "formula = 'hmm_dprime ~ d_day_prev + replay_plus_prev + replay_minus_prev + replay_neutral_prev'\n",
    "y, X = patsy.dmatrices(formula, data_sub, return_type='dataframe')\n",
    "X = sm.add_constant(X)\n",
    "family = sm.families.Gaussian()\n",
    "\n",
    "glm = sm.GLM(y, X, family=family)\n",
    "glm_results = glm.fit()\n",
    "print(glm_results.summary2())\n",
    "aic_a1_no_ar = glm_results.aic"
   ]
  },
  {
   "cell_type": "code",
   "execution_count": 18,
   "metadata": {},
   "outputs": [
    {
     "name": "stdout",
     "output_type": "stream",
     "text": [
      "                     Results: Generalized linear model\n",
      "==========================================================================\n",
      "Model:                  GLM                  AIC:                253.1916 \n",
      "Link Function:          identity             BIC:                -246.1317\n",
      "Dependent Variable:     hmm_dprime           Log-Likelihood:     -121.60  \n",
      "Date:                   2018-09-06 13:46     LL-Null:            -127.57  \n",
      "No. Observations:       82                   Deviance:           93.186   \n",
      "Df Model:               4                    Pearson chi2:       93.2     \n",
      "Df Residuals:           77                   Scale:              1.2102   \n",
      "Method:                 IRLS                                              \n",
      "--------------------------------------------------------------------------\n",
      "                         Coef.   Std.Err.    z    P>|z|    [0.025   0.975]\n",
      "--------------------------------------------------------------------------\n",
      "Intercept                 2.4905   0.1789 13.9190 0.0000    2.1398  2.8412\n",
      "d_day_prev               -0.0083   0.0315 -0.2621 0.7933   -0.0700  0.0535\n",
      "replay_freq_0_1_plus    -62.0223  27.1577 -2.2838 0.0224 -115.2505 -8.7941\n",
      "replay_freq_0_1_minus   -11.5417  37.0696 -0.3114 0.7555  -84.1968 61.1134\n",
      "replay_freq_0_1_neutral  14.4455  37.9870  0.3803 0.7037  -60.0076 88.8986\n",
      "==========================================================================\n",
      "\n"
     ]
    }
   ],
   "source": [
    "# Arthur 2 - no previous behavior\n",
    "formula = 'hmm_dprime ~ d_day_prev + replay_freq_0_1_plus + replay_freq_0_1_minus + replay_freq_0_1_neutral'\n",
    "# formula = 'd_hmm_dprime_prev ~ d_day_prev + replay_freq_0_1_plus + replay_freq_0_1_minus + replay_freq_0_1_neutral'\n",
    "y, X = patsy.dmatrices(formula, data_sub, return_type='dataframe')\n",
    "X = sm.add_constant(X)\n",
    "family = sm.families.Gaussian()\n",
    "\n",
    "glm = sm.GLM(y, X, family=family)\n",
    "glm_results = glm.fit()\n",
    "print(glm_results.summary2())\n",
    "aic_a2_no_ar = glm_results.aic"
   ]
  },
  {
   "cell_type": "code",
   "execution_count": 19,
   "metadata": {
    "scrolled": true
   },
   "outputs": [
    {
     "name": "stdout",
     "output_type": "stream",
     "text": [
      "AICs: [241.5002073984773, 257.13591062934535, 234.83535690215047, 239.58133224133832, 235.72661504611835, 257.09643862647033, 253.1916151415702]\n",
      "Delta aics: [6.664850496326835, 22.30055372719488, 0.0, 4.745975339187851, 0.8912581439678888, 22.261081724319865, 18.35625823941973]\n",
      "Likelihoods: [0.035706403084736556, 1.4371307647237989e-05, 1.0, 0.09320185355176067, 0.6404212782042469, 1.4657757181990642e-05, 0.00010327356500090968]\n",
      "Weights: [0.020179244518648935, 8.121852273333915e-06, 0.5651435814120122, 0.052672429310479885, 0.36192997477680666, 8.283737389297835e-06, 5.8364392389800325e-05]\n",
      "Evidence ratios: [28.00618134587381, 69583.09045678173, 1.0, 10.729400348724171, 1.5614721653284516, 68223.26141605464, 9683.020044782917]\n",
      "evidence ratio of a2/a1: 6.8713362857\n"
     ]
    }
   ],
   "source": [
    "aics = [aic_full, aic_null, aic_ar, aic_a1, aic_a2, aic_a1_no_ar, aic_a2_no_ar]\n",
    "print(\"AICs: \" + str(aics))\n",
    "aic_min = min(aics)\n",
    "delta_aic = [aic - aic_min for aic in aics]\n",
    "print(\"Delta aics: \" + str(delta_aic))\n",
    "likelihoods = [np.exp(-1/2.* (x - aic_min)) for x in aics]\n",
    "print(\"Likelihoods: \" + str(likelihoods))\n",
    "weights = [x / np.sum(likelihoods) for x in likelihoods]\n",
    "print(\"Weights: \" + str(weights))\n",
    "weight_of_aic_min = max(weights)\n",
    "evidence_ratios = [weight_of_aic_min / x for x in weights]\n",
    "print(\"Evidence ratios: \" + str(evidence_ratios))\n",
    "# print(\"evidence ratio of a2/a1: \" + str(0.35847911001635896/0.05302124507387048))\n",
    "print(\"evidence ratio of a2/a1: {}\".format(weights[4]/weights[3]))"
   ]
  },
  {
   "cell_type": "markdown",
   "metadata": {},
   "source": [
    "## Model Replay as function of change in behavior"
   ]
  },
  {
   "cell_type": "code",
   "execution_count": 20,
   "metadata": {},
   "outputs": [
    {
     "name": "stdout",
     "output_type": "stream",
     "text": [
      "(118, 6)\n",
      "(63, 6)\n"
     ]
    }
   ],
   "source": [
    "# data_sub = data[[\n",
    "#     'hmm_dprime_prev', 'hmm_dprime', 'hmm_dprime_next', 'replay_freq_0_1_plus', 'replay_freq_0_1_minus',\n",
    "#     'replay_freq_0_1_neutral', 'd_day_prev', 'd_day_next', 'replay_plus_prev', 'replay_minus_prev',\n",
    "#     'replay_neutral_prev', 'replay_plus_next', 'replay_minus_next', 'replay_neutral_next']]\n",
    "data_sub = data[[\n",
    "    'd_hmm_dprime_prev', 'd_hmm_dprime_next', 'replay_freq_0_1_all', 'replay_freq_0_1_all_prev','d_day_prev', 'd_day_next']]\n",
    "# data_sub = data[[\n",
    "#     'd_hmm_dprime_prev', 'replay_freq_0_1_plus', 'replay_freq_0_1_minus',\n",
    "#     'replay_freq_0_1_neutral', 'd_day_prev', 'replay_plus_prev', 'replay_minus_prev',\n",
    "#     'replay_neutral_prev']]\n",
    "data_sub.replace(0, np.nan, inplace=True)\n",
    "print(data_sub.shape)\n",
    "data_sub.dropna(inplace=True)\n",
    "print(data_sub.shape)"
   ]
  },
  {
   "cell_type": "code",
   "execution_count": 21,
   "metadata": {},
   "outputs": [
    {
     "name": "stdout",
     "output_type": "stream",
     "text": [
      "                    Results: Generalized linear model\n",
      "=========================================================================\n",
      "Model:                  GLM                   AIC:              -449.9110\n",
      "Link Function:          log                   BIC:              -163.4199\n",
      "Dependent Variable:     replay_freq_0_1_all   Log-Likelihood:   230.96   \n",
      "Date:                   2018-09-06 13:47      LL-Null:          224.57   \n",
      "No. Observations:       63                    Deviance:         72.739   \n",
      "Df Model:               5                     Pearson chi2:     66.4     \n",
      "Df Residuals:           57                    Scale:            1.1643   \n",
      "Method:                 IRLS                                             \n",
      "-------------------------------------------------------------------------\n",
      "                          Coef.  Std.Err.    z     P>|z|   [0.025  0.975]\n",
      "-------------------------------------------------------------------------\n",
      "Intercept                -5.1824   0.2225 -23.2951 0.0000 -5.6184 -4.7463\n",
      "replay_freq_0_1_all_prev 49.0790  10.9550   4.4800 0.0000 27.6075 70.5504\n",
      "d_day_prev                0.0255   0.0319   0.8006 0.4234 -0.0369  0.0879\n",
      "d_day_next               -0.0030   0.0309  -0.0988 0.9213 -0.0635  0.0574\n",
      "d_hmm_dprime_prev        -0.2059   0.1563  -1.3169 0.1879 -0.5123  0.1005\n",
      "d_hmm_dprime_next        -0.1171   0.1290  -0.9074 0.3642 -0.3700  0.1358\n",
      "=========================================================================\n",
      "\n"
     ]
    }
   ],
   "source": [
    "# Full\n",
    "formula = 'replay_freq_0_1_all ~ replay_freq_0_1_all_prev + d_day_prev + d_day_next' \\\n",
    "    + '+ d_hmm_dprime_prev + d_hmm_dprime_next'\n",
    "\n",
    "y, X = patsy.dmatrices(formula, data_sub, return_type='dataframe')\n",
    "X = sm.add_constant(X)\n",
    "family = sm.families.Gamma(link=sm.families.links.log)\n",
    "\n",
    "glm = sm.GLM(y, X, family=family)\n",
    "glm_results = glm.fit()\n",
    "print(glm_results.summary2())\n",
    "aic_full = glm_results.aic"
   ]
  },
  {
   "cell_type": "code",
   "execution_count": 22,
   "metadata": {},
   "outputs": [
    {
     "name": "stdout",
     "output_type": "stream",
     "text": [
      "                Results: Generalized linear model\n",
      "=================================================================\n",
      "Model:              GLM                 AIC:            -435.3896\n",
      "Link Function:      log                 BIC:            -169.2703\n",
      "Dependent Variable: replay_freq_0_1_all Log-Likelihood: 218.69   \n",
      "Date:               2018-09-06 13:47    LL-Null:        218.69   \n",
      "No. Observations:   63                  Deviance:       87.604   \n",
      "Df Model:           0                   Pearson chi2:   129.     \n",
      "Df Residuals:       62                  Scale:          2.0859   \n",
      "Method:             IRLS                                         \n",
      "------------------------------------------------------------------\n",
      "              Coef.   Std.Err.     z      P>|z|    [0.025   0.975]\n",
      "------------------------------------------------------------------\n",
      "Intercept    -4.5551    0.1820  -25.0335  0.0000  -4.9118  -4.1985\n",
      "=================================================================\n",
      "\n"
     ]
    }
   ],
   "source": [
    "# Null\n",
    "formula = 'replay_freq_0_1_all ~ 1'\n",
    "\n",
    "y, X = patsy.dmatrices(formula, data_sub, return_type='dataframe')\n",
    "X = sm.add_constant(X)\n",
    "family = sm.families.Gamma(link=sm.families.links.log)\n",
    "\n",
    "glm = sm.GLM(y, X, family=family)\n",
    "glm_results = glm.fit()\n",
    "print(glm_results.summary2())\n",
    "aic_null = glm_results.aic"
   ]
  },
  {
   "cell_type": "code",
   "execution_count": 23,
   "metadata": {},
   "outputs": [
    {
     "name": "stdout",
     "output_type": "stream",
     "text": [
      "                    Results: Generalized linear model\n",
      "=========================================================================\n",
      "Model:                  GLM                   AIC:              -451.7049\n",
      "Link Function:          log                   BIC:              -173.5185\n",
      "Dependent Variable:     replay_freq_0_1_all   Log-Likelihood:   228.85   \n",
      "Date:                   2018-09-06 13:47      LL-Null:          224.21   \n",
      "No. Observations:       63                    Deviance:         75.070   \n",
      "Df Model:               2                     Pearson chi2:     81.0     \n",
      "Df Residuals:           60                    Scale:            1.3501   \n",
      "Method:                 IRLS                                             \n",
      "-------------------------------------------------------------------------\n",
      "                          Coef.  Std.Err.    z     P>|z|   [0.025  0.975]\n",
      "-------------------------------------------------------------------------\n",
      "Intercept                -5.1842   0.2138 -24.2472 0.0000 -5.6033 -4.7651\n",
      "replay_freq_0_1_all_prev 45.1373  11.6808   3.8642 0.0001 22.2432 68.0313\n",
      "d_day_prev                0.0239   0.0342   0.6985 0.4849 -0.0432  0.0910\n",
      "=========================================================================\n",
      "\n"
     ]
    }
   ],
   "source": [
    "# Autoregress\n",
    "formula = 'replay_freq_0_1_all ~ replay_freq_0_1_all_prev + d_day_prev'\n",
    "\n",
    "y, X = patsy.dmatrices(formula, data_sub, return_type='dataframe')\n",
    "X = sm.add_constant(X)\n",
    "family = sm.families.Gamma(link=sm.families.links.log)\n",
    "\n",
    "glm = sm.GLM(y, X, family=family)\n",
    "glm_results = glm.fit()\n",
    "print(glm_results.summary2())\n",
    "aic_auto = glm_results.aic"
   ]
  },
  {
   "cell_type": "code",
   "execution_count": 24,
   "metadata": {},
   "outputs": [
    {
     "name": "stdout",
     "output_type": "stream",
     "text": [
      "                    Results: Generalized linear model\n",
      "=========================================================================\n",
      "Model:                  GLM                   AIC:              -447.1809\n",
      "Link Function:          log                   BIC:              -165.3481\n",
      "Dependent Variable:     replay_freq_0_1_all   Log-Likelihood:   228.59   \n",
      "Date:                   2018-09-06 13:47      LL-Null:          224.04   \n",
      "No. Observations:       63                    Deviance:         74.954   \n",
      "Df Model:               4                     Pearson chi2:     80.6     \n",
      "Df Residuals:           58                    Scale:            1.3899   \n",
      "Method:                 IRLS                                             \n",
      "-------------------------------------------------------------------------\n",
      "                          Coef.  Std.Err.    z     P>|z|   [0.025  0.975]\n",
      "-------------------------------------------------------------------------\n",
      "Intercept                -5.1651   0.2422 -21.3289 0.0000 -5.6398 -4.6905\n",
      "replay_freq_0_1_all_prev 45.2193  11.8730   3.8086 0.0001 21.9487 68.4899\n",
      "d_day_prev                0.0247   0.0348   0.7091 0.4782 -0.0435  0.0929\n",
      "d_day_next               -0.0064   0.0337  -0.1912 0.8484 -0.0724  0.0595\n",
      "d_hmm_dprime_next        -0.0367   0.1311  -0.2801 0.7794 -0.2938  0.2203\n",
      "=========================================================================\n",
      "\n"
     ]
    }
   ],
   "source": [
    "# Replay changes behavior\n",
    "formula = 'replay_freq_0_1_all ~ replay_freq_0_1_all_prev + d_day_prev + d_day_next + d_hmm_dprime_next'\n",
    "\n",
    "y, X = patsy.dmatrices(formula, data_sub, return_type='dataframe')\n",
    "X = sm.add_constant(X)\n",
    "family = sm.families.Gamma(link=sm.families.links.log)\n",
    "\n",
    "glm = sm.GLM(y, X, family=family)\n",
    "glm_results = glm.fit()\n",
    "print(glm_results.summary2())\n",
    "aic_fwd = glm_results.aic"
   ]
  },
  {
   "cell_type": "code",
   "execution_count": 25,
   "metadata": {},
   "outputs": [
    {
     "name": "stdout",
     "output_type": "stream",
     "text": [
      "                    Results: Generalized linear model\n",
      "=========================================================================\n",
      "Model:                  GLM                   AIC:              -453.3266\n",
      "Link Function:          log                   BIC:              -171.0779\n",
      "Dependent Variable:     replay_freq_0_1_all   Log-Likelihood:   230.66   \n",
      "Date:                   2018-09-06 13:47      LL-Null:          224.57   \n",
      "No. Observations:       63                    Deviance:         73.367   \n",
      "Df Model:               3                     Pearson chi2:     69.0     \n",
      "Df Residuals:           59                    Scale:            1.1690   \n",
      "Method:                 IRLS                                             \n",
      "-------------------------------------------------------------------------\n",
      "                          Coef.  Std.Err.    z     P>|z|   [0.025  0.975]\n",
      "-------------------------------------------------------------------------\n",
      "Intercept                -5.1870   0.1999 -25.9496 0.0000 -5.5787 -4.7952\n",
      "replay_freq_0_1_all_prev 48.0834  10.9624   4.3862 0.0000 26.5975 69.5693\n",
      "d_day_prev                0.0228   0.0319   0.7169 0.4734 -0.0396  0.0853\n",
      "d_hmm_dprime_prev        -0.1651   0.1452  -1.1366 0.2557 -0.4497  0.1196\n",
      "=========================================================================\n",
      "\n"
     ]
    }
   ],
   "source": [
    "# Replay reflects behavior change\n",
    "formula = 'replay_freq_0_1_all ~ replay_freq_0_1_all_prev + d_day_prev + d_day_prev + d_hmm_dprime_prev'\n",
    "\n",
    "y, X = patsy.dmatrices(formula, data_sub, return_type='dataframe')\n",
    "X = sm.add_constant(X)\n",
    "family = sm.families.Gamma(link=sm.families.links.log)\n",
    "\n",
    "glm = sm.GLM(y, X, family=family)\n",
    "glm_results = glm.fit()\n",
    "print(glm_results.summary2())\n",
    "aic_bkw = glm_results.aic"
   ]
  },
  {
   "cell_type": "code",
   "execution_count": 26,
   "metadata": {},
   "outputs": [
    {
     "name": "stdout",
     "output_type": "stream",
     "text": [
      "                 Results: Generalized linear model\n",
      "==================================================================\n",
      "Model:               GLM                 AIC:            -430.1793\n",
      "Link Function:       log                 BIC:            -161.0516\n",
      "Dependent Variable:  replay_freq_0_1_all Log-Likelihood: 218.09   \n",
      "Date:                2018-09-06 13:47    LL-Null:        218.07   \n",
      "No. Observations:    63                  Deviance:       87.536   \n",
      "Df Model:            2                   Pearson chi2:   129.     \n",
      "Df Residuals:        60                  Scale:          2.1527   \n",
      "Method:              IRLS                                         \n",
      "------------------------------------------------------------------\n",
      "                   Coef.  Std.Err.    z     P>|z|   [0.025  0.975]\n",
      "------------------------------------------------------------------\n",
      "Intercept         -4.5308   0.2283 -19.8499 0.0000 -4.9781 -4.0834\n",
      "d_day_next        -0.0073   0.0417  -0.1752 0.8610 -0.0891  0.0745\n",
      "d_hmm_dprime_next -0.0241   0.1631  -0.1479 0.8824 -0.3439  0.2956\n",
      "==================================================================\n",
      "\n"
     ]
    }
   ],
   "source": [
    "# Replay changes behavior - no auto\n",
    "formula = 'replay_freq_0_1_all ~ d_day_next + d_hmm_dprime_next'\n",
    "\n",
    "y, X = patsy.dmatrices(formula, data_sub, return_type='dataframe')\n",
    "X = sm.add_constant(X)\n",
    "family = sm.families.Gamma(link=sm.families.links.log)\n",
    "\n",
    "glm = sm.GLM(y, X, family=family)\n",
    "glm_results = glm.fit()\n",
    "print(glm_results.summary2())\n",
    "aic_fwd_no_auto = glm_results.aic"
   ]
  },
  {
   "cell_type": "code",
   "execution_count": 27,
   "metadata": {},
   "outputs": [
    {
     "name": "stdout",
     "output_type": "stream",
     "text": [
      "                 Results: Generalized linear model\n",
      "==================================================================\n",
      "Model:               GLM                 AIC:            -433.0704\n",
      "Link Function:       log                 BIC:            -161.8347\n",
      "Dependent Variable:  replay_freq_0_1_all Log-Likelihood: 219.54   \n",
      "Date:                2018-09-06 13:47    LL-Null:        219.32   \n",
      "No. Observations:    63                  Deviance:       86.753   \n",
      "Df Model:            2                   Pearson chi2:   121.     \n",
      "Df Residuals:        60                  Scale:          2.0173   \n",
      "Method:              IRLS                                         \n",
      "------------------------------------------------------------------\n",
      "                   Coef.  Std.Err.    z     P>|z|   [0.025  0.975]\n",
      "------------------------------------------------------------------\n",
      "Intercept         -4.5943   0.2191 -20.9733 0.0000 -5.0236 -4.1649\n",
      "d_day_prev         0.0197   0.0418   0.4708 0.6378 -0.0623  0.1017\n",
      "d_hmm_dprime_prev -0.1014   0.1891  -0.5362 0.5918 -0.4721  0.2693\n",
      "==================================================================\n",
      "\n"
     ]
    }
   ],
   "source": [
    "# Replay reflects beahvior change - no auto\n",
    "formula = 'replay_freq_0_1_all ~ d_day_prev + d_hmm_dprime_prev'\n",
    "\n",
    "y, X = patsy.dmatrices(formula, data_sub, return_type='dataframe')\n",
    "X = sm.add_constant(X)\n",
    "family = sm.families.Gamma(link=sm.families.links.log)\n",
    "\n",
    "glm = sm.GLM(y, X, family=family)\n",
    "glm_results = glm.fit()\n",
    "print(glm_results.summary2())\n",
    "aic_bkw_no_auto = glm_results.aic"
   ]
  },
  {
   "cell_type": "code",
   "execution_count": 28,
   "metadata": {},
   "outputs": [
    {
     "name": "stdout",
     "output_type": "stream",
     "text": [
      "AICs: [-449.9109548150844, -435.38959076106715, -451.70488264730824, -447.18086989069144, -453.3266347945212, -430.17925412762133, -433.07036583201625]\n",
      "Delta aics: [3.4156799794368453, 17.93704403345407, 1.6217521472129874, 6.145764903829786, 0.0, 23.147380666899892, 20.256268962504976]\n",
      "Likelihoods: [0.18125688682045196, 0.00012735628358004326, 0.44446850847803226, 0.04628754077132147, 1.0, 9.410444829843021e-06, 3.993991008414245e-05]\n",
      "Weights: [0.10839493451644994, 7.616138763649761e-05, 0.2658002998739816, 0.027680796238130967, 0.5980182955686696, 5.627618177685723e-06, 2.388479695368479e-05]\n",
      "Evidence ratios: [5.5170317527883626, 7851.987918377826, 2.2498781824256615, 21.604085750426677, 1.0, 106264.90225294497, 25037.612701011938]\n",
      "evidence ratio of bkw/fwd: 21.6040857504\n"
     ]
    }
   ],
   "source": [
    "aics = [aic_full, aic_null, aic_auto, aic_fwd, aic_bkw, aic_fwd_no_auto, aic_bkw_no_auto]\n",
    "print(\"AICs: \" + str(aics))\n",
    "aic_min = min(aics)\n",
    "delta_aic = [aic - aic_min for aic in aics]\n",
    "print(\"Delta aics: \" + str(delta_aic))\n",
    "likelihoods = [np.exp(-1/2.* (x - aic_min)) for x in aics]\n",
    "print(\"Likelihoods: \" + str(likelihoods))\n",
    "weights = [x / np.sum(likelihoods) for x in likelihoods]\n",
    "print(\"Weights: \" + str(weights))\n",
    "weight_of_aic_min = max(weights)\n",
    "evidence_ratios = [weight_of_aic_min / x for x in weights]\n",
    "print(\"Evidence ratios: \" + str(evidence_ratios))\n",
    "print(\"evidence ratio of bkw/fwd: {}\".format(weights[4]/weights[3]))"
   ]
  },
  {
   "cell_type": "markdown",
   "metadata": {},
   "source": [
    "# With all replay combined"
   ]
  },
  {
   "cell_type": "markdown",
   "metadata": {},
   "source": [
    "## Modeling behavior"
   ]
  },
  {
   "cell_type": "code",
   "execution_count": 29,
   "metadata": {},
   "outputs": [
    {
     "name": "stdout",
     "output_type": "stream",
     "text": [
      "(118, 9)\n",
      "(82, 9)\n"
     ]
    }
   ],
   "source": [
    "data_sub = data[[\n",
    "    'hmm_dprime_prev', 'hmm_dprime', 'd_day_prev',\n",
    "#     'replay_freq_0_1_plus', 'replay_freq_0_1_minus', 'replay_freq_0_1_neutral',\n",
    "#     'replay_plus_prev', 'replay_minus_prev', 'replay_neutral_prev',\n",
    "    'combrep_freq_0_1_plus', 'combrep_freq_0_1_minus', 'combrep_freq_0_1_neutral',\n",
    "    'replay_combined_plus_prev', 'replay_combined_minus_prev', 'replay_combined_neutral_prev',\n",
    "#     'replay_freq_hungry_0_1_plus', 'replay_freq_hungry_0_1_minus', 'replay_freq_hungry_0_1_neutral',\n",
    "#     'replay_hungry_plus_prev', 'replay_hungry_minus_prev', 'replay_hungry_neutral_prev',\n",
    "#     'replay_freq_iti_0_1_plus', 'replay_freq_iti_0_1_minus', 'replay_freq_iti_0_1_neutral',\n",
    "#     'replay_iti_plus_prev', 'replay_iti_minus_prev', 'replay_iti_neutral_prev',\n",
    "]]\n",
    "print(data_sub.shape)\n",
    "data_sub.dropna(inplace=True)\n",
    "print(data_sub.shape)"
   ]
  },
  {
   "cell_type": "code",
   "execution_count": 30,
   "metadata": {},
   "outputs": [
    {
     "name": "stdout",
     "output_type": "stream",
     "text": [
      "                        Results: Generalized linear model\n",
      "================================================================================\n",
      "Model:                    GLM                    AIC:                  241.5096 \n",
      "Link Function:            identity               BIC:                  -248.3899\n",
      "Dependent Variable:       hmm_dprime             Log-Likelihood:       -111.75  \n",
      "Date:                     2018-09-06 13:47       LL-Null:              -127.57  \n",
      "No. Observations:         82                     Deviance:             73.301   \n",
      "Df Model:                 8                      Pearson chi2:         73.3     \n",
      "Df Residuals:             73                     Scale:                1.0041   \n",
      "Method:                   IRLS                                                  \n",
      "--------------------------------------------------------------------------------\n",
      "                              Coef.   Std.Err.    z    P>|z|    [0.025   0.975] \n",
      "--------------------------------------------------------------------------------\n",
      "Intercept                      1.3454   0.3319  4.0535 0.0001    0.6949   1.9960\n",
      "hmm_dprime_prev                0.5065   0.1144  4.4271 0.0000    0.2823   0.7308\n",
      "d_day_prev                    -0.0086   0.0291 -0.2954 0.7677   -0.0656   0.0484\n",
      "combrep_freq_0_1_plus        -45.9686  27.7818 -1.6546 0.0980 -100.4198   8.4826\n",
      "combrep_freq_0_1_minus       -38.1664  49.2886 -0.7743 0.4387 -134.7704  58.4375\n",
      "combrep_freq_0_1_neutral      14.1415  40.2190  0.3516 0.7251  -64.6862  92.9693\n",
      "replay_combined_plus_prev     12.9436  30.4826  0.4246 0.6711  -46.8013  72.6885\n",
      "replay_combined_minus_prev    23.3609  46.2481  0.5051 0.6135  -67.2838 114.0055\n",
      "replay_combined_neutral_prev -19.5636  50.1414 -0.3902 0.6964 -117.8390  78.7117\n",
      "================================================================================\n",
      "\n"
     ]
    }
   ],
   "source": [
    "# Full\n",
    "formula = 'hmm_dprime ~ hmm_dprime_prev + d_day_prev ' \\\n",
    "    + '+ combrep_freq_0_1_plus + combrep_freq_0_1_minus + combrep_freq_0_1_neutral ' \\\n",
    "    + '+ replay_combined_plus_prev + replay_combined_minus_prev + replay_combined_neutral_prev'\n",
    "\n",
    "y, X = patsy.dmatrices(formula, data_sub, return_type='dataframe')\n",
    "X = sm.add_constant(X)\n",
    "family = sm.families.Gaussian()\n",
    "\n",
    "glm = sm.GLM(y, X, family=family)\n",
    "glm_results = glm.fit()\n",
    "print(glm_results.summary2())\n",
    "aic_full = glm_results.aic"
   ]
  },
  {
   "cell_type": "code",
   "execution_count": 31,
   "metadata": {},
   "outputs": [
    {
     "name": "stdout",
     "output_type": "stream",
     "text": [
      "               Results: Generalized linear model\n",
      "==============================================================\n",
      "Model:              GLM              AIC:            257.1359 \n",
      "Link Function:      identity         BIC:            -249.1466\n",
      "Dependent Variable: hmm_dprime       Log-Likelihood: -127.57  \n",
      "Date:               2018-09-06 13:47 LL-Null:        -127.57  \n",
      "No. Observations:   82               Deviance:       107.80   \n",
      "Df Model:           0                Pearson chi2:   108.     \n",
      "Df Residuals:       81               Scale:          1.3308   \n",
      "Method:             IRLS                                      \n",
      "---------------------------------------------------------------\n",
      "              Coef.   Std.Err.     z     P>|z|   [0.025  0.975]\n",
      "---------------------------------------------------------------\n",
      "Intercept     2.2238    0.1274  17.4561  0.0000  1.9741  2.4735\n",
      "==============================================================\n",
      "\n"
     ]
    }
   ],
   "source": [
    "# Null\n",
    "formula = 'hmm_dprime ~ 1'\n",
    "y, X = patsy.dmatrices(formula, data_sub, return_type='dataframe')\n",
    "X = sm.add_constant(X)\n",
    "family = sm.families.Gaussian()\n",
    "\n",
    "glm = sm.GLM(y, X, family=family)\n",
    "glm_results = glm.fit()\n",
    "print(glm_results.summary2())\n",
    "aic_null = glm_results.aic"
   ]
  },
  {
   "cell_type": "code",
   "execution_count": 32,
   "metadata": {},
   "outputs": [
    {
     "name": "stdout",
     "output_type": "stream",
     "text": [
      "               Results: Generalized linear model\n",
      "==============================================================\n",
      "Model:              GLM              AIC:            234.8354 \n",
      "Link Function:      identity         BIC:            -269.9115\n",
      "Dependent Variable: hmm_dprime       Log-Likelihood: -114.42  \n",
      "Date:               2018-09-06 13:47 LL-Null:        -127.57  \n",
      "No. Observations:   82               Deviance:       78.219   \n",
      "Df Model:           2                Pearson chi2:   78.2     \n",
      "Df Residuals:       79               Scale:          0.99012  \n",
      "Method:             IRLS                                      \n",
      "--------------------------------------------------------------\n",
      "                 Coef.  Std.Err.    z    P>|z|   [0.025 0.975]\n",
      "--------------------------------------------------------------\n",
      "Intercept        1.1362   0.2462  4.6148 0.0000  0.6536 1.6187\n",
      "hmm_dprime_prev  0.5477   0.1005  5.4509 0.0000  0.3508 0.7446\n",
      "d_day_prev      -0.0155   0.0283 -0.5493 0.5828 -0.0710 0.0399\n",
      "==============================================================\n",
      "\n"
     ]
    }
   ],
   "source": [
    "# Autoregress\n",
    "formula = 'hmm_dprime ~ hmm_dprime_prev + d_day_prev'\n",
    "y, X = patsy.dmatrices(formula, data_sub, return_type='dataframe')\n",
    "X = sm.add_constant(X)\n",
    "family = sm.families.Gaussian()\n",
    "\n",
    "glm = sm.GLM(y, X, family=family)\n",
    "glm_results = glm.fit()\n",
    "print(glm_results.summary2())\n",
    "aic_ar = glm_results.aic"
   ]
  },
  {
   "cell_type": "code",
   "execution_count": 33,
   "metadata": {},
   "outputs": [
    {
     "name": "stdout",
     "output_type": "stream",
     "text": [
      "                        Results: Generalized linear model\n",
      "================================================================================\n",
      "Model:                    GLM                    AIC:                  240.6503 \n",
      "Link Function:            identity               BIC:                  -256.8676\n",
      "Dependent Variable:       hmm_dprime             Log-Likelihood:       -114.33  \n",
      "Date:                     2018-09-06 13:47       LL-Null:              -127.57  \n",
      "No. Observations:         82                     Deviance:             78.043   \n",
      "Df Model:                 5                      Pearson chi2:         78.0     \n",
      "Df Residuals:             76                     Scale:                1.0269   \n",
      "Method:                   IRLS                                                  \n",
      "--------------------------------------------------------------------------------\n",
      "                              Coef.   Std.Err.    z    P>|z|    [0.025   0.975] \n",
      "--------------------------------------------------------------------------------\n",
      "Intercept                      1.1656   0.3147  3.7034 0.0002    0.5487   1.7824\n",
      "hmm_dprime_prev                0.5333   0.1118  4.7717 0.0000    0.3142   0.7523\n",
      "d_day_prev                    -0.0153   0.0289 -0.5319 0.5948   -0.0719   0.0412\n",
      "replay_combined_plus_prev     -1.0997  29.3767 -0.0374 0.9701  -58.6769  56.4775\n",
      "replay_combined_minus_prev    13.4684  44.8523  0.3003 0.7640  -74.4405 101.3774\n",
      "replay_combined_neutral_prev -13.3643  48.5145 -0.2755 0.7830 -108.4511  81.7224\n",
      "================================================================================\n",
      "\n"
     ]
    }
   ],
   "source": [
    "# Arthur 1\n",
    "formula = 'hmm_dprime ~ hmm_dprime_prev + d_day_prev + replay_combined_plus_prev + replay_combined_minus_prev + replay_combined_neutral_prev'\n",
    "# formula = 'd_hmm_dprime_prev ~ d_day_prev + replay_plus_prev + replay_minus_prev + replay_neutral_prev'\n",
    "y, X = patsy.dmatrices(formula, data_sub, return_type='dataframe')\n",
    "X = sm.add_constant(X)\n",
    "family = sm.families.Gaussian()\n",
    "\n",
    "glm = sm.GLM(y, X, family=family)\n",
    "glm_results = glm.fit()\n",
    "print(glm_results.summary2())\n",
    "aic_a1 = glm_results.aic"
   ]
  },
  {
   "cell_type": "code",
   "execution_count": 34,
   "metadata": {},
   "outputs": [
    {
     "name": "stdout",
     "output_type": "stream",
     "text": [
      "                     Results: Generalized linear model\n",
      "===========================================================================\n",
      "Model:                   GLM                  AIC:                236.0535 \n",
      "Link Function:           identity             BIC:                -261.1222\n",
      "Dependent Variable:      hmm_dprime           Log-Likelihood:     -112.03  \n",
      "Date:                    2018-09-06 13:47     LL-Null:            -127.57  \n",
      "No. Observations:        82                   Deviance:           73.788   \n",
      "Df Model:                5                    Pearson chi2:       73.8     \n",
      "Df Residuals:            76                   Scale:              0.97090  \n",
      "Method:                  IRLS                                              \n",
      "---------------------------------------------------------------------------\n",
      "                          Coef.   Std.Err.    z    P>|z|    [0.025   0.975]\n",
      "---------------------------------------------------------------------------\n",
      "Intercept                  1.3945   0.2865  4.8671 0.0000    0.8329  1.9560\n",
      "hmm_dprime_prev            0.5017   0.1070  4.6893 0.0000    0.2920  0.7114\n",
      "d_day_prev                -0.0099   0.0285 -0.3469 0.7287   -0.0657  0.0460\n",
      "combrep_freq_0_1_plus    -42.6194  26.0406 -1.6367 0.1017  -93.6580  8.4192\n",
      "combrep_freq_0_1_minus   -29.9553  46.2076 -0.6483 0.5168 -120.5205 60.6099\n",
      "combrep_freq_0_1_neutral   8.2232  37.8733  0.2171 0.8281  -66.0071 82.4535\n",
      "===========================================================================\n",
      "\n"
     ]
    }
   ],
   "source": [
    "# Arthur 2\n",
    "formula = 'hmm_dprime ~ hmm_dprime_prev + d_day_prev + combrep_freq_0_1_plus + combrep_freq_0_1_minus + combrep_freq_0_1_neutral'\n",
    "# formula = 'd_hmm_dprime_prev ~ d_day_prev + replay_freq_0_1_plus + replay_freq_0_1_minus + replay_freq_0_1_neutral'\n",
    "y, X = patsy.dmatrices(formula, data_sub, return_type='dataframe')\n",
    "X = sm.add_constant(X)\n",
    "family = sm.families.Gaussian()\n",
    "\n",
    "glm = sm.GLM(y, X, family=family)\n",
    "glm_results = glm.fit()\n",
    "print(glm_results.summary2())\n",
    "aic_a2 = glm_results.aic"
   ]
  },
  {
   "cell_type": "code",
   "execution_count": 35,
   "metadata": {},
   "outputs": [
    {
     "name": "stdout",
     "output_type": "stream",
     "text": [
      "                        Results: Generalized linear model\n",
      "================================================================================\n",
      "Model:                    GLM                    AIC:                  260.1389 \n",
      "Link Function:            identity               BIC:                  -237.8927\n",
      "Dependent Variable:       hmm_dprime             Log-Likelihood:       -125.07  \n",
      "Date:                     2018-09-06 13:47       LL-Null:              -127.57  \n",
      "No. Observations:         82                     Deviance:             101.42   \n",
      "Df Model:                 4                      Pearson chi2:         101.     \n",
      "Df Residuals:             77                     Scale:                1.3172   \n",
      "Method:                   IRLS                                                  \n",
      "--------------------------------------------------------------------------------\n",
      "                              Coef.   Std.Err.    z    P>|z|    [0.025   0.975] \n",
      "--------------------------------------------------------------------------------\n",
      "Intercept                      2.3949   0.2047 11.6976 0.0000    1.9936   2.7962\n",
      "d_day_prev                    -0.0121   0.0327 -0.3694 0.7118   -0.0761   0.0520\n",
      "replay_combined_plus_prev    -17.1200  33.0532 -0.5180 0.6045  -81.9032  47.6631\n",
      "replay_combined_minus_prev    27.7883  50.6847  0.5483 0.5835  -71.5518 127.1285\n",
      "replay_combined_neutral_prev -69.0955  53.3303 -1.2956 0.1951 -173.6209  35.4299\n",
      "================================================================================\n",
      "\n"
     ]
    }
   ],
   "source": [
    "# Arthur 1 - no prev behavior\n",
    "formula = 'hmm_dprime ~ d_day_prev + replay_combined_plus_prev + replay_combined_minus_prev + replay_combined_neutral_prev'\n",
    "y, X = patsy.dmatrices(formula, data_sub, return_type='dataframe')\n",
    "X = sm.add_constant(X)\n",
    "family = sm.families.Gaussian()\n",
    "\n",
    "glm = sm.GLM(y, X, family=family)\n",
    "glm_results = glm.fit()\n",
    "print(glm_results.summary2())\n",
    "aic_a1_no_ar = glm_results.aic"
   ]
  },
  {
   "cell_type": "code",
   "execution_count": 36,
   "metadata": {},
   "outputs": [
    {
     "name": "stdout",
     "output_type": "stream",
     "text": [
      "                      Results: Generalized linear model\n",
      "============================================================================\n",
      "Model:                    GLM                  AIC:                254.8918 \n",
      "Link Function:            identity             BIC:                -244.1795\n",
      "Dependent Variable:       hmm_dprime           Log-Likelihood:     -122.45  \n",
      "Date:                     2018-09-06 13:47     LL-Null:            -127.57  \n",
      "No. Observations:         82                   Deviance:           95.138   \n",
      "Df Model:                 4                    Pearson chi2:       95.1     \n",
      "Df Residuals:             77                   Scale:              1.2356   \n",
      "Method:                   IRLS                                              \n",
      "----------------------------------------------------------------------------\n",
      "                          Coef.   Std.Err.    z    P>|z|    [0.025   0.975] \n",
      "----------------------------------------------------------------------------\n",
      "Intercept                  2.4741   0.1924 12.8595 0.0000    2.0970   2.8511\n",
      "d_day_prev                -0.0105   0.0321 -0.3263 0.7442   -0.0735   0.0525\n",
      "combrep_freq_0_1_plus    -62.8072  28.9719 -2.1679 0.0302 -119.5911  -6.0234\n",
      "combrep_freq_0_1_minus     9.7350  51.2444  0.1900 0.8493  -90.7022 110.1721\n",
      "combrep_freq_0_1_neutral -27.0289  41.8744 -0.6455 0.5186 -109.1012  55.0434\n",
      "============================================================================\n",
      "\n"
     ]
    }
   ],
   "source": [
    "# Arthur 2 - no previous behavior\n",
    "formula = 'hmm_dprime ~ d_day_prev + combrep_freq_0_1_plus + combrep_freq_0_1_minus + combrep_freq_0_1_neutral'\n",
    "# formula = 'd_hmm_dprime_prev ~ d_day_prev + replay_freq_0_1_plus + replay_freq_0_1_minus + replay_freq_0_1_neutral'\n",
    "y, X = patsy.dmatrices(formula, data_sub, return_type='dataframe')\n",
    "X = sm.add_constant(X)\n",
    "family = sm.families.Gaussian()\n",
    "\n",
    "glm = sm.GLM(y, X, family=family)\n",
    "glm_results = glm.fit()\n",
    "print(glm_results.summary2())\n",
    "aic_a2_no_ar = glm_results.aic"
   ]
  },
  {
   "cell_type": "code",
   "execution_count": 37,
   "metadata": {},
   "outputs": [
    {
     "name": "stdout",
     "output_type": "stream",
     "text": [
      "AICs: [241.50962932544036, 257.13591062934535, 234.83535690215047, 240.65031974748615, 236.05350614894138, 260.138904603535, 254.8918026821865]\n",
      "Delta aics: [6.674272423289892, 22.30055372719488, 0.0, 5.814962845335685, 1.2181492467909152, 25.30354770138456, 20.05644578003603]\n",
      "Likelihoods: [0.03553858712154872, 1.4371307647237989e-05, 1.0, 0.054613104128822906, 0.5438539059701896, 3.2018754212408313e-06, 4.413652486737933e-05]\n",
      "Weights: [0.021748545467413723, 8.794807647336917e-06, 0.6119698960746405, 0.03342157565802927, 0.33282221831636416, 1.959451368780697e-06, 2.701022453618591e-05]\n",
      "Evidence ratios: [28.138428705108904, 69583.09045678173, 1.0, 18.310623722123033, 1.8387290943807497, 312316.9606681535, 22656.971816534784]\n",
      "evidence ratio of a2/a1: 9.95830423203\n"
     ]
    }
   ],
   "source": [
    "aics = [aic_full, aic_null, aic_ar, aic_a1, aic_a2, aic_a1_no_ar, aic_a2_no_ar]\n",
    "print(\"AICs: \" + str(aics))\n",
    "aic_min = min(aics)\n",
    "delta_aic = [aic - aic_min for aic in aics]\n",
    "print(\"Delta aics: \" + str(delta_aic))\n",
    "likelihoods = [np.exp(-1/2.* (x - aic_min)) for x in aics]\n",
    "print(\"Likelihoods: \" + str(likelihoods))\n",
    "weights = [x / np.sum(likelihoods) for x in likelihoods]\n",
    "print(\"Weights: \" + str(weights))\n",
    "weight_of_aic_min = max(weights)\n",
    "evidence_ratios = [weight_of_aic_min / x for x in weights]\n",
    "print(\"Evidence ratios: \" + str(evidence_ratios))\n",
    "print(\"evidence ratio of a2/a1: {}\".format(weights[4]/weights[3]))"
   ]
  },
  {
   "cell_type": "markdown",
   "metadata": {},
   "source": [
    "## Modeling reactivation"
   ]
  },
  {
   "cell_type": "code",
   "execution_count": 38,
   "metadata": {},
   "outputs": [
    {
     "name": "stdout",
     "output_type": "stream",
     "text": [
      "(118, 7)\n",
      "(67, 9)\n"
     ]
    }
   ],
   "source": [
    "data_sub = data[[\n",
    "    'd_hmm_dprime_prev', 'd_hmm_dprime_next', 'd_day_prev', 'd_day_next',\n",
    "    'combrep_freq_0_1_all', 'combrep_freq_0_1_all_prev', 'mouse']]\n",
    "data_sub.replace(0, np.nan, inplace=True)\n",
    "print(data_sub.shape)\n",
    "data_sub.dropna(inplace=True)\n",
    "data_sub['d_day_prev_cent'] = data_sub['d_day_prev'] - data_sub['d_day_prev'].mean()\n",
    "data_sub['combrep_freq_0_1_all_prev_cent'] = data_sub['combrep_freq_0_1_all_prev'] - data_sub['combrep_freq_0_1_all_prev'].mean()\n",
    "print(data_sub.shape)"
   ]
  },
  {
   "cell_type": "code",
   "execution_count": 39,
   "metadata": {},
   "outputs": [
    {
     "name": "stdout",
     "output_type": "stream",
     "text": [
      "                     Results: Generalized linear model\n",
      "==========================================================================\n",
      "Model:                  GLM                    AIC:              -515.2987\n",
      "Link Function:          log                    BIC:              -193.0808\n",
      "Dependent Variable:     combrep_freq_0_1_all   Log-Likelihood:   263.65   \n",
      "Date:                   2018-09-06 13:47       LL-Null:          259.20   \n",
      "No. Observations:       67                     Deviance:         63.405   \n",
      "Df Model:               5                      Pearson chi2:     61.8     \n",
      "Df Residuals:           61                     Scale:            1.0127   \n",
      "Method:                 IRLS                                              \n",
      "--------------------------------------------------------------------------\n",
      "                           Coef.  Std.Err.    z     P>|z|   [0.025  0.975]\n",
      "--------------------------------------------------------------------------\n",
      "Intercept                 -5.2549   0.2032 -25.8648 0.0000 -5.6531 -4.8567\n",
      "combrep_freq_0_1_all_prev 43.3437  13.8568   3.1280 0.0018 16.1848 70.5026\n",
      "d_day_prev                 0.0169   0.0296   0.5693 0.5691 -0.0412  0.0749\n",
      "d_hmm_dprime_next          0.0038   0.1197   0.0319 0.9745 -0.2308  0.2385\n",
      "d_day_next                -0.0030   0.0288  -0.1049 0.9164 -0.0594  0.0534\n",
      "d_hmm_dprime_prev         -0.2402   0.1432  -1.6775 0.0934 -0.5208  0.0404\n",
      "==========================================================================\n",
      "\n"
     ]
    }
   ],
   "source": [
    "# Full\n",
    "formula = 'combrep_freq_0_1_all ~ combrep_freq_0_1_all_prev + d_day_prev ' \\\n",
    "    + '+ d_hmm_dprime_next + d_day_next' \\\n",
    "    + '+ d_hmm_dprime_prev + d_day_prev'\n",
    "\n",
    "y, X = patsy.dmatrices(formula, data_sub, return_type='dataframe')\n",
    "X = sm.add_constant(X)\n",
    "family = sm.families.Gamma(link=sm.families.links.log)\n",
    "\n",
    "glm = sm.GLM(y, X, family=family)\n",
    "glm_results = glm.fit()\n",
    "print(glm_results.summary2())\n",
    "aic_full = glm_results.aic"
   ]
  },
  {
   "cell_type": "code",
   "execution_count": 40,
   "metadata": {},
   "outputs": [
    {
     "name": "stdout",
     "output_type": "stream",
     "text": [
      "                 Results: Generalized linear model\n",
      "==================================================================\n",
      "Model:              GLM                  AIC:            -509.0979\n",
      "Link Function:      log                  BIC:            -205.0864\n",
      "Dependent Variable: combrep_freq_0_1_all Log-Likelihood: 255.55   \n",
      "Date:               2018-09-06 13:47     LL-Null:        255.55   \n",
      "No. Observations:   67                   Deviance:       72.423   \n",
      "Df Model:           0                    Pearson chi2:   97.0     \n",
      "Df Residuals:       66                   Scale:          1.4694   \n",
      "Method:             IRLS                                          \n",
      "-------------------------------------------------------------------\n",
      "               Coef.   Std.Err.     z      P>|z|    [0.025   0.975]\n",
      "-------------------------------------------------------------------\n",
      "Intercept     -4.8691    0.1481  -32.8785  0.0000  -5.1594  -4.5789\n",
      "==================================================================\n",
      "\n"
     ]
    }
   ],
   "source": [
    "# Null\n",
    "formula = 'combrep_freq_0_1_all ~ 1'\n",
    "\n",
    "y, X = patsy.dmatrices(formula, data_sub, return_type='dataframe')\n",
    "X = sm.add_constant(X)\n",
    "family = sm.families.Gamma(link=sm.families.links.log)\n",
    "\n",
    "glm = sm.GLM(y, X, family=family)\n",
    "glm_results = glm.fit()\n",
    "print(glm_results.summary2())\n",
    "aic_null = glm_results.aic"
   ]
  },
  {
   "cell_type": "code",
   "execution_count": 41,
   "metadata": {},
   "outputs": [
    {
     "name": "stdout",
     "output_type": "stream",
     "text": [
      "                     Results: Generalized linear model\n",
      "==========================================================================\n",
      "Model:                  GLM                    AIC:              -514.6220\n",
      "Link Function:          log                    BIC:              -202.1170\n",
      "Dependent Variable:     combrep_freq_0_1_all   Log-Likelihood:   260.31   \n",
      "Date:                   2018-09-06 13:47       LL-Null:          258.06   \n",
      "No. Observations:       67                     Deviance:         66.983   \n",
      "Df Model:               2                      Pearson chi2:     77.4     \n",
      "Df Residuals:           64                     Scale:            1.2094   \n",
      "Method:                 IRLS                                              \n",
      "--------------------------------------------------------------------------\n",
      "                           Coef.  Std.Err.    z     P>|z|   [0.025  0.975]\n",
      "--------------------------------------------------------------------------\n",
      "Intercept                 -5.2459   0.1998 -26.2621 0.0000 -5.6375 -4.8544\n",
      "combrep_freq_0_1_all_prev 36.2488  14.9116   2.4309 0.0151  7.0226 65.4751\n",
      "d_day_prev                 0.0193   0.0323   0.5967 0.5507 -0.0440  0.0826\n",
      "==========================================================================\n",
      "\n"
     ]
    }
   ],
   "source": [
    "# Autoregress\n",
    "formula = 'combrep_freq_0_1_all ~ combrep_freq_0_1_all_prev + d_day_prev'\n",
    "\n",
    "y, X = patsy.dmatrices(formula, data_sub, return_type='dataframe')\n",
    "X = sm.add_constant(X)\n",
    "family = sm.families.Gamma(link=sm.families.links.log)\n",
    "\n",
    "glm = sm.GLM(y, X, family=family)\n",
    "glm_results = glm.fit()\n",
    "print(glm_results.summary2())\n",
    "aic_auto = glm_results.aic"
   ]
  },
  {
   "cell_type": "code",
   "execution_count": 42,
   "metadata": {},
   "outputs": [
    {
     "name": "stdout",
     "output_type": "stream",
     "text": [
      "                 Results: Generalized linear model\n",
      "==================================================================\n",
      "Model:              GLM                  AIC:            -505.8456\n",
      "Link Function:      log                  BIC:            -197.1667\n",
      "Dependent Variable: combrep_freq_0_1_all Log-Likelihood: 255.92   \n",
      "Date:               2018-09-06 13:47     LL-Null:        255.75   \n",
      "No. Observations:   67                   Deviance:       71.934   \n",
      "Df Model:           2                    Pearson chi2:   92.8     \n",
      "Df Residuals:       64                   Scale:          1.4505   \n",
      "Method:             IRLS                                          \n",
      "------------------------------------------------------------------\n",
      "                   Coef.  Std.Err.    z     P>|z|   [0.025  0.975]\n",
      "------------------------------------------------------------------\n",
      "Intercept         -4.8666   0.1823 -26.6964 0.0000 -5.2239 -4.5093\n",
      "d_day_next        -0.0044   0.0342  -0.1287 0.8976 -0.0714  0.0626\n",
      "d_hmm_dprime_next  0.0874   0.1334   0.6552 0.5123 -0.1741  0.3489\n",
      "==================================================================\n",
      "\n"
     ]
    }
   ],
   "source": [
    "# Replay changes behavior - no auto\n",
    "formula = 'combrep_freq_0_1_all ~ d_day_next + d_hmm_dprime_next'\n",
    "\n",
    "y, X = patsy.dmatrices(formula, data_sub, return_type='dataframe')\n",
    "X = sm.add_constant(X)\n",
    "family = sm.families.Gamma(link=sm.families.links.log)\n",
    "\n",
    "glm = sm.GLM(y, X, family=family)\n",
    "glm_results = glm.fit()\n",
    "print(glm_results.summary2())\n",
    "aic_fwd_no_auto = glm_results.aic"
   ]
  },
  {
   "cell_type": "code",
   "execution_count": 43,
   "metadata": {},
   "outputs": [
    {
     "name": "stdout",
     "output_type": "stream",
     "text": [
      "                 Results: Generalized linear model\n",
      "==================================================================\n",
      "Model:              GLM                  AIC:            -508.2764\n",
      "Link Function:      log                  BIC:            -198.8508\n",
      "Dependent Variable: combrep_freq_0_1_all Log-Likelihood: 257.14   \n",
      "Date:               2018-09-06 13:47     LL-Null:        256.36   \n",
      "No. Observations:   67                   Deviance:       70.249   \n",
      "Df Model:           2                    Pearson chi2:   89.2     \n",
      "Df Residuals:       64                   Scale:          1.3932   \n",
      "Method:             IRLS                                          \n",
      "------------------------------------------------------------------\n",
      "                   Coef.  Std.Err.    z     P>|z|   [0.025  0.975]\n",
      "------------------------------------------------------------------\n",
      "Intercept         -4.8923   0.1777 -27.5383 0.0000 -5.2405 -4.5441\n",
      "d_day_prev         0.0178   0.0347   0.5149 0.6066 -0.0501  0.0858\n",
      "d_hmm_dprime_prev -0.1786   0.1550  -1.1523 0.2492 -0.4824  0.1252\n",
      "==================================================================\n",
      "\n"
     ]
    }
   ],
   "source": [
    "# Replay reflects behavior change - no auto\n",
    "formula = 'combrep_freq_0_1_all ~ d_day_prev + d_hmm_dprime_prev'\n",
    "\n",
    "y, X = patsy.dmatrices(formula, data_sub, return_type='dataframe')\n",
    "X = sm.add_constant(X)\n",
    "family = sm.families.Gamma(link=sm.families.links.log)\n",
    "\n",
    "glm = sm.GLM(y, X, family=family)\n",
    "glm_results = glm.fit()\n",
    "print(glm_results.summary2())\n",
    "aic_bkw_no_auto = glm_results.aic"
   ]
  },
  {
   "cell_type": "code",
   "execution_count": 44,
   "metadata": {},
   "outputs": [
    {
     "name": "stdout",
     "output_type": "stream",
     "text": [
      "                     Results: Generalized linear model\n",
      "==========================================================================\n",
      "Model:                  GLM                    AIC:              -512.0205\n",
      "Link Function:          log                    BIC:              -194.4154\n",
      "Dependent Variable:     combrep_freq_0_1_all   Log-Likelihood:   261.01   \n",
      "Date:                   2018-09-06 13:47       LL-Null:          258.38   \n",
      "No. Observations:       67                     Deviance:         66.276   \n",
      "Df Model:               4                      Pearson chi2:     72.4     \n",
      "Df Residuals:           62                     Scale:            1.1679   \n",
      "Method:                 IRLS                                              \n",
      "--------------------------------------------------------------------------\n",
      "                           Coef.  Std.Err.    z     P>|z|   [0.025  0.975]\n",
      "--------------------------------------------------------------------------\n",
      "Intercept                 -5.2346   0.2168 -24.1415 0.0000 -5.6596 -4.8096\n",
      "combrep_freq_0_1_all_prev 36.7452  14.7882   2.4848 0.0130  7.7609 65.7296\n",
      "d_day_prev                 0.0164   0.0318   0.5157 0.6061 -0.0459  0.0787\n",
      "d_day_next                -0.0069   0.0309  -0.2226 0.8238 -0.0674  0.0536\n",
      "d_hmm_dprime_next          0.1036   0.1201   0.8624 0.3885 -0.1319  0.3390\n",
      "==========================================================================\n",
      "\n"
     ]
    }
   ],
   "source": [
    "# Replay changes behavior\n",
    "formula = 'combrep_freq_0_1_all ~ combrep_freq_0_1_all_prev + d_day_prev + d_day_next + d_hmm_dprime_next'\n",
    "\n",
    "y, X = patsy.dmatrices(formula, data_sub, return_type='dataframe')\n",
    "X = sm.add_constant(X)\n",
    "family = sm.families.Gamma(link=sm.families.links.log)\n",
    "\n",
    "glm = sm.GLM(y, X, family=family)\n",
    "glm_results = glm.fit()\n",
    "print(glm_results.summary2())\n",
    "aic_fwd = glm_results.aic"
   ]
  },
  {
   "cell_type": "code",
   "execution_count": 45,
   "metadata": {},
   "outputs": [
    {
     "name": "stdout",
     "output_type": "stream",
     "text": [
      "                     Results: Generalized linear model\n",
      "==========================================================================\n",
      "Model:                  GLM                    AIC:              -519.7002\n",
      "Link Function:          log                    BIC:              -201.4788\n",
      "Dependent Variable:     combrep_freq_0_1_all   Log-Likelihood:   263.85   \n",
      "Date:                   2018-09-06 13:47       LL-Null:          259.27   \n",
      "No. Observations:       67                     Deviance:         63.417   \n",
      "Df Model:               3                      Pearson chi2:     61.9     \n",
      "Df Residuals:           63                     Scale:            0.98271  \n",
      "Method:                 IRLS                                              \n",
      "--------------------------------------------------------------------------\n",
      "                           Coef.  Std.Err.    z     P>|z|   [0.025  0.975]\n",
      "--------------------------------------------------------------------------\n",
      "Intercept                 -5.2642   0.1809 -29.0929 0.0000 -5.6189 -4.9096\n",
      "combrep_freq_0_1_all_prev 43.3855  13.5764   3.1956 0.0014 16.7761 69.9948\n",
      "d_day_prev                 0.0171   0.0291   0.5861 0.5578 -0.0400  0.0741\n",
      "d_hmm_dprime_prev         -0.2426   0.1315  -1.8455 0.0650 -0.5003  0.0150\n",
      "==========================================================================\n",
      "\n"
     ]
    }
   ],
   "source": [
    "# Replay reflects behavior change\n",
    "formula = 'combrep_freq_0_1_all ~ combrep_freq_0_1_all_prev + d_day_prev + d_day_prev + d_hmm_dprime_prev'\n",
    "\n",
    "y, X = patsy.dmatrices(formula, data_sub, return_type='dataframe')\n",
    "X = sm.add_constant(X)\n",
    "family = sm.families.Gamma(link=sm.families.links.log)\n",
    "\n",
    "glm = sm.GLM(y, X, family=family)\n",
    "glm_results = glm.fit()\n",
    "print(glm_results.summary2())\n",
    "aic_bkw = glm_results.aic"
   ]
  },
  {
   "cell_type": "code",
   "execution_count": 46,
   "metadata": {},
   "outputs": [
    {
     "name": "stdout",
     "output_type": "stream",
     "text": [
      "AICs: [-515.298701457322, -509.09785967965394, -514.622032039474, -505.84563985931317, -508.2764080723513, -512.020497509024, -519.700243489692]\n",
      "Delta aics: [4.401542032370003, 10.60238381003802, 5.078211450217964, 13.85460363037879, 11.423835417340683, 7.679745980667917, 0.0]\n",
      "Likelihoods: [0.11071776025977739, 0.004985647945294377, 0.07893695957697296, 0.0009806432587088666, 0.003306325891499703, 0.02149633141358766, 1.0]\n",
      "Weights: [0.0907207579887761, 0.004085178020229574, 0.06467996452737099, 0.0008035269096657458, 0.002709162381274602, 0.017613827043131452, 0.8193875831295515]\n",
      "Evidence ratios: [9.031974614133246, 200.57573478364708, 12.668336928088552, 1019.7388205335942, 302.4505244842679, 46.5195656300641, 1.0]\n",
      "evidence ratio of bkw/fwd: 46.5195656301\n"
     ]
    }
   ],
   "source": [
    "aics = [aic_full, aic_null, aic_auto, aic_fwd_no_auto, aic_bkw_no_auto, aic_fwd, aic_bkw]\n",
    "print(\"AICs: \" + str(aics))\n",
    "aic_min = min(aics)\n",
    "delta_aic = [aic - aic_min for aic in aics]\n",
    "print(\"Delta aics: \" + str(delta_aic))\n",
    "likelihoods = [np.exp(-1/2.* (x - aic_min)) for x in aics]\n",
    "print(\"Likelihoods: \" + str(likelihoods))\n",
    "weights = [x / np.sum(likelihoods) for x in likelihoods]\n",
    "print(\"Weights: \" + str(weights))\n",
    "weight_of_aic_min = max(weights)\n",
    "evidence_ratios = [weight_of_aic_min / x for x in weights]\n",
    "print(\"Evidence ratios: \" + str(evidence_ratios))\n",
    "print(\"evidence ratio of bkw/fwd: {}\".format(weights[6]/weights[5]))"
   ]
  },
  {
   "cell_type": "markdown",
   "metadata": {},
   "source": [
    "## Model d behavior"
   ]
  },
  {
   "cell_type": "code",
   "execution_count": 47,
   "metadata": {},
   "outputs": [
    {
     "name": "stdout",
     "output_type": "stream",
     "text": [
      "(118, 9)\n",
      "(61, 10)\n"
     ]
    }
   ],
   "source": [
    "data_sub = data[[\n",
    "    'hmm_dprime_prev', 'hmm_dprime', 'd_day_prev',\n",
    "#     'replay_freq_0_1_plus', 'replay_freq_0_1_minus', 'replay_freq_0_1_neutral',\n",
    "#     'replay_plus_prev', 'replay_minus_prev', 'replay_neutral_prev',\n",
    "    'combrep_freq_0_1_plus', 'combrep_freq_0_1_minus', 'combrep_freq_0_1_neutral',\n",
    "    'replay_combined_plus_prev', 'replay_combined_minus_prev', 'replay_combined_neutral_prev',\n",
    "#     'replay_freq_hungry_0_1_plus', 'replay_freq_hungry_0_1_minus', 'replay_freq_hungry_0_1_neutral',\n",
    "#     'replay_hungry_plus_prev', 'replay_hungry_minus_prev', 'replay_hungry_neutral_prev',\n",
    "#     'replay_freq_iti_0_1_plus', 'replay_freq_iti_0_1_minus', 'replay_freq_iti_0_1_neutral',\n",
    "#     'replay_iti_plus_prev', 'replay_iti_minus_prev', 'replay_iti_neutral_prev',\n",
    "]]\n",
    "print(data_sub.shape)\n",
    "data_sub.replace(0, np.nan, inplace=True)\n",
    "data_sub.dropna(inplace=True)\n",
    "data_sub['d_hmm_dprime'] = data_sub['hmm_dprime'] - data_sub['hmm_dprime_prev']\n",
    "print(data_sub.shape)"
   ]
  },
  {
   "cell_type": "code",
   "execution_count": 48,
   "metadata": {},
   "outputs": [
    {
     "name": "stdout",
     "output_type": "stream",
     "text": [
      "                        Results: Generalized linear model\n",
      "=================================================================================\n",
      "Model:                     GLM                    AIC:                  192.4416 \n",
      "Link Function:             identity               BIC:                  -153.4526\n",
      "Dependent Variable:        d_hmm_dprime           Log-Likelihood:       -88.221  \n",
      "Date:                      2018-09-06 13:47       LL-Null:              -93.088  \n",
      "No. Observations:          61                     Deviance:             64.424   \n",
      "Df Model:                  7                      Pearson chi2:         64.4     \n",
      "Df Residuals:              53                     Scale:                1.2155   \n",
      "Method:                    IRLS                                                  \n",
      "---------------------------------------------------------------------------------\n",
      "                               Coef.   Std.Err.    z    P>|z|    [0.025   0.975] \n",
      "---------------------------------------------------------------------------------\n",
      "Intercept                       0.5165   0.2875  1.7965 0.0724   -0.0470   1.0799\n",
      "d_day_prev                     -0.0092   0.0327 -0.2801 0.7794   -0.0733   0.0550\n",
      "combrep_freq_0_1_plus         -21.3706  31.7306 -0.6735 0.5006  -83.5615  40.8203\n",
      "combrep_freq_0_1_minus       -155.7546  64.5724 -2.4121 0.0159 -282.3141 -29.1951\n",
      "combrep_freq_0_1_neutral       37.8132  44.3616  0.8524 0.3940  -49.1340 124.7604\n",
      "replay_combined_plus_prev      10.3262  33.8468  0.3051 0.7603  -56.0123  76.6646\n",
      "replay_combined_minus_prev     26.6981  60.4927  0.4413 0.6590  -91.8655 145.2616\n",
      "replay_combined_neutral_prev   12.9219  55.8589  0.2313 0.8171  -96.5595 122.4032\n",
      "=================================================================================\n",
      "\n"
     ]
    }
   ],
   "source": [
    "# Full\n",
    "formula = 'd_hmm_dprime ~ d_day_prev ' \\\n",
    "    + '+ combrep_freq_0_1_plus + combrep_freq_0_1_minus + combrep_freq_0_1_neutral ' \\\n",
    "    + '+ replay_combined_plus_prev + replay_combined_minus_prev + replay_combined_neutral_prev'\n",
    "\n",
    "y, X = patsy.dmatrices(formula, data_sub, return_type='dataframe')\n",
    "X = sm.add_constant(X)\n",
    "family = sm.families.Gaussian()\n",
    "\n",
    "glm = sm.GLM(y, X, family=family)\n",
    "glm_results = glm.fit()\n",
    "print(glm_results.summary2())\n",
    "aic_full = glm_results.aic"
   ]
  },
  {
   "cell_type": "code",
   "execution_count": 49,
   "metadata": {},
   "outputs": [
    {
     "name": "stdout",
     "output_type": "stream",
     "text": [
      "               Results: Generalized linear model\n",
      "==============================================================\n",
      "Model:              GLM              AIC:            188.1753 \n",
      "Link Function:      identity         BIC:            -171.0831\n",
      "Dependent Variable: d_hmm_dprime     Log-Likelihood: -93.088  \n",
      "Date:               2018-09-06 13:47 LL-Null:        -93.088  \n",
      "No. Observations:   61               Deviance:       75.569   \n",
      "Df Model:           0                Pearson chi2:   75.6     \n",
      "Df Residuals:       60               Scale:          1.2595   \n",
      "Method:             IRLS                                      \n",
      "---------------------------------------------------------------\n",
      "              Coef.   Std.Err.    z     P>|z|    [0.025  0.975]\n",
      "---------------------------------------------------------------\n",
      "Intercept     0.2404    0.1437  1.6733  0.0943  -0.0412  0.5221\n",
      "==============================================================\n",
      "\n"
     ]
    }
   ],
   "source": [
    "# Null\n",
    "formula = 'd_hmm_dprime ~ 1'\n",
    "y, X = patsy.dmatrices(formula, data_sub, return_type='dataframe')\n",
    "X = sm.add_constant(X)\n",
    "family = sm.families.Gaussian()\n",
    "\n",
    "glm = sm.GLM(y, X, family=family)\n",
    "glm_results = glm.fit()\n",
    "print(glm_results.summary2())\n",
    "aic_null = glm_results.aic"
   ]
  },
  {
   "cell_type": "code",
   "execution_count": 50,
   "metadata": {},
   "outputs": [
    {
     "name": "stdout",
     "output_type": "stream",
     "text": [
      "                       Results: Generalized linear model\n",
      "===============================================================================\n",
      "Model:                     GLM                   AIC:                 194.2666 \n",
      "Link Function:             identity              BIC:                 -156.9675\n",
      "Dependent Variable:        d_hmm_dprime          Log-Likelihood:      -92.133  \n",
      "Date:                      2018-09-06 13:47      LL-Null:             -93.088  \n",
      "No. Observations:          61                    Deviance:            73.241   \n",
      "Df Model:                  4                     Pearson chi2:        73.2     \n",
      "Df Residuals:              56                    Scale:               1.3079   \n",
      "Method:                    IRLS                                                \n",
      "-------------------------------------------------------------------------------\n",
      "                              Coef.  Std.Err.    z    P>|z|    [0.025   0.975] \n",
      "-------------------------------------------------------------------------------\n",
      "Intercept                     0.1896   0.2563  0.7397 0.4595   -0.3127   0.6919\n",
      "d_day_prev                   -0.0250   0.0332 -0.7515 0.4524   -0.0900   0.0401\n",
      "replay_combined_plus_prev     3.1679  33.2590  0.0953 0.9241  -62.0186  68.3545\n",
      "replay_combined_minus_prev    0.2002  61.6605  0.0032 0.9974 -120.6521 121.0524\n",
      "replay_combined_neutral_prev 39.8830  55.0978  0.7239 0.4692  -68.1068 147.8728\n",
      "===============================================================================\n",
      "\n"
     ]
    }
   ],
   "source": [
    "# Arthur 1\n",
    "formula = 'd_hmm_dprime ~d_day_prev + replay_combined_plus_prev + replay_combined_minus_prev + replay_combined_neutral_prev'\n",
    "# formula = 'd_hmm_dprime_prev ~ d_day_prev + replay_plus_prev + replay_minus_prev + replay_neutral_prev'\n",
    "y, X = patsy.dmatrices(formula, data_sub, return_type='dataframe')\n",
    "X = sm.add_constant(X)\n",
    "family = sm.families.Gaussian()\n",
    "\n",
    "glm = sm.GLM(y, X, family=family)\n",
    "glm_results = glm.fit()\n",
    "print(glm_results.summary2())\n",
    "aic_a1 = glm_results.aic"
   ]
  },
  {
   "cell_type": "code",
   "execution_count": 51,
   "metadata": {},
   "outputs": [
    {
     "name": "stdout",
     "output_type": "stream",
     "text": [
      "                      Results: Generalized linear model\n",
      "=============================================================================\n",
      "Model:                   GLM                   AIC:                 187.4005 \n",
      "Link Function:           identity              BIC:                 -164.7645\n",
      "Dependent Variable:      d_hmm_dprime          Log-Likelihood:      -88.700  \n",
      "Date:                    2018-09-06 13:47      LL-Null:             -93.088  \n",
      "No. Observations:        61                    Deviance:            65.444   \n",
      "Df Model:                4                     Pearson chi2:        65.4     \n",
      "Df Residuals:            56                    Scale:               1.1687   \n",
      "Method:                  IRLS                                                \n",
      "-----------------------------------------------------------------------------\n",
      "                           Coef.   Std.Err.    z    P>|z|    [0.025   0.975] \n",
      "-----------------------------------------------------------------------------\n",
      "Intercept                   0.6625   0.2303  2.8761 0.0040    0.2110   1.1139\n",
      "d_day_prev                 -0.0111   0.0320 -0.3478 0.7280   -0.0737   0.0515\n",
      "combrep_freq_0_1_plus     -14.9114  29.2219 -0.5103 0.6099  -72.1853  42.3626\n",
      "combrep_freq_0_1_minus   -160.8915  60.8793 -2.6428 0.0082 -280.2128 -41.5703\n",
      "combrep_freq_0_1_neutral   38.1092  41.6012  0.9161 0.3596  -43.4276 119.6459\n",
      "=============================================================================\n",
      "\n"
     ]
    }
   ],
   "source": [
    "# Arthur 2\n",
    "formula = 'd_hmm_dprime ~ d_day_prev + combrep_freq_0_1_plus + combrep_freq_0_1_minus + combrep_freq_0_1_neutral'\n",
    "# formula = 'd_hmm_dprime_prev ~ d_day_prev + replay_freq_0_1_plus + replay_freq_0_1_minus + replay_freq_0_1_neutral'\n",
    "y, X = patsy.dmatrices(formula, data_sub, return_type='dataframe')\n",
    "X = sm.add_constant(X)\n",
    "family = sm.families.Gaussian()\n",
    "\n",
    "glm = sm.GLM(y, X, family=family)\n",
    "glm_results = glm.fit()\n",
    "print(glm_results.summary2())\n",
    "aic_a2 = glm_results.aic"
   ]
  },
  {
   "cell_type": "code",
   "execution_count": 52,
   "metadata": {},
   "outputs": [
    {
     "name": "stdout",
     "output_type": "stream",
     "text": [
      "AICs: [192.4416175243739, 188.17528070764038, 194.26660953136783, 187.4004699509091]\n",
      "Delta aics: [5.041147573464798, 0.7748107567312843, 6.866139580458736, 0.0]\n",
      "Likelihoods: [0.08041345333705964, 0.6788158618789839, 0.03228767210351472, 1.0]\n",
      "Weights: [0.044885677281449106, 0.3789056239397531, 0.018022531927996435, 0.5581861668508014]\n",
      "Evidence ratios: [12.435730073777794, 1.473153554827031, 30.9715731996406, 1.0]\n",
      "evidence ratio of a2/a1: 30.9715731996\n"
     ]
    }
   ],
   "source": [
    "aics = [aic_full, aic_null, aic_a1, aic_a2]\n",
    "print(\"AICs: \" + str(aics))\n",
    "aic_min = min(aics)\n",
    "delta_aic = [aic - aic_min for aic in aics]\n",
    "print(\"Delta aics: \" + str(delta_aic))\n",
    "likelihoods = [np.exp(-1/2.* (x - aic_min)) for x in aics]\n",
    "print(\"Likelihoods: \" + str(likelihoods))\n",
    "weights = [x / np.sum(likelihoods) for x in likelihoods]\n",
    "print(\"Weights: \" + str(weights))\n",
    "weight_of_aic_min = max(weights)\n",
    "evidence_ratios = [weight_of_aic_min / x for x in weights]\n",
    "print(\"Evidence ratios: \" + str(evidence_ratios))\n",
    "print(\"evidence ratio of a2/a1: {}\".format(weights[3]/weights[2]))"
   ]
  },
  {
   "cell_type": "code",
   "execution_count": null,
   "metadata": {},
   "outputs": [],
   "source": []
  }
 ],
 "metadata": {
  "kernelspec": {
   "display_name": "Python 2",
   "language": "python",
   "name": "python2"
  },
  "language_info": {
   "codemirror_mode": {
    "name": "ipython",
    "version": 2
   },
   "file_extension": ".py",
   "mimetype": "text/x-python",
   "name": "python",
   "nbconvert_exporter": "python",
   "pygments_lexer": "ipython2",
   "version": "2.7.13"
  }
 },
 "nbformat": 4,
 "nbformat_minor": 2
}
