{
 "cells": [
  {
   "cell_type": "code",
   "execution_count": 1,
   "metadata": {},
   "outputs": [
    {
     "name": "stdout",
     "output_type": "stream",
     "text": [
      "\n",
      "Jupyter connect hash:\n",
      "electrical\n",
      "\n",
      "To connect to current notebook:\n",
      "    $> jupyter console --existing kernel-eca70eb9-c996-42fd-87bd-fa225239d043.json\n",
      "    \n",
      "\n",
      "Last run: 2018-10-29-15h56m51s\n"
     ]
    },
    {
     "name": "stderr",
     "output_type": "stream",
     "text": [
      "/usr/local/lib/python2.7/dist-packages/requests/__init__.py:91: RequestsDependencyWarning: urllib3 (1.23) or chardet (2.3.0) doesn't match a supported version!\n",
      "  RequestsDependencyWarning)\n"
     ]
    }
   ],
   "source": [
    "# %matplotlib notebook\n",
    "%matplotlib inline\n",
    "\n",
    "# %connect_info\n",
    "import flow.misc\n",
    "text = \"\"\"\n",
    "Jupyter connect hash:\n",
    "{word}\n",
    "\n",
    "To connect to current notebook:\n",
    "    $> jupyter console --existing {filename}\n",
    "    \n",
    "\"\"\"\n",
    "print(text.format(word=flow.misc.notebook_word(), filename=flow.misc.notebook_file(flow.misc.notebook_word())))\n",
    "print(\"Last run: {}\".format(flow.misc.timestamp()))"
   ]
  },
  {
   "cell_type": "code",
   "execution_count": 2,
   "metadata": {},
   "outputs": [],
   "source": [
    "import matplotlib.pyplot as plt\n",
    "import numpy as np\n",
    "import pandas as pd\n",
    "import seaborn as sns\n",
    "sns.set(context='notebook', style='darkgrid')\n",
    "# sns.set(context='talk', style='darkgrid')\n",
    "\n",
    "import flow\n",
    "import jzap"
   ]
  },
  {
   "cell_type": "markdown",
   "metadata": {},
   "source": [
    "## Testing GLM results"
   ]
  },
  {
   "cell_type": "code",
   "execution_count": 9,
   "metadata": {},
   "outputs": [
    {
     "data": {
      "text/plain": [
       "Date(mouse=OA205, date=180926, tags=(u'jeff',), photometry=())"
      ]
     },
     "execution_count": 9,
     "metadata": {},
     "output_type": "execute_result"
    }
   ],
   "source": [
    "date = flow.metadata.Date('OA205', 180926)\n",
    "glm = date.glm()\n",
    "date"
   ]
  },
  {
   "cell_type": "code",
   "execution_count": 10,
   "metadata": {},
   "outputs": [
    {
     "data": {
      "text/plain": [
       "['plus_correct',\n",
       " 'plus_correct',\n",
       " 'plus_correct',\n",
       " 'plus_correct',\n",
       " 'plus_correct',\n",
       " 'plus_correct',\n",
       " 'plus_correct',\n",
       " 'plus_correct',\n",
       " 'plus_miss',\n",
       " 'plus_miss',\n",
       " 'plus_miss',\n",
       " 'plus_miss',\n",
       " 'plus_miss',\n",
       " 'plus_miss',\n",
       " 'plus_miss',\n",
       " 'plus_miss',\n",
       " 'minus_correct',\n",
       " 'minus_correct',\n",
       " 'minus_correct',\n",
       " 'minus_correct',\n",
       " 'minus_correct',\n",
       " 'minus_correct',\n",
       " 'minus_correct',\n",
       " 'minus_correct',\n",
       " 'minus_miss',\n",
       " 'minus_miss',\n",
       " 'minus_miss',\n",
       " 'minus_miss',\n",
       " 'minus_miss',\n",
       " 'minus_miss',\n",
       " 'minus_miss',\n",
       " 'minus_miss',\n",
       " 'neutral_correct',\n",
       " 'neutral_correct',\n",
       " 'neutral_correct',\n",
       " 'neutral_correct',\n",
       " 'neutral_correct',\n",
       " 'neutral_correct',\n",
       " 'neutral_correct',\n",
       " 'neutral_correct',\n",
       " 'neutral_miss',\n",
       " 'neutral_miss',\n",
       " 'neutral_miss',\n",
       " 'neutral_miss',\n",
       " 'neutral_miss',\n",
       " 'neutral_miss',\n",
       " 'neutral_miss',\n",
       " 'neutral_miss',\n",
       " 'offset',\n",
       " 'offset',\n",
       " 'offset',\n",
       " 'offset',\n",
       " 'offset',\n",
       " 'offset',\n",
       " 'offset',\n",
       " 'offset',\n",
       " 'lick_onsets',\n",
       " 'lick_onsets',\n",
       " 'lick_onsets',\n",
       " 'lick_onsets',\n",
       " 'lick_onsets',\n",
       " 'lick_onsets',\n",
       " 'lick_onsets',\n",
       " 'lick_onsets',\n",
       " 'lick_onsets',\n",
       " 'lick_onsets',\n",
       " 'lick_onsets',\n",
       " 'lick_onsets',\n",
       " 'lick_others',\n",
       " 'ensure',\n",
       " 'ensure',\n",
       " 'ensure',\n",
       " 'ensure',\n",
       " 'ensure',\n",
       " 'ensure',\n",
       " 'ensure',\n",
       " 'ensure',\n",
       " 'ensure',\n",
       " 'ensure',\n",
       " 'ensure',\n",
       " 'ensure',\n",
       " 'quinine',\n",
       " 'quinine',\n",
       " 'quinine',\n",
       " 'quinine',\n",
       " 'quinine',\n",
       " 'quinine',\n",
       " 'quinine',\n",
       " 'quinine',\n",
       " 'quinine',\n",
       " 'quinine',\n",
       " 'quinine',\n",
       " 'quinine',\n",
       " 'brainmotion',\n",
       " 'running']"
      ]
     },
     "execution_count": 10,
     "metadata": {},
     "output_type": "execute_result"
    }
   ],
   "source": [
    "glm.groups()"
   ]
  },
  {
   "cell_type": "code",
   "execution_count": 5,
   "metadata": {},
   "outputs": [
    {
     "ename": "IndexError",
     "evalue": "too many indices for array",
     "output_type": "error",
     "traceback": [
      "\u001b[0;31m\u001b[0m",
      "\u001b[0;31mIndexError\u001b[0mTraceback (most recent call last)",
      "\u001b[0;32m<ipython-input-5-5aef001efcd4>\u001b[0m in \u001b[0;36m<module>\u001b[0;34m()\u001b[0m\n\u001b[0;32m----> 1\u001b[0;31m \u001b[0mglm\u001b[0m\u001b[0;34m.\u001b[0m\u001b[0mlabels\u001b[0m\u001b[0;34m(\u001b[0m\u001b[0;34m)\u001b[0m\u001b[0;34m\u001b[0m\u001b[0m\n\u001b[0m",
      "\u001b[0;32m/code/flow/flow/glm.pyc\u001b[0m in \u001b[0;36mlabels\u001b[0;34m(self, minpred, minfrac)\u001b[0m\n\u001b[1;32m    218\u001b[0m \u001b[0;34m\u001b[0m\u001b[0m\n\u001b[1;32m    219\u001b[0m         \u001b[0;31m# Get cell groups and the sufficiency of each deviance explained\u001b[0m\u001b[0;34m\u001b[0m\u001b[0;34m\u001b[0m\u001b[0m\n\u001b[0;32m--> 220\u001b[0;31m         \u001b[0mgroupdev\u001b[0m \u001b[0;34m=\u001b[0m \u001b[0;34m(\u001b[0m\u001b[0mself\u001b[0m\u001b[0;34m.\u001b[0m\u001b[0mdevexp\u001b[0m\u001b[0;34m[\u001b[0m\u001b[0;34m:\u001b[0m\u001b[0;34m,\u001b[0m \u001b[0;36m1\u001b[0m\u001b[0;34m:\u001b[0m\u001b[0;34m]\u001b[0m\u001b[0;34m.\u001b[0m\u001b[0mT\u001b[0m\u001b[0;34m*\u001b[0m\u001b[0;34m(\u001b[0m\u001b[0mself\u001b[0m\u001b[0;34m.\u001b[0m\u001b[0mdevexp\u001b[0m\u001b[0;34m[\u001b[0m\u001b[0;36m1\u001b[0m\u001b[0;34m]\u001b[0m\u001b[0;34m[\u001b[0m\u001b[0;34m:\u001b[0m\u001b[0;34m,\u001b[0m \u001b[0;36m0\u001b[0m\u001b[0;34m]\u001b[0m \u001b[0;34m>=\u001b[0m \u001b[0mminpred\u001b[0m\u001b[0;34m)\u001b[0m\u001b[0;34m)\u001b[0m\u001b[0;34m.\u001b[0m\u001b[0mT\u001b[0m\u001b[0;34m\u001b[0m\u001b[0m\n\u001b[0m\u001b[1;32m    221\u001b[0m         \u001b[0mgroupdev\u001b[0m \u001b[0;34m=\u001b[0m \u001b[0mgroupdev\u001b[0m \u001b[0;34m>=\u001b[0m \u001b[0mminfrac\u001b[0m\u001b[0;34m\u001b[0m\u001b[0m\n\u001b[1;32m    222\u001b[0m         \u001b[0mncells\u001b[0m \u001b[0;34m=\u001b[0m \u001b[0mnp\u001b[0m\u001b[0;34m.\u001b[0m\u001b[0mshape\u001b[0m\u001b[0;34m(\u001b[0m\u001b[0mself\u001b[0m\u001b[0;34m.\u001b[0m\u001b[0mcoeffs\u001b[0m\u001b[0;34m)\u001b[0m\u001b[0;34m[\u001b[0m\u001b[0;36m0\u001b[0m\u001b[0;34m]\u001b[0m\u001b[0;34m\u001b[0m\u001b[0m\n",
      "\u001b[0;31mIndexError\u001b[0m: too many indices for array"
     ]
    }
   ],
   "source": [
    "glm.labels()"
   ]
  },
  {
   "cell_type": "code",
   "execution_count": null,
   "metadata": {},
   "outputs": [],
   "source": [
    "date.runs()[1].trace2p().cstraces('reward')."
   ]
  },
  {
   "cell_type": "code",
   "execution_count": 11,
   "metadata": {},
   "outputs": [
    {
     "data": {
      "text/plain": [
       "1254"
      ]
     },
     "execution_count": 11,
     "metadata": {},
     "output_type": "execute_result"
    }
   ],
   "source": [
    "(1500-873)*2"
   ]
  },
  {
   "cell_type": "code",
   "execution_count": 12,
   "metadata": {},
   "outputs": [
    {
     "data": {
      "text/plain": [
       "1858"
      ]
     },
     "execution_count": 12,
     "metadata": {},
     "output_type": "execute_result"
    }
   ],
   "source": [
    "(1500-571)*2"
   ]
  },
  {
   "cell_type": "code",
   "execution_count": null,
   "metadata": {},
   "outputs": [],
   "source": []
  }
 ],
 "metadata": {
  "kernelspec": {
   "display_name": "Python 2",
   "language": "python",
   "name": "python2"
  },
  "language_info": {
   "codemirror_mode": {
    "name": "ipython",
    "version": 2
   },
   "file_extension": ".py",
   "mimetype": "text/x-python",
   "name": "python",
   "nbconvert_exporter": "python",
   "pygments_lexer": "ipython2",
   "version": "2.7.13"
  }
 },
 "nbformat": 4,
 "nbformat_minor": 2
}
