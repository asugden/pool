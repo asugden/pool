{
 "cells": [
  {
   "cell_type": "code",
   "execution_count": 1,
   "metadata": {},
   "outputs": [
    {
     "name": "stdout",
     "output_type": "stream",
     "text": [
      "\n",
      "Jupyter connect hash:\n",
      "fraud\n",
      "\n",
      "To connect to current notebook:\n",
      "    $> jupyter console --existing kernel-a9c94ca4-5c5d-4480-a964-474c4399076a.json\n",
      "    \n",
      "\n",
      "Last run: 2018-10-29-21h29m17s\n"
     ]
    },
    {
     "name": "stderr",
     "output_type": "stream",
     "text": [
      "/usr/local/lib/python2.7/dist-packages/requests/__init__.py:91: RequestsDependencyWarning: urllib3 (1.23) or chardet (2.3.0) doesn't match a supported version!\n",
      "  RequestsDependencyWarning)\n"
     ]
    }
   ],
   "source": [
    "# %matplotlib notebook\n",
    "%matplotlib inline\n",
    "\n",
    "# %connect_info\n",
    "import flow.misc\n",
    "text = \"\"\"\n",
    "Jupyter connect hash:\n",
    "{word}\n",
    "\n",
    "To connect to current notebook:\n",
    "    $> jupyter console --existing {filename}\n",
    "    \n",
    "\"\"\"\n",
    "print(text.format(word=flow.misc.notebook_word(), filename=flow.misc.notebook_file(flow.misc.notebook_word())))\n",
    "print(\"Last run: {}\".format(flow.misc.timestamp()))"
   ]
  },
  {
   "cell_type": "code",
   "execution_count": 31,
   "metadata": {},
   "outputs": [],
   "source": [
    "import matplotlib.pyplot as plt\n",
    "import numpy as np\n",
    "import pandas as pd\n",
    "import seaborn as sns\n",
    "sns.set(context='notebook', style='darkgrid')\n",
    "# sns.set(context='talk', style='darkgrid')\n",
    "\n",
    "import flow\n",
    "import pool\n",
    "import jzap"
   ]
  },
  {
   "cell_type": "code",
   "execution_count": 32,
   "metadata": {},
   "outputs": [],
   "source": [
    "db = pool.database.db()"
   ]
  },
  {
   "cell_type": "markdown",
   "metadata": {},
   "source": [
    "## Testing GLM results"
   ]
  },
  {
   "cell_type": "code",
   "execution_count": 3,
   "metadata": {},
   "outputs": [
    {
     "data": {
      "text/plain": [
       "Date(mouse=OA205, date=180926, tags=(u'jeff',), photometry=())"
      ]
     },
     "execution_count": 3,
     "metadata": {},
     "output_type": "execute_result"
    }
   ],
   "source": [
    "date = flow.metadata.Date('OA205', 180926)\n",
    "glm = date.glm()\n",
    "date"
   ]
  },
  {
   "cell_type": "code",
   "execution_count": 4,
   "metadata": {},
   "outputs": [
    {
     "data": {
      "text/plain": [
       "['plus_correct',\n",
       " 'plus_correct',\n",
       " 'plus_correct',\n",
       " 'plus_correct',\n",
       " 'plus_correct',\n",
       " 'plus_correct',\n",
       " 'plus_correct',\n",
       " 'plus_correct',\n",
       " 'plus_miss',\n",
       " 'plus_miss',\n",
       " 'plus_miss',\n",
       " 'plus_miss',\n",
       " 'plus_miss',\n",
       " 'plus_miss',\n",
       " 'plus_miss',\n",
       " 'plus_miss',\n",
       " 'minus_correct',\n",
       " 'minus_correct',\n",
       " 'minus_correct',\n",
       " 'minus_correct',\n",
       " 'minus_correct',\n",
       " 'minus_correct',\n",
       " 'minus_correct',\n",
       " 'minus_correct',\n",
       " 'minus_miss',\n",
       " 'minus_miss',\n",
       " 'minus_miss',\n",
       " 'minus_miss',\n",
       " 'minus_miss',\n",
       " 'minus_miss',\n",
       " 'minus_miss',\n",
       " 'minus_miss',\n",
       " 'neutral_correct',\n",
       " 'neutral_correct',\n",
       " 'neutral_correct',\n",
       " 'neutral_correct',\n",
       " 'neutral_correct',\n",
       " 'neutral_correct',\n",
       " 'neutral_correct',\n",
       " 'neutral_correct',\n",
       " 'neutral_miss',\n",
       " 'neutral_miss',\n",
       " 'neutral_miss',\n",
       " 'neutral_miss',\n",
       " 'neutral_miss',\n",
       " 'neutral_miss',\n",
       " 'neutral_miss',\n",
       " 'neutral_miss',\n",
       " 'offset',\n",
       " 'offset',\n",
       " 'offset',\n",
       " 'offset',\n",
       " 'offset',\n",
       " 'offset',\n",
       " 'offset',\n",
       " 'offset',\n",
       " 'lick_onsets',\n",
       " 'lick_onsets',\n",
       " 'lick_onsets',\n",
       " 'lick_onsets',\n",
       " 'lick_onsets',\n",
       " 'lick_onsets',\n",
       " 'lick_onsets',\n",
       " 'lick_onsets',\n",
       " 'lick_onsets',\n",
       " 'lick_onsets',\n",
       " 'lick_onsets',\n",
       " 'lick_onsets',\n",
       " 'lick_others',\n",
       " 'ensure',\n",
       " 'ensure',\n",
       " 'ensure',\n",
       " 'ensure',\n",
       " 'ensure',\n",
       " 'ensure',\n",
       " 'ensure',\n",
       " 'ensure',\n",
       " 'ensure',\n",
       " 'ensure',\n",
       " 'ensure',\n",
       " 'ensure',\n",
       " 'quinine',\n",
       " 'quinine',\n",
       " 'quinine',\n",
       " 'quinine',\n",
       " 'quinine',\n",
       " 'quinine',\n",
       " 'quinine',\n",
       " 'quinine',\n",
       " 'quinine',\n",
       " 'quinine',\n",
       " 'quinine',\n",
       " 'quinine',\n",
       " 'brainmotion',\n",
       " 'running']"
      ]
     },
     "execution_count": 4,
     "metadata": {},
     "output_type": "execute_result"
    }
   ],
   "source": [
    "glm.groups()"
   ]
  },
  {
   "cell_type": "code",
   "execution_count": 17,
   "metadata": {},
   "outputs": [
    {
     "data": {
      "text/plain": [
       "(127,)"
      ]
     },
     "execution_count": 17,
     "metadata": {},
     "output_type": "execute_result"
    }
   ],
   "source": [
    "glm.labels()['ensure'].shape"
   ]
  },
  {
   "cell_type": "code",
   "execution_count": 6,
   "metadata": {},
   "outputs": [
    {
     "data": {
      "text/plain": [
       "array([0.00000000e+00, 5.71281769e-01, 1.96301841e+01, 0.00000000e+00,\n",
       "       0.00000000e+00, 0.00000000e+00, 0.00000000e+00, 0.00000000e+00,\n",
       "       0.00000000e+00, 0.00000000e+00, 7.26935926e-01, 0.00000000e+00,\n",
       "       0.00000000e+00, 0.00000000e+00, 0.00000000e+00, 7.98134110e-01,\n",
       "       0.00000000e+00, 0.00000000e+00, 0.00000000e+00, 0.00000000e+00,\n",
       "       0.00000000e+00, 9.70756491e-01, 0.00000000e+00, 2.77612650e+00,\n",
       "       0.00000000e+00, 0.00000000e+00, 0.00000000e+00, 6.58432853e-01,\n",
       "       0.00000000e+00, 0.00000000e+00, 0.00000000e+00, 0.00000000e+00,\n",
       "       2.62574985e-01, 1.21512331e-01, 7.44129332e+00, 0.00000000e+00,\n",
       "       0.00000000e+00, 2.08166905e-01, 0.00000000e+00, 1.05391027e+00,\n",
       "       0.00000000e+00, 5.25748995e-01, 0.00000000e+00, 0.00000000e+00,\n",
       "       0.00000000e+00, 0.00000000e+00, 0.00000000e+00, 0.00000000e+00,\n",
       "       2.88247567e-01, 0.00000000e+00, 0.00000000e+00, 0.00000000e+00,\n",
       "       0.00000000e+00, 0.00000000e+00, 0.00000000e+00, 1.28200689e-01,\n",
       "       0.00000000e+00, 3.42681057e-01, 0.00000000e+00, 0.00000000e+00,\n",
       "       0.00000000e+00, 0.00000000e+00, 0.00000000e+00, 0.00000000e+00,\n",
       "       3.06336236e-02, 0.00000000e+00, 1.28188232e-01, 0.00000000e+00,\n",
       "       0.00000000e+00, 1.41948279e-01, 0.00000000e+00, 1.36425423e-01,\n",
       "       0.00000000e+00, 0.00000000e+00, 0.00000000e+00, 1.31152908e-01,\n",
       "       0.00000000e+00, 8.82331270e-01, 0.00000000e+00, 0.00000000e+00,\n",
       "       0.00000000e+00, 0.00000000e+00, 0.00000000e+00, 0.00000000e+00,\n",
       "       0.00000000e+00, 0.00000000e+00, 0.00000000e+00, 5.06030255e-01,\n",
       "       0.00000000e+00, 0.00000000e+00, 0.00000000e+00, 5.10527637e-01,\n",
       "       0.00000000e+00, 1.54727750e-01, 4.60293093e-03, 2.57724446e-01,\n",
       "       0.00000000e+00, 0.00000000e+00, 0.00000000e+00, 0.00000000e+00,\n",
       "       0.00000000e+00, 1.23237210e+00, 0.00000000e+00, 0.00000000e+00,\n",
       "       3.04130865e-01, 0.00000000e+00, 0.00000000e+00, 0.00000000e+00,\n",
       "       6.54731412e-01, 4.50692138e-02, 0.00000000e+00, 1.89693545e-02,\n",
       "       0.00000000e+00, 4.92448195e-01, 0.00000000e+00, 0.00000000e+00,\n",
       "       0.00000000e+00, 4.07233306e-01, 0.00000000e+00, 4.16867343e-01,\n",
       "       8.37560137e-01, 0.00000000e+00, 0.00000000e+00, 0.00000000e+00,\n",
       "       4.16192372e-01, 0.00000000e+00, 8.03773955e-01])"
      ]
     },
     "execution_count": 6,
     "metadata": {},
     "output_type": "execute_result"
    }
   ],
   "source": [
    "glm.devexp[:, 1]"
   ]
  },
  {
   "cell_type": "code",
   "execution_count": 16,
   "metadata": {},
   "outputs": [
    {
     "data": {
      "text/plain": [
       "(127,)"
      ]
     },
     "execution_count": 16,
     "metadata": {},
     "output_type": "execute_result"
    }
   ],
   "source": [
    "glm.vectors(hz=15.49)['ensure'].shape"
   ]
  },
  {
   "cell_type": "code",
   "execution_count": 20,
   "metadata": {},
   "outputs": [
    {
     "data": {
      "text/plain": [
       "['quinine-multiplexed',\n",
       " 'minus-only',\n",
       " 'ensure-only',\n",
       " 'lick',\n",
       " 'undefined',\n",
       " 'quinine',\n",
       " 'minus-multiplexed',\n",
       " 'neutral-only',\n",
       " 'plus-only',\n",
       " 'quinine-only',\n",
       " 'ensure-multiplexed',\n",
       " 'neutral',\n",
       " 'ensure',\n",
       " 'plus-multiplexed',\n",
       " 'plus',\n",
       " 'multiplexed',\n",
       " 'minus',\n",
       " 'neutral-multiplexed']"
      ]
     },
     "execution_count": 20,
     "metadata": {},
     "output_type": "execute_result"
    }
   ],
   "source": [
    "glm.labels().keys()"
   ]
  },
  {
   "cell_type": "code",
   "execution_count": 22,
   "metadata": {},
   "outputs": [
    {
     "data": {
      "text/plain": [
       "3"
      ]
     },
     "execution_count": 22,
     "metadata": {},
     "output_type": "execute_result"
    }
   ],
   "source": [
    "glm.labels()['plus-only'].sum()"
   ]
  },
  {
   "cell_type": "code",
   "execution_count": 23,
   "metadata": {},
   "outputs": [
    {
     "data": {
      "text/plain": [
       "3"
      ]
     },
     "execution_count": 23,
     "metadata": {},
     "output_type": "execute_result"
    }
   ],
   "source": [
    "glm.labels()['ensure-only'].sum()"
   ]
  },
  {
   "cell_type": "code",
   "execution_count": 24,
   "metadata": {},
   "outputs": [
    {
     "data": {
      "text/plain": [
       "19"
      ]
     },
     "execution_count": 24,
     "metadata": {},
     "output_type": "execute_result"
    }
   ],
   "source": [
    "glm.labels()['ensure-multiplexed'].sum()"
   ]
  },
  {
   "cell_type": "code",
   "execution_count": 25,
   "metadata": {},
   "outputs": [
    {
     "data": {
      "text/plain": [
       "28"
      ]
     },
     "execution_count": 25,
     "metadata": {},
     "output_type": "execute_result"
    }
   ],
   "source": [
    "glm.labels()['plus-multiplexed'].sum()"
   ]
  },
  {
   "cell_type": "code",
   "execution_count": 28,
   "metadata": {},
   "outputs": [
    {
     "data": {
      "text/plain": [
       "22"
      ]
     },
     "execution_count": 28,
     "metadata": {},
     "output_type": "execute_result"
    }
   ],
   "source": [
    "glm.labels()['ensure'].sum()"
   ]
  },
  {
   "cell_type": "code",
   "execution_count": 29,
   "metadata": {},
   "outputs": [
    {
     "data": {
      "text/plain": [
       "31"
      ]
     },
     "execution_count": 29,
     "metadata": {},
     "output_type": "execute_result"
    }
   ],
   "source": [
    "glm.labels()['plus'].sum()"
   ]
  },
  {
   "cell_type": "markdown",
   "metadata": {},
   "source": [
    "## Responses over time"
   ]
  },
  {
   "cell_type": "code",
   "execution_count": 61,
   "metadata": {},
   "outputs": [],
   "source": [
    "mouse = flow.metadata.Mouse('OA205')\n",
    "label_list = []\n",
    "for date in mouse.dates():\n",
    "    glm = date.glm()\n",
    "    plus = glm.labels()['plus']\n",
    "    neutral = glm.labels()['neutral']\n",
    "    minus = glm.labels()['minus']\n",
    "    ensure = glm.labels()['ensure']\n",
    "    vdrive_plus = db.get('vdrive_plus', date.mouse, date.date)\n",
    "    label_list.append({'mouse': date.mouse,\n",
    "                       'date': date.date,\n",
    "                       'date_str': str(date.date),\n",
    "                       'plus': plus.sum() / float(len(plus)),\n",
    "                       'neutral': neutral.sum() / float(len(neutral)),\n",
    "                       'minus': minus.sum() / float(len(minus)),\n",
    "                       'ensure': ensure.sum() / float(len(ensure)),\n",
    "                       'vdrive_plus': (vdrive_plus > 50).sum() / float(len(vdrive_plus)),\n",
    "                       'plus-ensure': (plus & ensure).sum() / float(len(ensure)),\n",
    "                       'vdrive_plus_ensure': ((vdrive_plus > 50) & ensure).sum() / float(len(ensure))})\n",
    "label_df = pd.DataFrame(label_list)\n",
    "label_df_long = label_df.melt(id_vars=['mouse', 'date', 'date_str'])"
   ]
  },
  {
   "cell_type": "code",
   "execution_count": 62,
   "metadata": {},
   "outputs": [
    {
     "data": {
      "text/plain": [
       "<matplotlib.axes._subplots.AxesSubplot at 0x7f5bc4454e10>"
      ]
     },
     "execution_count": 62,
     "metadata": {},
     "output_type": "execute_result"
    },
    {
     "data": {
      "image/png": "[encoded data removed]",
      "text/plain": [
       "<Figure size 432x288 with 1 Axes>"
      ]
     },
     "metadata": {},
     "output_type": "display_data"
    }
   ],
   "source": [
    "plt.figure()\n",
    "sns.lineplot('date_str', 'value', data=label_df_long[label_df_long.variable.isin(['plus', 'ensure', 'plus-ensure'])], hue='variable', palette=pool.config.colors())"
   ]
  },
  {
   "cell_type": "code",
   "execution_count": null,
   "metadata": {},
   "outputs": [],
   "source": []
  }
 ],
 "metadata": {
  "kernelspec": {
   "display_name": "Python 2",
   "language": "python",
   "name": "python2"
  },
  "language_info": {
   "codemirror_mode": {
    "name": "ipython",
    "version": 2
   },
   "file_extension": ".py",
   "mimetype": "text/x-python",
   "name": "python",
   "nbconvert_exporter": "python",
   "pygments_lexer": "ipython2",
   "version": "2.7.13"
  }
 },
 "nbformat": 4,
 "nbformat_minor": 2
}
